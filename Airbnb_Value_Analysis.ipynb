{
  "nbformat": 4,
  "nbformat_minor": 0,
  "metadata": {
    "colab": {
      "provenance": [],
      "collapsed_sections": [],
      "toc_visible": true
    },
    "kernelspec": {
      "name": "python3",
      "display_name": "Python 3"
    },
    "language_info": {
      "name": "python"
    }
  },
  "cells": [
    {
      "cell_type": "markdown",
      "source": [
        "# Airbnb Value Rating: What are the influential factors?"
      ],
      "metadata": {
        "id": "QbAg29hC3Qhh"
      }
    },
    {
      "cell_type": "markdown",
      "source": [
        "<img src=\"https://s3.amazonaws.com/blog4.0/blog/wp-content/uploads/Feature-Image_The-Ultimate-Guide-to-Airbnb-Reviews@2x-2048x1195.png\" width=600>"
      ],
      "metadata": {
        "id": "nSfrMP474m5g"
      }
    },
    {
      "cell_type": "markdown",
      "source": [
        "**1. Target audience:** on-going/ first-time Airbnb hosts in Los Angeles <br>\n",
        "**2. Metric:** Value rating score <br>\n",
        "**3. Flow of analysis:** <br>\n",
        "Find out the factors that impact the value rating score, including:\n",
        "- Size of listing\n",
        "- Competitive rate\n",
        "- Number of properties managed\n",
        "- Amenities"
      ],
      "metadata": {
        "id": "gzvdEdeZ47Gb"
      }
    },
    {
      "cell_type": "markdown",
      "source": [
        "## Python libraries and data import"
      ],
      "metadata": {
        "id": "xcoQL7Qsf3mh"
      }
    },
    {
      "cell_type": "markdown",
      "source": [
        "### Import relevant Python libraries and adjust initial settings"
      ],
      "metadata": {
        "id": "f4CpWjgy6Eis"
      }
    },
    {
      "cell_type": "code",
      "source": [
        "# Import libraries\n",
        "import pandas as pd\n",
        "import matplotlib.pyplot as plt \n",
        "import seaborn as sns\n",
        "import numpy as np \n",
        "import gzip\n",
        "import re"
      ],
      "metadata": {
        "id": "JfBr7FhKf5A3"
      },
      "execution_count": null,
      "outputs": []
    },
    {
      "cell_type": "code",
      "source": [
        "pip install geopandas"
      ],
      "metadata": {
        "id": "nhXnA2m0gMxT",
        "colab": {
          "base_uri": "https://localhost:8080/"
        },
        "outputId": "2c839347-530a-4ecf-bd3a-f5ca66d9fe31"
      },
      "execution_count": null,
      "outputs": [
        {
          "output_type": "stream",
          "name": "stdout",
          "text": [
            "Looking in indexes: https://pypi.org/simple, https://us-python.pkg.dev/colab-wheels/public/simple/\n",
            "Collecting geopandas\n",
            "  Downloading geopandas-0.10.2-py2.py3-none-any.whl (1.0 MB)\n",
            "\u001b[K     |████████████████████████████████| 1.0 MB 8.2 MB/s \n",
            "\u001b[?25hRequirement already satisfied: shapely>=1.6 in /usr/local/lib/python3.7/dist-packages (from geopandas) (1.8.2)\n",
            "Collecting pyproj>=2.2.0\n",
            "  Downloading pyproj-3.2.1-cp37-cp37m-manylinux2010_x86_64.whl (6.3 MB)\n",
            "\u001b[K     |████████████████████████████████| 6.3 MB 50.3 MB/s \n",
            "\u001b[?25hRequirement already satisfied: pandas>=0.25.0 in /usr/local/lib/python3.7/dist-packages (from geopandas) (1.3.5)\n",
            "Collecting fiona>=1.8\n",
            "  Downloading Fiona-1.8.21-cp37-cp37m-manylinux2014_x86_64.whl (16.7 MB)\n",
            "\u001b[K     |████████████████████████████████| 16.7 MB 23.5 MB/s \n",
            "\u001b[?25hRequirement already satisfied: attrs>=17 in /usr/local/lib/python3.7/dist-packages (from fiona>=1.8->geopandas) (22.1.0)\n",
            "Requirement already satisfied: certifi in /usr/local/lib/python3.7/dist-packages (from fiona>=1.8->geopandas) (2022.6.15)\n",
            "Requirement already satisfied: setuptools in /usr/local/lib/python3.7/dist-packages (from fiona>=1.8->geopandas) (57.4.0)\n",
            "Collecting munch\n",
            "  Downloading munch-2.5.0-py2.py3-none-any.whl (10 kB)\n",
            "Requirement already satisfied: click>=4.0 in /usr/local/lib/python3.7/dist-packages (from fiona>=1.8->geopandas) (7.1.2)\n",
            "Collecting click-plugins>=1.0\n",
            "  Downloading click_plugins-1.1.1-py2.py3-none-any.whl (7.5 kB)\n",
            "Collecting cligj>=0.5\n",
            "  Downloading cligj-0.7.2-py3-none-any.whl (7.1 kB)\n",
            "Requirement already satisfied: six>=1.7 in /usr/local/lib/python3.7/dist-packages (from fiona>=1.8->geopandas) (1.15.0)\n",
            "Requirement already satisfied: pytz>=2017.3 in /usr/local/lib/python3.7/dist-packages (from pandas>=0.25.0->geopandas) (2022.1)\n",
            "Requirement already satisfied: python-dateutil>=2.7.3 in /usr/local/lib/python3.7/dist-packages (from pandas>=0.25.0->geopandas) (2.8.2)\n",
            "Requirement already satisfied: numpy>=1.17.3 in /usr/local/lib/python3.7/dist-packages (from pandas>=0.25.0->geopandas) (1.21.6)\n",
            "Installing collected packages: munch, cligj, click-plugins, pyproj, fiona, geopandas\n",
            "Successfully installed click-plugins-1.1.1 cligj-0.7.2 fiona-1.8.21 geopandas-0.10.2 munch-2.5.0 pyproj-3.2.1\n"
          ]
        }
      ]
    },
    {
      "cell_type": "code",
      "source": [
        "import geopandas as gpd"
      ],
      "metadata": {
        "id": "6VefjFh8f-3W"
      },
      "execution_count": null,
      "outputs": []
    },
    {
      "cell_type": "code",
      "source": [
        "pd.options.display.max_columns = None"
      ],
      "metadata": {
        "id": "9NsROeQ9gH2Q"
      },
      "execution_count": null,
      "outputs": []
    },
    {
      "cell_type": "code",
      "source": [
        "sns.set_theme(style='whitegrid')"
      ],
      "metadata": {
        "id": "gr7iqwcrgVAM"
      },
      "execution_count": null,
      "outputs": []
    },
    {
      "cell_type": "markdown",
      "source": [
        "### Import datasets"
      ],
      "metadata": {
        "id": "pmpPIyNO6P-1"
      }
    },
    {
      "cell_type": "markdown",
      "source": [
        "Import main dataset called `listings.csv.gz` and assign data to a shorten name called `df`"
      ],
      "metadata": {
        "id": "BGfBpQVz6zMd"
      }
    },
    {
      "cell_type": "code",
      "source": [
        "#! wget http://data.insideairbnb.com/united-states/ca/los-angeles/2022-06-06/data/listings.csv.gz -P '/content/drive/MyDrive/Mid-term Project'"
      ],
      "metadata": {
        "id": "Rbl4ALTbgWRV"
      },
      "execution_count": null,
      "outputs": []
    },
    {
      "cell_type": "code",
      "source": [
        "with gzip.open('/content/drive/MyDrive/Mid-term Project/listings.csv.gz') as a:\n",
        "    df = pd.read_csv(a)"
      ],
      "metadata": {
        "id": "GclG_uxkgt8t"
      },
      "execution_count": null,
      "outputs": []
    },
    {
      "cell_type": "markdown",
      "source": [
        "Import geojson file type of `neighbourhoods` in Los Angeles"
      ],
      "metadata": {
        "id": "vqOTV_bY68-M"
      }
    },
    {
      "cell_type": "code",
      "source": [
        "#! wget http://data.insideairbnb.com/united-states/ca/los-angeles/2022-06-06/visualisations/neighbourhoods.geojson -P '/content/drive/MyDrive/Mid-term Project'"
      ],
      "metadata": {
        "id": "b48J9XE_gk3I"
      },
      "execution_count": null,
      "outputs": []
    },
    {
      "cell_type": "code",
      "source": [
        "neighbourhoods = gpd.read_file('/content/drive/MyDrive/Mid-term Project/neighbourhoods.geojson')\n",
        "print(neighbourhoods.head())"
      ],
      "metadata": {
        "colab": {
          "base_uri": "https://localhost:8080/"
        },
        "id": "V8AS1gW3gzFX",
        "outputId": "079176e6-2f46-4782-ba63-dad8dcfbdb76"
      },
      "execution_count": null,
      "outputs": [
        {
          "output_type": "stream",
          "name": "stdout",
          "text": [
            "   neighbourhood   neighbourhood_group  \\\n",
            "0  Angeles Crest  Unincorporated Areas   \n",
            "1          Acton  Unincorporated Areas   \n",
            "2     Agua Dulce  Unincorporated Areas   \n",
            "3         Athens  Unincorporated Areas   \n",
            "4   Alondra Park  Unincorporated Areas   \n",
            "\n",
            "                                            geometry  \n",
            "0  MULTIPOLYGON (((-118.09667 34.47348, -118.0796...  \n",
            "1  MULTIPOLYGON (((-118.20703 34.53902, -118.1894...  \n",
            "2  MULTIPOLYGON (((-118.37822 34.48811, -118.3783...  \n",
            "3  MULTIPOLYGON (((-118.29152 33.93096, -118.2916...  \n",
            "4  MULTIPOLYGON (((-118.32651 33.89757, -118.3264...  \n"
          ]
        }
      ]
    },
    {
      "cell_type": "markdown",
      "source": [
        "## Data wrangling"
      ],
      "metadata": {
        "id": "jP4R6LqthsqA"
      }
    },
    {
      "cell_type": "markdown",
      "source": [
        "The overall process of this step is described by following points:\n",
        "- Cleaning and String processing\n",
        "- Correcting data type of some variables\n",
        "- Renaming columns to a shorter form\n",
        "- Missing data"
      ],
      "metadata": {
        "id": "l5fFqSU371Fv"
      }
    },
    {
      "cell_type": "code",
      "source": [
        "# Clean and correct data type of variable: price\n",
        "df['price'] = df['price'].str.strip('$')\n",
        "df['price'] = df['price'].str.replace(',','').astype('float')"
      ],
      "metadata": {
        "id": "aNVHW13Wh0y-"
      },
      "execution_count": null,
      "outputs": []
    },
    {
      "cell_type": "code",
      "source": [
        "# String processing of variable: amenities\n",
        "df['amenities'] = df['amenities'].str.replace('[','').str.replace(']','')"
      ],
      "metadata": {
        "colab": {
          "base_uri": "https://localhost:8080/"
        },
        "id": "EXraSNhCimWc",
        "outputId": "e10c4ae0-1c2a-4d8e-fe28-9a60ed8ffc6a"
      },
      "execution_count": null,
      "outputs": [
        {
          "output_type": "stream",
          "name": "stderr",
          "text": [
            "/usr/local/lib/python3.7/dist-packages/ipykernel_launcher.py:2: FutureWarning: The default value of regex will change from True to False in a future version. In addition, single character regular expressions will *not* be treated as literal strings when regex=True.\n",
            "  \n"
          ]
        }
      ]
    },
    {
      "cell_type": "code",
      "source": [
        "# Rename some columns to a shorter form\n",
        "rename_col = {'neighborhood_overview': 'neighbourhood_overview',\n",
        "              'host_is_superhost': 'superhost',\n",
        "              'neighbourhood_cleansed': 'neighbourhood_city', \n",
        "              'neighbourhood_group_cleansed': 'neighbourhood_group', \n",
        "              'host_response_time': 'rep_time', \n",
        "              'host_response_rate': 'rep_rate',\n",
        "              'host_acceptance_rate': 'accept_rate', \n",
        "              'review_scores_rating': 'rs_overall',\n",
        "              'review_scores_accuracy': 'rs_accuracy',\n",
        "              'review_scores_cleanliness': 'rs_cleanliness',\n",
        "              'review_scores_checkin': 'rs_checkin',\n",
        "              'review_scores_communication': 'rs_communication',\n",
        "              'review_scores_location': 'rs_location',\n",
        "              'review_scores_value': 'rs_value'}\n",
        "\n",
        "df = df.rename(columns=rename_col)"
      ],
      "metadata": {
        "id": "qLdwNjFKioJX"
      },
      "execution_count": null,
      "outputs": []
    },
    {
      "cell_type": "code",
      "source": [
        "# Drop missing rating score\n",
        "df = df.dropna(subset=['rs_overall', 'rs_accuracy', 'rs_cleanliness', 'rs_checkin', 'rs_communication', 'rs_location', 'rs_value'])"
      ],
      "metadata": {
        "id": "wIbgK-XTipwZ"
      },
      "execution_count": null,
      "outputs": []
    },
    {
      "cell_type": "markdown",
      "source": [
        "Besides, we also need to limit the overall data to get the correct insights based on the analysis target"
      ],
      "metadata": {
        "id": "gOILfd0m9LhZ"
      }
    },
    {
      "cell_type": "code",
      "source": [
        "# Limit data of listings that have at least more than 1 review\n",
        "df = df[df['number_of_reviews'] > 1]"
      ],
      "metadata": {
        "id": "aiZDRY0Ii03S"
      },
      "execution_count": null,
      "outputs": []
    },
    {
      "cell_type": "code",
      "source": [
        "# Limit data to short term rental listings only\n",
        "# As definition of Airbnb, long term rental are 28 days or longer\n",
        "df = df[(df['minimum_nights'] > 0) & (df['minimum_nights'] < 28)]"
      ],
      "metadata": {
        "id": "uQFS5XPEi2B8"
      },
      "execution_count": null,
      "outputs": []
    },
    {
      "cell_type": "code",
      "source": [
        "df['count_amenities'] = df['amenities'].apply(lambda x: len(re.split('\", \"',x)))"
      ],
      "metadata": {
        "id": "-h2DiUQ317Rb"
      },
      "execution_count": null,
      "outputs": []
    },
    {
      "cell_type": "code",
      "source": [
        "df.shape"
      ],
      "metadata": {
        "colab": {
          "base_uri": "https://localhost:8080/"
        },
        "id": "Dtw7NJerAD0n",
        "outputId": "78261db1-6b63-4cdf-e819-e0c513a0cbd6"
      },
      "execution_count": null,
      "outputs": [
        {
          "output_type": "execute_result",
          "data": {
            "text/plain": [
              "(17199, 75)"
            ]
          },
          "metadata": {},
          "execution_count": 17
        }
      ]
    },
    {
      "cell_type": "markdown",
      "source": [
        "After limiting the data, there are 17,199 rows till now. "
      ],
      "metadata": {
        "id": "JGHgGlLvAIU5"
      }
    },
    {
      "cell_type": "markdown",
      "source": [
        "## Insights"
      ],
      "metadata": {
        "id": "46dtNWZljAy5"
      }
    },
    {
      "cell_type": "markdown",
      "source": [
        "### Size of listing"
      ],
      "metadata": {
        "id": "C7fG5lOxjmoY"
      }
    },
    {
      "cell_type": "markdown",
      "source": [
        "The definition of listing size here is used along with variable called `accommodates`, which is defined as the maximum capacity of the listing.\n"
      ],
      "metadata": {
        "id": "QGH_jk4a-hhX"
      }
    },
    {
      "cell_type": "markdown",
      "source": [
        "Firstly, let's have a look on the distribution of this variable:"
      ],
      "metadata": {
        "id": "kTICYSCA-dNd"
      }
    },
    {
      "cell_type": "code",
      "source": [
        "df['accommodates'].describe()"
      ],
      "metadata": {
        "id": "pwY3xSjzWNom",
        "outputId": "6011ac89-ef29-43e8-ea1e-f8f8e58855f9",
        "colab": {
          "base_uri": "https://localhost:8080/"
        }
      },
      "execution_count": null,
      "outputs": [
        {
          "output_type": "execute_result",
          "data": {
            "text/plain": [
              "count    17199.000000\n",
              "mean         4.429385\n",
              "std          3.051426\n",
              "min          0.000000\n",
              "25%          2.000000\n",
              "50%          4.000000\n",
              "75%          6.000000\n",
              "max         16.000000\n",
              "Name: accommodates, dtype: float64"
            ]
          },
          "metadata": {},
          "execution_count": 18
        }
      ]
    },
    {
      "cell_type": "markdown",
      "source": [
        "Then, we again limit the dataset which contains maximum capacity from at least 1 and above, and assign to `df_size`"
      ],
      "metadata": {
        "id": "rq5niG78_-o1"
      }
    },
    {
      "cell_type": "code",
      "source": [
        "# Limit accommodates to at least 1 and above\n",
        "df_size = df[df['accommodates'] > 0]"
      ],
      "metadata": {
        "id": "HctcrViei35U"
      },
      "execution_count": null,
      "outputs": []
    },
    {
      "cell_type": "markdown",
      "source": [
        "Instead of plotting every single points (between `accommodates` and `rs_value`) to the graph, in order to see a much clearer picture, we will group all the points for each value of one variable by the aggregation of the metric. <br>\n",
        "\n",
        "For example, as `accommodates` of the dataset varies from 1 to 16, we first group all observations of `accommodates` as 1 by calculating the median of value rating of these observations. As a result, we will get 4.83 as the median rating score for all observations of `accommodates` = 1."
      ],
      "metadata": {
        "id": "KF4QmKxeuW-Q"
      }
    },
    {
      "cell_type": "code",
      "source": [
        "# Group accommodates with aggregation of value rating and assign to: plot_acc\n",
        "plot_acc = df_size.groupby('accommodates').agg({'rs_value':'median', 'id':'count'}).reset_index()\n",
        "plot_acc"
      ],
      "metadata": {
        "colab": {
          "base_uri": "https://localhost:8080/",
          "height": 551
        },
        "id": "OATqlk7_jGaN",
        "outputId": "ca11790f-be7a-4b0a-f025-5296004f2658"
      },
      "execution_count": null,
      "outputs": [
        {
          "output_type": "execute_result",
          "data": {
            "text/plain": [
              "    accommodates  rs_value    id\n",
              "0              1     4.830  1206\n",
              "1              2     4.840  5506\n",
              "2              3     4.810  1205\n",
              "3              4     4.790  2986\n",
              "4              5     4.780   910\n",
              "5              6     4.750  2105\n",
              "6              7     4.750   448\n",
              "7              8     4.770  1281\n",
              "8              9     4.780   211\n",
              "9             10     4.770   597\n",
              "10            11     4.750    69\n",
              "11            12     4.770   272\n",
              "12            13     4.775    56\n",
              "13            14     4.805   110\n",
              "14            15     4.725    64\n",
              "15            16     4.750   170"
            ],
            "text/html": [
              "\n",
              "  <div id=\"df-eadb2d65-4a48-41f7-833e-56cad5d2bf1f\">\n",
              "    <div class=\"colab-df-container\">\n",
              "      <div>\n",
              "<style scoped>\n",
              "    .dataframe tbody tr th:only-of-type {\n",
              "        vertical-align: middle;\n",
              "    }\n",
              "\n",
              "    .dataframe tbody tr th {\n",
              "        vertical-align: top;\n",
              "    }\n",
              "\n",
              "    .dataframe thead th {\n",
              "        text-align: right;\n",
              "    }\n",
              "</style>\n",
              "<table border=\"1\" class=\"dataframe\">\n",
              "  <thead>\n",
              "    <tr style=\"text-align: right;\">\n",
              "      <th></th>\n",
              "      <th>accommodates</th>\n",
              "      <th>rs_value</th>\n",
              "      <th>id</th>\n",
              "    </tr>\n",
              "  </thead>\n",
              "  <tbody>\n",
              "    <tr>\n",
              "      <th>0</th>\n",
              "      <td>1</td>\n",
              "      <td>4.830</td>\n",
              "      <td>1206</td>\n",
              "    </tr>\n",
              "    <tr>\n",
              "      <th>1</th>\n",
              "      <td>2</td>\n",
              "      <td>4.840</td>\n",
              "      <td>5506</td>\n",
              "    </tr>\n",
              "    <tr>\n",
              "      <th>2</th>\n",
              "      <td>3</td>\n",
              "      <td>4.810</td>\n",
              "      <td>1205</td>\n",
              "    </tr>\n",
              "    <tr>\n",
              "      <th>3</th>\n",
              "      <td>4</td>\n",
              "      <td>4.790</td>\n",
              "      <td>2986</td>\n",
              "    </tr>\n",
              "    <tr>\n",
              "      <th>4</th>\n",
              "      <td>5</td>\n",
              "      <td>4.780</td>\n",
              "      <td>910</td>\n",
              "    </tr>\n",
              "    <tr>\n",
              "      <th>5</th>\n",
              "      <td>6</td>\n",
              "      <td>4.750</td>\n",
              "      <td>2105</td>\n",
              "    </tr>\n",
              "    <tr>\n",
              "      <th>6</th>\n",
              "      <td>7</td>\n",
              "      <td>4.750</td>\n",
              "      <td>448</td>\n",
              "    </tr>\n",
              "    <tr>\n",
              "      <th>7</th>\n",
              "      <td>8</td>\n",
              "      <td>4.770</td>\n",
              "      <td>1281</td>\n",
              "    </tr>\n",
              "    <tr>\n",
              "      <th>8</th>\n",
              "      <td>9</td>\n",
              "      <td>4.780</td>\n",
              "      <td>211</td>\n",
              "    </tr>\n",
              "    <tr>\n",
              "      <th>9</th>\n",
              "      <td>10</td>\n",
              "      <td>4.770</td>\n",
              "      <td>597</td>\n",
              "    </tr>\n",
              "    <tr>\n",
              "      <th>10</th>\n",
              "      <td>11</td>\n",
              "      <td>4.750</td>\n",
              "      <td>69</td>\n",
              "    </tr>\n",
              "    <tr>\n",
              "      <th>11</th>\n",
              "      <td>12</td>\n",
              "      <td>4.770</td>\n",
              "      <td>272</td>\n",
              "    </tr>\n",
              "    <tr>\n",
              "      <th>12</th>\n",
              "      <td>13</td>\n",
              "      <td>4.775</td>\n",
              "      <td>56</td>\n",
              "    </tr>\n",
              "    <tr>\n",
              "      <th>13</th>\n",
              "      <td>14</td>\n",
              "      <td>4.805</td>\n",
              "      <td>110</td>\n",
              "    </tr>\n",
              "    <tr>\n",
              "      <th>14</th>\n",
              "      <td>15</td>\n",
              "      <td>4.725</td>\n",
              "      <td>64</td>\n",
              "    </tr>\n",
              "    <tr>\n",
              "      <th>15</th>\n",
              "      <td>16</td>\n",
              "      <td>4.750</td>\n",
              "      <td>170</td>\n",
              "    </tr>\n",
              "  </tbody>\n",
              "</table>\n",
              "</div>\n",
              "      <button class=\"colab-df-convert\" onclick=\"convertToInteractive('df-eadb2d65-4a48-41f7-833e-56cad5d2bf1f')\"\n",
              "              title=\"Convert this dataframe to an interactive table.\"\n",
              "              style=\"display:none;\">\n",
              "        \n",
              "  <svg xmlns=\"http://www.w3.org/2000/svg\" height=\"24px\"viewBox=\"0 0 24 24\"\n",
              "       width=\"24px\">\n",
              "    <path d=\"M0 0h24v24H0V0z\" fill=\"none\"/>\n",
              "    <path d=\"M18.56 5.44l.94 2.06.94-2.06 2.06-.94-2.06-.94-.94-2.06-.94 2.06-2.06.94zm-11 1L8.5 8.5l.94-2.06 2.06-.94-2.06-.94L8.5 2.5l-.94 2.06-2.06.94zm10 10l.94 2.06.94-2.06 2.06-.94-2.06-.94-.94-2.06-.94 2.06-2.06.94z\"/><path d=\"M17.41 7.96l-1.37-1.37c-.4-.4-.92-.59-1.43-.59-.52 0-1.04.2-1.43.59L10.3 9.45l-7.72 7.72c-.78.78-.78 2.05 0 2.83L4 21.41c.39.39.9.59 1.41.59.51 0 1.02-.2 1.41-.59l7.78-7.78 2.81-2.81c.8-.78.8-2.07 0-2.86zM5.41 20L4 18.59l7.72-7.72 1.47 1.35L5.41 20z\"/>\n",
              "  </svg>\n",
              "      </button>\n",
              "      \n",
              "  <style>\n",
              "    .colab-df-container {\n",
              "      display:flex;\n",
              "      flex-wrap:wrap;\n",
              "      gap: 12px;\n",
              "    }\n",
              "\n",
              "    .colab-df-convert {\n",
              "      background-color: #E8F0FE;\n",
              "      border: none;\n",
              "      border-radius: 50%;\n",
              "      cursor: pointer;\n",
              "      display: none;\n",
              "      fill: #1967D2;\n",
              "      height: 32px;\n",
              "      padding: 0 0 0 0;\n",
              "      width: 32px;\n",
              "    }\n",
              "\n",
              "    .colab-df-convert:hover {\n",
              "      background-color: #E2EBFA;\n",
              "      box-shadow: 0px 1px 2px rgba(60, 64, 67, 0.3), 0px 1px 3px 1px rgba(60, 64, 67, 0.15);\n",
              "      fill: #174EA6;\n",
              "    }\n",
              "\n",
              "    [theme=dark] .colab-df-convert {\n",
              "      background-color: #3B4455;\n",
              "      fill: #D2E3FC;\n",
              "    }\n",
              "\n",
              "    [theme=dark] .colab-df-convert:hover {\n",
              "      background-color: #434B5C;\n",
              "      box-shadow: 0px 1px 3px 1px rgba(0, 0, 0, 0.15);\n",
              "      filter: drop-shadow(0px 1px 2px rgba(0, 0, 0, 0.3));\n",
              "      fill: #FFFFFF;\n",
              "    }\n",
              "  </style>\n",
              "\n",
              "      <script>\n",
              "        const buttonEl =\n",
              "          document.querySelector('#df-eadb2d65-4a48-41f7-833e-56cad5d2bf1f button.colab-df-convert');\n",
              "        buttonEl.style.display =\n",
              "          google.colab.kernel.accessAllowed ? 'block' : 'none';\n",
              "\n",
              "        async function convertToInteractive(key) {\n",
              "          const element = document.querySelector('#df-eadb2d65-4a48-41f7-833e-56cad5d2bf1f');\n",
              "          const dataTable =\n",
              "            await google.colab.kernel.invokeFunction('convertToInteractive',\n",
              "                                                     [key], {});\n",
              "          if (!dataTable) return;\n",
              "\n",
              "          const docLinkHtml = 'Like what you see? Visit the ' +\n",
              "            '<a target=\"_blank\" href=https://colab.research.google.com/notebooks/data_table.ipynb>data table notebook</a>'\n",
              "            + ' to learn more about interactive tables.';\n",
              "          element.innerHTML = '';\n",
              "          dataTable['output_type'] = 'display_data';\n",
              "          await google.colab.output.renderOutput(dataTable, element);\n",
              "          const docLink = document.createElement('div');\n",
              "          docLink.innerHTML = docLinkHtml;\n",
              "          element.appendChild(docLink);\n",
              "        }\n",
              "      </script>\n",
              "    </div>\n",
              "  </div>\n",
              "  "
            ]
          },
          "metadata": {},
          "execution_count": 20
        }
      ]
    },
    {
      "cell_type": "markdown",
      "source": [
        "Now, we can plot above this table into the regression plot to see whether there is any trends existed. "
      ],
      "metadata": {
        "id": "f2ZWGk4dwD0r"
      }
    },
    {
      "cell_type": "code",
      "source": [
        "plt.figure(figsize=(10,7))\n",
        "sns.regplot(data=plot_acc, x='accommodates', y='rs_value', color='tomato')\n",
        "plt.title('Correlation between Accommodates and Value rating score')\n",
        "plt.xlabel('Maximum capacity of guest (guests)')\n",
        "plt.ylabel('Value rating score (points)')\n",
        "plt.show()"
      ],
      "metadata": {
        "colab": {
          "base_uri": "https://localhost:8080/",
          "height": 464
        },
        "id": "7CQaVqxcW1PK",
        "outputId": "9c16afb2-2a3a-4cef-dce6-c8e6df372ed4"
      },
      "execution_count": null,
      "outputs": [
        {
          "output_type": "display_data",
          "data": {
            "text/plain": [
              "<Figure size 720x504 with 1 Axes>"
            ],
            "image/png": "[encoded data removed]"
          },
          "metadata": {}
        }
      ]
    },
    {
      "cell_type": "markdown",
      "source": [
        "We can see a negative correlation between `accommodates` and `rs_value`. Listings that can accommodate a high number of guests get lower value rating than listings with maximum capacity of 3 guests or below."
      ],
      "metadata": {
        "id": "WS-FtlENwMtk"
      }
    },
    {
      "cell_type": "markdown",
      "source": [
        "In an article called \"The Elements of Value\" published on HRB Review on September 2016, the authors started their article with a declaration to show a relationship between value and price: <br><br>\n",
        "***When customers evaluate a product or service, they weigh its perceived value against the asking price.*** <br>\n",
        "\n",
        "Eric Almquist, John Senior, and Nicolas Bloch (Sep 2016). The Elements of Value. Harvard Business Review. https://hbr.org/2016/09/the-elements-of-value"
      ],
      "metadata": {
        "id": "4RtJL-hgAwxd"
      }
    },
    {
      "cell_type": "markdown",
      "source": [
        "By referring to this definition, back to this analysis, we realize there might be a trend in common between value rating and price. Let's visualize `accommodates` and `price` on boxplot chart. "
      ],
      "metadata": {
        "id": "SJoAmHaG61vY"
      }
    },
    {
      "cell_type": "code",
      "source": [
        "df_size_short = df_size[['accommodates', 'price']]"
      ],
      "metadata": {
        "id": "qzuDjkIiva_Z"
      },
      "execution_count": null,
      "outputs": []
    },
    {
      "cell_type": "code",
      "source": [
        "plt.figure(figsize=(10,7))\n",
        "sns.boxplot(data=df_size, x='accommodates', y='price')\n",
        "plt.ylim(0,3500)\n",
        "plt.title('Range of price in each level of maximum capacity of listings')\n",
        "plt.ylabel('Price ($)')\n",
        "plt.xlabel('Maximum capacity of listing (guests)')\n",
        "plt.show()"
      ],
      "metadata": {
        "colab": {
          "base_uri": "https://localhost:8080/",
          "height": 464
        },
        "id": "RPVcvwj31ris",
        "outputId": "60d1bc19-009b-4562-9d8b-0f3bb54d5b0e"
      },
      "execution_count": null,
      "outputs": [
        {
          "output_type": "display_data",
          "data": {
            "text/plain": [
              "<Figure size 720x504 with 1 Axes>"
            ],
            "image/png": "[encoded data removed]"
          },
          "metadata": {}
        }
      ]
    },
    {
      "cell_type": "markdown",
      "source": [
        "Overall, we can see that the position of box plot in more `accommodates` tend to get higher places, which means the price goes up with the increasing of listing size. <br>\n",
        "Moreover, listings that can accommodates up to 4 guests and above have a long length of box, which also means a much wider range of price than listings with maximum capacity of 3 guests or below."
      ],
      "metadata": {
        "id": "4YJzeGu24s5w"
      }
    },
    {
      "cell_type": "code",
      "source": [
        "plt.figure(figsize=(20,7))\n",
        "\n",
        "plt.subplot(121)\n",
        "sns.regplot(data=plot_acc, x='accommodates', y='rs_value', color='tomato')\n",
        "plt.title('Correlation between Accommodates and Value rating score')\n",
        "plt.xlabel('Maximum capacity of guest (guests)')\n",
        "plt.ylabel('Value rating score (points)')\n",
        "\n",
        "plt.subplot(122)\n",
        "sns.boxplot(data=df_size, x='accommodates', y='price')\n",
        "plt.ylim(0,3500)\n",
        "plt.title('Range of price in each level of maximum capacity of listings')\n",
        "plt.ylabel('Price ($)')\n",
        "plt.xlabel('Maximum capacity of listing (guests)')\n",
        "\n",
        "plt.show()"
      ],
      "metadata": {
        "colab": {
          "base_uri": "https://localhost:8080/",
          "height": 380
        },
        "id": "6ugTWH76EcOa",
        "outputId": "90130f9a-c54b-478a-831d-2b878cf3766e"
      },
      "execution_count": null,
      "outputs": [
        {
          "output_type": "display_data",
          "data": {
            "text/plain": [
              "<Figure size 1440x504 with 2 Axes>"
            ],
            "image/png": "[encoded data removed]"
          },
          "metadata": {}
        }
      ]
    },
    {
      "cell_type": "markdown",
      "source": [
        "By putting 2 graphs next to each other, in general, listings with a high maximum capacity of guests have higher price levels with wider range of price but get a lower score on median average in value rating than listings accommodating less guests. "
      ],
      "metadata": {
        "id": "JwTPLoVrEsJh"
      }
    },
    {
      "cell_type": "markdown",
      "source": [
        "In order to explain the above idea more clearly, we can limit and compare data between listings can take up to 16 guests and 2 guests seperately as an ideal example with below characterisctic: \n",
        "- must be in same place (`neighbourhood_city`)\n",
        "- must be in the same market segmentation (`room_type`) "
      ],
      "metadata": {
        "id": "vkRYsC0O3p6E"
      }
    },
    {
      "cell_type": "markdown",
      "source": [
        "We can limit data to places where hosts are setting maximum capacity of guests at 2 and 16, with the type of room is Entire home/apt. "
      ],
      "metadata": {
        "id": "_fFOmG-F5GaI"
      }
    },
    {
      "cell_type": "code",
      "source": [
        "df_acc_compare = df[((df['accommodates'] == 2) | (df['accommodates'] == 16)) & (df['room_type'] == 'Entire home/apt')]"
      ],
      "metadata": {
        "id": "ErZyWxd8LQVv"
      },
      "execution_count": null,
      "outputs": []
    },
    {
      "cell_type": "code",
      "source": [
        "acc_table = pd.pivot_table(data=df_acc_compare, \n",
        "               index='neighbourhood_city',\n",
        "               columns='accommodates', \n",
        "               values='id', \n",
        "               aggfunc='count')\n",
        "\n",
        "acc_table = acc_table.dropna()\n",
        "\n",
        "# Limit data to places where the supply of listing is at least 2 or above \n",
        "acc_neighbourhood_compare = acc_table[(acc_table[2] > 2) & (acc_table[16] > 2)]\n",
        "\n",
        "acc_neighbourhood_compare  = acc_neighbourhood_compare.reset_index()\n",
        "\n",
        "acc_neighbourhood_compare "
      ],
      "metadata": {
        "colab": {
          "base_uri": "https://localhost:8080/",
          "height": 394
        },
        "id": "maCqGGq70UV2",
        "outputId": "b1e35e32-9305-42b8-e5dc-57e9b0bb7f39"
      },
      "execution_count": null,
      "outputs": [
        {
          "output_type": "execute_result",
          "data": {
            "text/plain": [
              "accommodates                     neighbourhood_city     2    16\n",
              "0                                           Anaheim   6.0  21.0\n",
              "1                                     Beverly Crest   6.0   3.0\n",
              "2                                          Downtown  22.0   3.0\n",
              "3                                         Fullerton   4.0   8.0\n",
              "4                                   Hollywood Hills  32.0   4.0\n",
              "5                                     Newport Beach  41.0  11.0\n",
              "6                                   Rowland Heights  10.0   9.0\n",
              "7                                         Santa Ana  24.0   8.0\n",
              "8                                      Sherman Oaks  22.0   5.0\n",
              "9             Unincorporated Santa Monica Mountains  29.0  10.0\n",
              "10                                   Woodland Hills   6.0   3.0"
            ],
            "text/html": [
              "\n",
              "  <div id=\"df-6ed40e4f-e763-4510-a3e7-49823b8e85e0\">\n",
              "    <div class=\"colab-df-container\">\n",
              "      <div>\n",
              "<style scoped>\n",
              "    .dataframe tbody tr th:only-of-type {\n",
              "        vertical-align: middle;\n",
              "    }\n",
              "\n",
              "    .dataframe tbody tr th {\n",
              "        vertical-align: top;\n",
              "    }\n",
              "\n",
              "    .dataframe thead th {\n",
              "        text-align: right;\n",
              "    }\n",
              "</style>\n",
              "<table border=\"1\" class=\"dataframe\">\n",
              "  <thead>\n",
              "    <tr style=\"text-align: right;\">\n",
              "      <th>accommodates</th>\n",
              "      <th>neighbourhood_city</th>\n",
              "      <th>2</th>\n",
              "      <th>16</th>\n",
              "    </tr>\n",
              "  </thead>\n",
              "  <tbody>\n",
              "    <tr>\n",
              "      <th>0</th>\n",
              "      <td>Anaheim</td>\n",
              "      <td>6.0</td>\n",
              "      <td>21.0</td>\n",
              "    </tr>\n",
              "    <tr>\n",
              "      <th>1</th>\n",
              "      <td>Beverly Crest</td>\n",
              "      <td>6.0</td>\n",
              "      <td>3.0</td>\n",
              "    </tr>\n",
              "    <tr>\n",
              "      <th>2</th>\n",
              "      <td>Downtown</td>\n",
              "      <td>22.0</td>\n",
              "      <td>3.0</td>\n",
              "    </tr>\n",
              "    <tr>\n",
              "      <th>3</th>\n",
              "      <td>Fullerton</td>\n",
              "      <td>4.0</td>\n",
              "      <td>8.0</td>\n",
              "    </tr>\n",
              "    <tr>\n",
              "      <th>4</th>\n",
              "      <td>Hollywood Hills</td>\n",
              "      <td>32.0</td>\n",
              "      <td>4.0</td>\n",
              "    </tr>\n",
              "    <tr>\n",
              "      <th>5</th>\n",
              "      <td>Newport Beach</td>\n",
              "      <td>41.0</td>\n",
              "      <td>11.0</td>\n",
              "    </tr>\n",
              "    <tr>\n",
              "      <th>6</th>\n",
              "      <td>Rowland Heights</td>\n",
              "      <td>10.0</td>\n",
              "      <td>9.0</td>\n",
              "    </tr>\n",
              "    <tr>\n",
              "      <th>7</th>\n",
              "      <td>Santa Ana</td>\n",
              "      <td>24.0</td>\n",
              "      <td>8.0</td>\n",
              "    </tr>\n",
              "    <tr>\n",
              "      <th>8</th>\n",
              "      <td>Sherman Oaks</td>\n",
              "      <td>22.0</td>\n",
              "      <td>5.0</td>\n",
              "    </tr>\n",
              "    <tr>\n",
              "      <th>9</th>\n",
              "      <td>Unincorporated Santa Monica Mountains</td>\n",
              "      <td>29.0</td>\n",
              "      <td>10.0</td>\n",
              "    </tr>\n",
              "    <tr>\n",
              "      <th>10</th>\n",
              "      <td>Woodland Hills</td>\n",
              "      <td>6.0</td>\n",
              "      <td>3.0</td>\n",
              "    </tr>\n",
              "  </tbody>\n",
              "</table>\n",
              "</div>\n",
              "      <button class=\"colab-df-convert\" onclick=\"convertToInteractive('df-6ed40e4f-e763-4510-a3e7-49823b8e85e0')\"\n",
              "              title=\"Convert this dataframe to an interactive table.\"\n",
              "              style=\"display:none;\">\n",
              "        \n",
              "  <svg xmlns=\"http://www.w3.org/2000/svg\" height=\"24px\"viewBox=\"0 0 24 24\"\n",
              "       width=\"24px\">\n",
              "    <path d=\"M0 0h24v24H0V0z\" fill=\"none\"/>\n",
              "    <path d=\"M18.56 5.44l.94 2.06.94-2.06 2.06-.94-2.06-.94-.94-2.06-.94 2.06-2.06.94zm-11 1L8.5 8.5l.94-2.06 2.06-.94-2.06-.94L8.5 2.5l-.94 2.06-2.06.94zm10 10l.94 2.06.94-2.06 2.06-.94-2.06-.94-.94-2.06-.94 2.06-2.06.94z\"/><path d=\"M17.41 7.96l-1.37-1.37c-.4-.4-.92-.59-1.43-.59-.52 0-1.04.2-1.43.59L10.3 9.45l-7.72 7.72c-.78.78-.78 2.05 0 2.83L4 21.41c.39.39.9.59 1.41.59.51 0 1.02-.2 1.41-.59l7.78-7.78 2.81-2.81c.8-.78.8-2.07 0-2.86zM5.41 20L4 18.59l7.72-7.72 1.47 1.35L5.41 20z\"/>\n",
              "  </svg>\n",
              "      </button>\n",
              "      \n",
              "  <style>\n",
              "    .colab-df-container {\n",
              "      display:flex;\n",
              "      flex-wrap:wrap;\n",
              "      gap: 12px;\n",
              "    }\n",
              "\n",
              "    .colab-df-convert {\n",
              "      background-color: #E8F0FE;\n",
              "      border: none;\n",
              "      border-radius: 50%;\n",
              "      cursor: pointer;\n",
              "      display: none;\n",
              "      fill: #1967D2;\n",
              "      height: 32px;\n",
              "      padding: 0 0 0 0;\n",
              "      width: 32px;\n",
              "    }\n",
              "\n",
              "    .colab-df-convert:hover {\n",
              "      background-color: #E2EBFA;\n",
              "      box-shadow: 0px 1px 2px rgba(60, 64, 67, 0.3), 0px 1px 3px 1px rgba(60, 64, 67, 0.15);\n",
              "      fill: #174EA6;\n",
              "    }\n",
              "\n",
              "    [theme=dark] .colab-df-convert {\n",
              "      background-color: #3B4455;\n",
              "      fill: #D2E3FC;\n",
              "    }\n",
              "\n",
              "    [theme=dark] .colab-df-convert:hover {\n",
              "      background-color: #434B5C;\n",
              "      box-shadow: 0px 1px 3px 1px rgba(0, 0, 0, 0.15);\n",
              "      filter: drop-shadow(0px 1px 2px rgba(0, 0, 0, 0.3));\n",
              "      fill: #FFFFFF;\n",
              "    }\n",
              "  </style>\n",
              "\n",
              "      <script>\n",
              "        const buttonEl =\n",
              "          document.querySelector('#df-6ed40e4f-e763-4510-a3e7-49823b8e85e0 button.colab-df-convert');\n",
              "        buttonEl.style.display =\n",
              "          google.colab.kernel.accessAllowed ? 'block' : 'none';\n",
              "\n",
              "        async function convertToInteractive(key) {\n",
              "          const element = document.querySelector('#df-6ed40e4f-e763-4510-a3e7-49823b8e85e0');\n",
              "          const dataTable =\n",
              "            await google.colab.kernel.invokeFunction('convertToInteractive',\n",
              "                                                     [key], {});\n",
              "          if (!dataTable) return;\n",
              "\n",
              "          const docLinkHtml = 'Like what you see? Visit the ' +\n",
              "            '<a target=\"_blank\" href=https://colab.research.google.com/notebooks/data_table.ipynb>data table notebook</a>'\n",
              "            + ' to learn more about interactive tables.';\n",
              "          element.innerHTML = '';\n",
              "          dataTable['output_type'] = 'display_data';\n",
              "          await google.colab.output.renderOutput(dataTable, element);\n",
              "          const docLink = document.createElement('div');\n",
              "          docLink.innerHTML = docLinkHtml;\n",
              "          element.appendChild(docLink);\n",
              "        }\n",
              "      </script>\n",
              "    </div>\n",
              "  </div>\n",
              "  "
            ]
          },
          "metadata": {},
          "execution_count": 26
        }
      ]
    },
    {
      "cell_type": "markdown",
      "source": [
        "The above table show the number of listings that are accommodating at 2 and 16 guests in neighbourhoods that are available only. We can randomly select 2 places for data visualization. <br>"
      ],
      "metadata": {
        "id": "Y0ypgruo5Wgh"
      }
    },
    {
      "cell_type": "markdown",
      "source": [
        "In this case, we will take **Anaheim** (where the supply of 16 guests of capacity surpasses the supply of 2) and **Sherman Oaks** (which is reversed to Anaheim) as examples:"
      ],
      "metadata": {
        "id": "0fnPOEXD7IOL"
      }
    },
    {
      "cell_type": "code",
      "source": [
        "df_acc16 = df[(df['accommodates'] == 16) & (df['room_type'] == 'Entire home/apt')]\n",
        "df_acc2 = df[(df['accommodates'] == 2) & (df['room_type'] == 'Entire home/apt')]"
      ],
      "metadata": {
        "id": "xOw5b9kq8aGK"
      },
      "execution_count": null,
      "outputs": []
    },
    {
      "cell_type": "code",
      "source": [
        "df_acc16 = df_acc16[['neighbourhood_city', 'accommodates', 'price', 'rs_value']]\n",
        "df_acc2 = df_acc2[['neighbourhood_city', 'accommodates', 'price', 'rs_value']]"
      ],
      "metadata": {
        "id": "wOUU2UGMvmvw"
      },
      "execution_count": null,
      "outputs": []
    },
    {
      "cell_type": "code",
      "source": [
        "anaheim_16 = df_acc16[df_acc16['neighbourhood_city'] == 'Anaheim']\n",
        "anaheim_2 = df_acc2[df_acc2['neighbourhood_city'] == 'Anaheim']"
      ],
      "metadata": {
        "id": "p3ikUaabv0Ma"
      },
      "execution_count": null,
      "outputs": []
    },
    {
      "cell_type": "code",
      "source": [
        "sherman_16 = df_acc16[df_acc16['neighbourhood_city'] == 'Sherman Oaks']\n",
        "sherman_2 = df_acc2[df_acc2['neighbourhood_city'] == 'Sherman Oaks']"
      ],
      "metadata": {
        "id": "srYknawrwAs_"
      },
      "execution_count": null,
      "outputs": []
    },
    {
      "cell_type": "code",
      "source": [
        "anaheim_data = pd.concat([anaheim_16, anaheim_2], axis=0)\n",
        "sherman_data = pd.concat([sherman_16, sherman_2], axis=0)"
      ],
      "metadata": {
        "id": "XkIbfdjFsAKu"
      },
      "execution_count": null,
      "outputs": []
    },
    {
      "cell_type": "code",
      "source": [
        "# Data viz for Anaheim\n",
        "plt.figure(figsize=(20,4))\n",
        "\n",
        "plt.subplot(221)\n",
        "ax1 = sns.boxplot(data=df_acc2[df_acc2['neighbourhood_city'] == 'Anaheim'], x='price', color='skyblue')\n",
        "plt.xlim(0, 1750)\n",
        "ax1.set(xlabel=None)\n",
        "ax1.set(xticklabels=[])\n",
        "plt.title('Price distribution between 2 (above) and 16 (below) accommodates in Anaheim')\n",
        "\n",
        "plt.subplot(223)\n",
        "ax3 = sns.boxplot(data=df_acc16[df_acc16['neighbourhood_city'] == 'Anaheim'], x='price', color='deepskyblue')\n",
        "plt.xlim(0, 1750)\n",
        "plt.xlabel('Price range ($)')\n",
        "\n",
        "plt.subplot(222)\n",
        "ax2 = sns.boxplot(data=df_acc2[df_acc2['neighbourhood_city'] == 'Anaheim'], x='rs_value', color='lightsalmon')\n",
        "plt.xlim(4,5)\n",
        "ax2.set(xlabel=None)\n",
        "ax2.set(xticklabels=[])\n",
        "plt.title('Value rating score distribution between 2 (above) and 16 (below)accommodates in Anaheim')\n",
        "\n",
        "plt.subplot(224)\n",
        "ax4 = sns.boxplot(data=df_acc16[df_acc16['neighbourhood_city'] == 'Anaheim'], x='rs_value', color='tomato')\n",
        "plt.xlim(4,5)\n",
        "plt.xlabel('Value rating score range (points)')\n",
        "\n",
        "plt.show()"
      ],
      "metadata": {
        "colab": {
          "base_uri": "https://localhost:8080/",
          "height": 252
        },
        "id": "9e3j6wVP7Vum",
        "outputId": "bc5fed53-769e-4649-8c77-d5c509072d0d"
      },
      "execution_count": null,
      "outputs": [
        {
          "output_type": "display_data",
          "data": {
            "text/plain": [
              "<Figure size 1440x288 with 4 Axes>"
            ],
            "image/png": "[encoded data removed]"
          },
          "metadata": {}
        }
      ]
    },
    {
      "cell_type": "code",
      "source": [
        "# Data viz for Sherman Oaks\n",
        "plt.figure(figsize=(20,4))\n",
        "\n",
        "plt.subplot(221)\n",
        "ax1 = sns.boxplot(data=df_acc2[df_acc2['neighbourhood_city'] == 'Sherman Oaks'], x='price', color='skyblue')\n",
        "plt.xlim(0, 1500)\n",
        "ax1.set(xlabel=None)\n",
        "ax1.set(xticklabels=[])\n",
        "plt.title('Price distribution between 2 (above) and 16 (below) accommodates in Sherman Oaks')\n",
        "\n",
        "plt.subplot(223)\n",
        "ax3 = sns.boxplot(data=df_acc16[df_acc16['neighbourhood_city'] == 'Sherman Oaks'], x='price', color='deepskyblue')\n",
        "plt.xlim(0, 1500)\n",
        "plt.xlabel('Price range ($)')\n",
        "\n",
        "plt.subplot(222)\n",
        "ax2 = sns.boxplot(data=df_acc2[df_acc2['neighbourhood_city'] == 'Sherman Oaks'], x='rs_value', color='lightsalmon')\n",
        "plt.xlim(4,5)\n",
        "ax2.set(xlabel=None)\n",
        "ax2.set(xticklabels=[])\n",
        "plt.title('Value rating score distribution between 2 (above) and 16 (below) accommodates in Sherman Oaks')\n",
        "\n",
        "plt.subplot(224)\n",
        "ax4 = sns.boxplot(data=df_acc16[df_acc16['neighbourhood_city'] == 'Sherman Oaks'], x='rs_value', color='tomato')\n",
        "plt.xlim(4,5)\n",
        "plt.xlabel('Value rating score range (points)')\n",
        "\n",
        "plt.show()"
      ],
      "metadata": {
        "colab": {
          "base_uri": "https://localhost:8080/",
          "height": 248
        },
        "id": "FgY0djZpz68B",
        "outputId": "85fd44f5-9ef7-46c1-bd26-25d0ed082cfe"
      },
      "execution_count": null,
      "outputs": [
        {
          "output_type": "display_data",
          "data": {
            "text/plain": [
              "<Figure size 1440x288 with 4 Axes>"
            ],
            "image/png": "[encoded data removed]"
          },
          "metadata": {}
        }
      ]
    },
    {
      "cell_type": "markdown",
      "source": [
        "Overall, we can see that despite of different neighbourhoods, when there is a narrow range of price, the same pattern occurs to value rating and vice versa. <br>\n",
        "However, in general, the clearer picture is that when there is a relatively similar price between listings, guests give quite the same score of value rating, and they are almost the high ones. <br> \n",
        "Meanwhile, when there is such a wide range of price varies from a low to extreme high price with many options offered accordingly, guests tend to give different ranges of score based on whether they felt these listings worth the money or not. "
      ],
      "metadata": {
        "id": "ROmYbpQJ7pkg"
      }
    },
    {
      "cell_type": "markdown",
      "source": [
        "In order to understand the above approach in Airbnb case, we can analysis the listing density in each neighbourhood to see if there is a lot choices in one neighbourhood, how will the value rating vary? "
      ],
      "metadata": {
        "id": "OnECSkuzgXoT"
      }
    },
    {
      "cell_type": "markdown",
      "source": [
        "### Number of listings in one neighbourhood"
      ],
      "metadata": {
        "id": "2GAfujoUd8QQ"
      }
    },
    {
      "cell_type": "markdown",
      "source": [
        "First, we count the number of listings and calculate median score of value rating in each neighbourhood from the main dataset."
      ],
      "metadata": {
        "id": "z9l7EPdojB5B"
      }
    },
    {
      "cell_type": "code",
      "source": [
        "neighbourhood_overview = df[['id', 'rep_rate', 'superhost', 'instant_bookable', 'neighbourhood_city', 'neighbourhood_group', 'latitude', 'longitude', 'rs_value']]"
      ],
      "metadata": {
        "id": "iPvNynhXsbvZ"
      },
      "execution_count": null,
      "outputs": []
    },
    {
      "cell_type": "code",
      "source": [
        "place_count = df.groupby('neighbourhood_city').agg({'id':'count', 'rs_value':'median'})"
      ],
      "metadata": {
        "id": "eiea6VG8ksr_"
      },
      "execution_count": null,
      "outputs": []
    },
    {
      "cell_type": "code",
      "source": [
        "place_count = place_count.rename(columns={'id':'total_listings'})"
      ],
      "metadata": {
        "id": "2-kPkpZBlbRY"
      },
      "execution_count": null,
      "outputs": []
    },
    {
      "cell_type": "code",
      "source": [
        "place_count = place_count.reset_index()\n",
        "place_count"
      ],
      "metadata": {
        "colab": {
          "base_uri": "https://localhost:8080/",
          "height": 424
        },
        "id": "m0ayHez-ldfc",
        "outputId": "008dfa6a-e981-4b86-c4fb-400b24e63b27"
      },
      "execution_count": null,
      "outputs": [
        {
          "output_type": "execute_result",
          "data": {
            "text/plain": [
              "    neighbourhood_city  total_listings  rs_value\n",
              "0                Acton               5      4.97\n",
              "1      Adams-Normandie               2      4.50\n",
              "2         Agoura Hills              37      4.91\n",
              "3           Agua Dulce              13      4.87\n",
              "4             Alhambra             300      4.77\n",
              "..                 ...             ...       ...\n",
              "293         Wilmington              15      4.73\n",
              "294     Windsor Square               5      4.91\n",
              "295           Winnetka              24      4.86\n",
              "296     Woodland Hills              79      4.82\n",
              "297        Yorba Linda               4      4.82\n",
              "\n",
              "[298 rows x 3 columns]"
            ],
            "text/html": [
              "\n",
              "  <div id=\"df-d432bf0d-75e8-4f9b-8fbc-2df9bfc6a085\">\n",
              "    <div class=\"colab-df-container\">\n",
              "      <div>\n",
              "<style scoped>\n",
              "    .dataframe tbody tr th:only-of-type {\n",
              "        vertical-align: middle;\n",
              "    }\n",
              "\n",
              "    .dataframe tbody tr th {\n",
              "        vertical-align: top;\n",
              "    }\n",
              "\n",
              "    .dataframe thead th {\n",
              "        text-align: right;\n",
              "    }\n",
              "</style>\n",
              "<table border=\"1\" class=\"dataframe\">\n",
              "  <thead>\n",
              "    <tr style=\"text-align: right;\">\n",
              "      <th></th>\n",
              "      <th>neighbourhood_city</th>\n",
              "      <th>total_listings</th>\n",
              "      <th>rs_value</th>\n",
              "    </tr>\n",
              "  </thead>\n",
              "  <tbody>\n",
              "    <tr>\n",
              "      <th>0</th>\n",
              "      <td>Acton</td>\n",
              "      <td>5</td>\n",
              "      <td>4.97</td>\n",
              "    </tr>\n",
              "    <tr>\n",
              "      <th>1</th>\n",
              "      <td>Adams-Normandie</td>\n",
              "      <td>2</td>\n",
              "      <td>4.50</td>\n",
              "    </tr>\n",
              "    <tr>\n",
              "      <th>2</th>\n",
              "      <td>Agoura Hills</td>\n",
              "      <td>37</td>\n",
              "      <td>4.91</td>\n",
              "    </tr>\n",
              "    <tr>\n",
              "      <th>3</th>\n",
              "      <td>Agua Dulce</td>\n",
              "      <td>13</td>\n",
              "      <td>4.87</td>\n",
              "    </tr>\n",
              "    <tr>\n",
              "      <th>4</th>\n",
              "      <td>Alhambra</td>\n",
              "      <td>300</td>\n",
              "      <td>4.77</td>\n",
              "    </tr>\n",
              "    <tr>\n",
              "      <th>...</th>\n",
              "      <td>...</td>\n",
              "      <td>...</td>\n",
              "      <td>...</td>\n",
              "    </tr>\n",
              "    <tr>\n",
              "      <th>293</th>\n",
              "      <td>Wilmington</td>\n",
              "      <td>15</td>\n",
              "      <td>4.73</td>\n",
              "    </tr>\n",
              "    <tr>\n",
              "      <th>294</th>\n",
              "      <td>Windsor Square</td>\n",
              "      <td>5</td>\n",
              "      <td>4.91</td>\n",
              "    </tr>\n",
              "    <tr>\n",
              "      <th>295</th>\n",
              "      <td>Winnetka</td>\n",
              "      <td>24</td>\n",
              "      <td>4.86</td>\n",
              "    </tr>\n",
              "    <tr>\n",
              "      <th>296</th>\n",
              "      <td>Woodland Hills</td>\n",
              "      <td>79</td>\n",
              "      <td>4.82</td>\n",
              "    </tr>\n",
              "    <tr>\n",
              "      <th>297</th>\n",
              "      <td>Yorba Linda</td>\n",
              "      <td>4</td>\n",
              "      <td>4.82</td>\n",
              "    </tr>\n",
              "  </tbody>\n",
              "</table>\n",
              "<p>298 rows × 3 columns</p>\n",
              "</div>\n",
              "      <button class=\"colab-df-convert\" onclick=\"convertToInteractive('df-d432bf0d-75e8-4f9b-8fbc-2df9bfc6a085')\"\n",
              "              title=\"Convert this dataframe to an interactive table.\"\n",
              "              style=\"display:none;\">\n",
              "        \n",
              "  <svg xmlns=\"http://www.w3.org/2000/svg\" height=\"24px\"viewBox=\"0 0 24 24\"\n",
              "       width=\"24px\">\n",
              "    <path d=\"M0 0h24v24H0V0z\" fill=\"none\"/>\n",
              "    <path d=\"M18.56 5.44l.94 2.06.94-2.06 2.06-.94-2.06-.94-.94-2.06-.94 2.06-2.06.94zm-11 1L8.5 8.5l.94-2.06 2.06-.94-2.06-.94L8.5 2.5l-.94 2.06-2.06.94zm10 10l.94 2.06.94-2.06 2.06-.94-2.06-.94-.94-2.06-.94 2.06-2.06.94z\"/><path d=\"M17.41 7.96l-1.37-1.37c-.4-.4-.92-.59-1.43-.59-.52 0-1.04.2-1.43.59L10.3 9.45l-7.72 7.72c-.78.78-.78 2.05 0 2.83L4 21.41c.39.39.9.59 1.41.59.51 0 1.02-.2 1.41-.59l7.78-7.78 2.81-2.81c.8-.78.8-2.07 0-2.86zM5.41 20L4 18.59l7.72-7.72 1.47 1.35L5.41 20z\"/>\n",
              "  </svg>\n",
              "      </button>\n",
              "      \n",
              "  <style>\n",
              "    .colab-df-container {\n",
              "      display:flex;\n",
              "      flex-wrap:wrap;\n",
              "      gap: 12px;\n",
              "    }\n",
              "\n",
              "    .colab-df-convert {\n",
              "      background-color: #E8F0FE;\n",
              "      border: none;\n",
              "      border-radius: 50%;\n",
              "      cursor: pointer;\n",
              "      display: none;\n",
              "      fill: #1967D2;\n",
              "      height: 32px;\n",
              "      padding: 0 0 0 0;\n",
              "      width: 32px;\n",
              "    }\n",
              "\n",
              "    .colab-df-convert:hover {\n",
              "      background-color: #E2EBFA;\n",
              "      box-shadow: 0px 1px 2px rgba(60, 64, 67, 0.3), 0px 1px 3px 1px rgba(60, 64, 67, 0.15);\n",
              "      fill: #174EA6;\n",
              "    }\n",
              "\n",
              "    [theme=dark] .colab-df-convert {\n",
              "      background-color: #3B4455;\n",
              "      fill: #D2E3FC;\n",
              "    }\n",
              "\n",
              "    [theme=dark] .colab-df-convert:hover {\n",
              "      background-color: #434B5C;\n",
              "      box-shadow: 0px 1px 3px 1px rgba(0, 0, 0, 0.15);\n",
              "      filter: drop-shadow(0px 1px 2px rgba(0, 0, 0, 0.3));\n",
              "      fill: #FFFFFF;\n",
              "    }\n",
              "  </style>\n",
              "\n",
              "      <script>\n",
              "        const buttonEl =\n",
              "          document.querySelector('#df-d432bf0d-75e8-4f9b-8fbc-2df9bfc6a085 button.colab-df-convert');\n",
              "        buttonEl.style.display =\n",
              "          google.colab.kernel.accessAllowed ? 'block' : 'none';\n",
              "\n",
              "        async function convertToInteractive(key) {\n",
              "          const element = document.querySelector('#df-d432bf0d-75e8-4f9b-8fbc-2df9bfc6a085');\n",
              "          const dataTable =\n",
              "            await google.colab.kernel.invokeFunction('convertToInteractive',\n",
              "                                                     [key], {});\n",
              "          if (!dataTable) return;\n",
              "\n",
              "          const docLinkHtml = 'Like what you see? Visit the ' +\n",
              "            '<a target=\"_blank\" href=https://colab.research.google.com/notebooks/data_table.ipynb>data table notebook</a>'\n",
              "            + ' to learn more about interactive tables.';\n",
              "          element.innerHTML = '';\n",
              "          dataTable['output_type'] = 'display_data';\n",
              "          await google.colab.output.renderOutput(dataTable, element);\n",
              "          const docLink = document.createElement('div');\n",
              "          docLink.innerHTML = docLinkHtml;\n",
              "          element.appendChild(docLink);\n",
              "        }\n",
              "      </script>\n",
              "    </div>\n",
              "  </div>\n",
              "  "
            ]
          },
          "metadata": {},
          "execution_count": 37
        }
      ]
    },
    {
      "cell_type": "markdown",
      "source": [
        "As we already imported the geojson file of neighbourhood data, we will access it and calculate area (in square km) of each neighbourhood."
      ],
      "metadata": {
        "id": "bmWNZ2lrjLy3"
      }
    },
    {
      "cell_type": "code",
      "source": [
        "neighbourhoods"
      ],
      "metadata": {
        "colab": {
          "base_uri": "https://localhost:8080/",
          "height": 424
        },
        "id": "xFK4FLpAnU4g",
        "outputId": "b37de496-138e-448d-cdcf-dae3b7634a6c"
      },
      "execution_count": null,
      "outputs": [
        {
          "output_type": "execute_result",
          "data": {
            "text/plain": [
              "      neighbourhood   neighbourhood_group  \\\n",
              "0     Angeles Crest  Unincorporated Areas   \n",
              "1             Acton  Unincorporated Areas   \n",
              "2        Agua Dulce  Unincorporated Areas   \n",
              "3            Athens  Unincorporated Areas   \n",
              "4      Alondra Park  Unincorporated Areas   \n",
              "..              ...                   ...   \n",
              "265  Windsor Square   City of Los Angeles   \n",
              "266      West Hills   City of Los Angeles   \n",
              "267        Whittier          Other Cities   \n",
              "268  Woodland Hills   City of Los Angeles   \n",
              "269      Wilmington   City of Los Angeles   \n",
              "\n",
              "                                              geometry  \n",
              "0    MULTIPOLYGON (((-118.09667 34.47348, -118.0796...  \n",
              "1    MULTIPOLYGON (((-118.20703 34.53902, -118.1894...  \n",
              "2    MULTIPOLYGON (((-118.37822 34.48811, -118.3783...  \n",
              "3    MULTIPOLYGON (((-118.29152 33.93096, -118.2916...  \n",
              "4    MULTIPOLYGON (((-118.32651 33.89757, -118.3264...  \n",
              "..                                                 ...  \n",
              "265  MULTIPOLYGON (((-118.31359 34.07623, -118.3135...  \n",
              "266  MULTIPOLYGON (((-118.60374 34.23323, -118.6029...  \n",
              "267  MULTIPOLYGON (((-118.06169 34.00487, -118.0613...  \n",
              "268  MULTIPOLYGON (((-118.57644 34.18836, -118.5748...  \n",
              "269  MULTIPOLYGON (((-118.22476 33.82461, -118.2245...  \n",
              "\n",
              "[270 rows x 3 columns]"
            ],
            "text/html": [
              "\n",
              "  <div id=\"df-4b379b5b-b7be-4c42-8662-96496570b2e5\">\n",
              "    <div class=\"colab-df-container\">\n",
              "      <div>\n",
              "<style scoped>\n",
              "    .dataframe tbody tr th:only-of-type {\n",
              "        vertical-align: middle;\n",
              "    }\n",
              "\n",
              "    .dataframe tbody tr th {\n",
              "        vertical-align: top;\n",
              "    }\n",
              "\n",
              "    .dataframe thead th {\n",
              "        text-align: right;\n",
              "    }\n",
              "</style>\n",
              "<table border=\"1\" class=\"dataframe\">\n",
              "  <thead>\n",
              "    <tr style=\"text-align: right;\">\n",
              "      <th></th>\n",
              "      <th>neighbourhood</th>\n",
              "      <th>neighbourhood_group</th>\n",
              "      <th>geometry</th>\n",
              "    </tr>\n",
              "  </thead>\n",
              "  <tbody>\n",
              "    <tr>\n",
              "      <th>0</th>\n",
              "      <td>Angeles Crest</td>\n",
              "      <td>Unincorporated Areas</td>\n",
              "      <td>MULTIPOLYGON (((-118.09667 34.47348, -118.0796...</td>\n",
              "    </tr>\n",
              "    <tr>\n",
              "      <th>1</th>\n",
              "      <td>Acton</td>\n",
              "      <td>Unincorporated Areas</td>\n",
              "      <td>MULTIPOLYGON (((-118.20703 34.53902, -118.1894...</td>\n",
              "    </tr>\n",
              "    <tr>\n",
              "      <th>2</th>\n",
              "      <td>Agua Dulce</td>\n",
              "      <td>Unincorporated Areas</td>\n",
              "      <td>MULTIPOLYGON (((-118.37822 34.48811, -118.3783...</td>\n",
              "    </tr>\n",
              "    <tr>\n",
              "      <th>3</th>\n",
              "      <td>Athens</td>\n",
              "      <td>Unincorporated Areas</td>\n",
              "      <td>MULTIPOLYGON (((-118.29152 33.93096, -118.2916...</td>\n",
              "    </tr>\n",
              "    <tr>\n",
              "      <th>4</th>\n",
              "      <td>Alondra Park</td>\n",
              "      <td>Unincorporated Areas</td>\n",
              "      <td>MULTIPOLYGON (((-118.32651 33.89757, -118.3264...</td>\n",
              "    </tr>\n",
              "    <tr>\n",
              "      <th>...</th>\n",
              "      <td>...</td>\n",
              "      <td>...</td>\n",
              "      <td>...</td>\n",
              "    </tr>\n",
              "    <tr>\n",
              "      <th>265</th>\n",
              "      <td>Windsor Square</td>\n",
              "      <td>City of Los Angeles</td>\n",
              "      <td>MULTIPOLYGON (((-118.31359 34.07623, -118.3135...</td>\n",
              "    </tr>\n",
              "    <tr>\n",
              "      <th>266</th>\n",
              "      <td>West Hills</td>\n",
              "      <td>City of Los Angeles</td>\n",
              "      <td>MULTIPOLYGON (((-118.60374 34.23323, -118.6029...</td>\n",
              "    </tr>\n",
              "    <tr>\n",
              "      <th>267</th>\n",
              "      <td>Whittier</td>\n",
              "      <td>Other Cities</td>\n",
              "      <td>MULTIPOLYGON (((-118.06169 34.00487, -118.0613...</td>\n",
              "    </tr>\n",
              "    <tr>\n",
              "      <th>268</th>\n",
              "      <td>Woodland Hills</td>\n",
              "      <td>City of Los Angeles</td>\n",
              "      <td>MULTIPOLYGON (((-118.57644 34.18836, -118.5748...</td>\n",
              "    </tr>\n",
              "    <tr>\n",
              "      <th>269</th>\n",
              "      <td>Wilmington</td>\n",
              "      <td>City of Los Angeles</td>\n",
              "      <td>MULTIPOLYGON (((-118.22476 33.82461, -118.2245...</td>\n",
              "    </tr>\n",
              "  </tbody>\n",
              "</table>\n",
              "<p>270 rows × 3 columns</p>\n",
              "</div>\n",
              "      <button class=\"colab-df-convert\" onclick=\"convertToInteractive('df-4b379b5b-b7be-4c42-8662-96496570b2e5')\"\n",
              "              title=\"Convert this dataframe to an interactive table.\"\n",
              "              style=\"display:none;\">\n",
              "        \n",
              "  <svg xmlns=\"http://www.w3.org/2000/svg\" height=\"24px\"viewBox=\"0 0 24 24\"\n",
              "       width=\"24px\">\n",
              "    <path d=\"M0 0h24v24H0V0z\" fill=\"none\"/>\n",
              "    <path d=\"M18.56 5.44l.94 2.06.94-2.06 2.06-.94-2.06-.94-.94-2.06-.94 2.06-2.06.94zm-11 1L8.5 8.5l.94-2.06 2.06-.94-2.06-.94L8.5 2.5l-.94 2.06-2.06.94zm10 10l.94 2.06.94-2.06 2.06-.94-2.06-.94-.94-2.06-.94 2.06-2.06.94z\"/><path d=\"M17.41 7.96l-1.37-1.37c-.4-.4-.92-.59-1.43-.59-.52 0-1.04.2-1.43.59L10.3 9.45l-7.72 7.72c-.78.78-.78 2.05 0 2.83L4 21.41c.39.39.9.59 1.41.59.51 0 1.02-.2 1.41-.59l7.78-7.78 2.81-2.81c.8-.78.8-2.07 0-2.86zM5.41 20L4 18.59l7.72-7.72 1.47 1.35L5.41 20z\"/>\n",
              "  </svg>\n",
              "      </button>\n",
              "      \n",
              "  <style>\n",
              "    .colab-df-container {\n",
              "      display:flex;\n",
              "      flex-wrap:wrap;\n",
              "      gap: 12px;\n",
              "    }\n",
              "\n",
              "    .colab-df-convert {\n",
              "      background-color: #E8F0FE;\n",
              "      border: none;\n",
              "      border-radius: 50%;\n",
              "      cursor: pointer;\n",
              "      display: none;\n",
              "      fill: #1967D2;\n",
              "      height: 32px;\n",
              "      padding: 0 0 0 0;\n",
              "      width: 32px;\n",
              "    }\n",
              "\n",
              "    .colab-df-convert:hover {\n",
              "      background-color: #E2EBFA;\n",
              "      box-shadow: 0px 1px 2px rgba(60, 64, 67, 0.3), 0px 1px 3px 1px rgba(60, 64, 67, 0.15);\n",
              "      fill: #174EA6;\n",
              "    }\n",
              "\n",
              "    [theme=dark] .colab-df-convert {\n",
              "      background-color: #3B4455;\n",
              "      fill: #D2E3FC;\n",
              "    }\n",
              "\n",
              "    [theme=dark] .colab-df-convert:hover {\n",
              "      background-color: #434B5C;\n",
              "      box-shadow: 0px 1px 3px 1px rgba(0, 0, 0, 0.15);\n",
              "      filter: drop-shadow(0px 1px 2px rgba(0, 0, 0, 0.3));\n",
              "      fill: #FFFFFF;\n",
              "    }\n",
              "  </style>\n",
              "\n",
              "      <script>\n",
              "        const buttonEl =\n",
              "          document.querySelector('#df-4b379b5b-b7be-4c42-8662-96496570b2e5 button.colab-df-convert');\n",
              "        buttonEl.style.display =\n",
              "          google.colab.kernel.accessAllowed ? 'block' : 'none';\n",
              "\n",
              "        async function convertToInteractive(key) {\n",
              "          const element = document.querySelector('#df-4b379b5b-b7be-4c42-8662-96496570b2e5');\n",
              "          const dataTable =\n",
              "            await google.colab.kernel.invokeFunction('convertToInteractive',\n",
              "                                                     [key], {});\n",
              "          if (!dataTable) return;\n",
              "\n",
              "          const docLinkHtml = 'Like what you see? Visit the ' +\n",
              "            '<a target=\"_blank\" href=https://colab.research.google.com/notebooks/data_table.ipynb>data table notebook</a>'\n",
              "            + ' to learn more about interactive tables.';\n",
              "          element.innerHTML = '';\n",
              "          dataTable['output_type'] = 'display_data';\n",
              "          await google.colab.output.renderOutput(dataTable, element);\n",
              "          const docLink = document.createElement('div');\n",
              "          docLink.innerHTML = docLinkHtml;\n",
              "          element.appendChild(docLink);\n",
              "        }\n",
              "      </script>\n",
              "    </div>\n",
              "  </div>\n",
              "  "
            ]
          },
          "metadata": {},
          "execution_count": 38
        }
      ]
    },
    {
      "cell_type": "code",
      "source": [
        "neighbourhoods['sq_km'] = neighbourhoods['geometry'].to_crs({'proj':'cea'}).area / 10**6"
      ],
      "metadata": {
        "id": "-FQoRWuOnqzp"
      },
      "execution_count": null,
      "outputs": []
    },
    {
      "cell_type": "code",
      "source": [
        "neighbourhoods_group = neighbourhoods.groupby('neighbourhood').sum(['sq_km']).reset_index()\n",
        "neighbourhoods_group = neighbourhoods_group.rename(columns={'neighbourhood':'neighbourhood_city'})\n",
        "neighbourhoods_group"
      ],
      "metadata": {
        "id": "mMofysM4n1h4",
        "colab": {
          "base_uri": "https://localhost:8080/",
          "height": 424
        },
        "outputId": "7f896c05-cc03-4adb-dbe2-ac99e85c0399"
      },
      "execution_count": null,
      "outputs": [
        {
          "output_type": "execute_result",
          "data": {
            "text/plain": [
              "    neighbourhood_city       sq_km\n",
              "0                Acton  101.745423\n",
              "1      Adams-Normandie    2.077936\n",
              "2         Agoura Hills   20.480531\n",
              "3           Agua Dulce   78.459236\n",
              "4             Alhambra   19.767335\n",
              "..                 ...         ...\n",
              "265        Willowbrook    9.768715\n",
              "266         Wilmington   24.306708\n",
              "267     Windsor Square    1.768159\n",
              "268           Winnetka   12.434486\n",
              "269     Woodland Hills   38.317022\n",
              "\n",
              "[270 rows x 2 columns]"
            ],
            "text/html": [
              "\n",
              "  <div id=\"df-0c8d7dd3-9ee5-457e-81a6-688507f8d342\">\n",
              "    <div class=\"colab-df-container\">\n",
              "      <div>\n",
              "<style scoped>\n",
              "    .dataframe tbody tr th:only-of-type {\n",
              "        vertical-align: middle;\n",
              "    }\n",
              "\n",
              "    .dataframe tbody tr th {\n",
              "        vertical-align: top;\n",
              "    }\n",
              "\n",
              "    .dataframe thead th {\n",
              "        text-align: right;\n",
              "    }\n",
              "</style>\n",
              "<table border=\"1\" class=\"dataframe\">\n",
              "  <thead>\n",
              "    <tr style=\"text-align: right;\">\n",
              "      <th></th>\n",
              "      <th>neighbourhood_city</th>\n",
              "      <th>sq_km</th>\n",
              "    </tr>\n",
              "  </thead>\n",
              "  <tbody>\n",
              "    <tr>\n",
              "      <th>0</th>\n",
              "      <td>Acton</td>\n",
              "      <td>101.745423</td>\n",
              "    </tr>\n",
              "    <tr>\n",
              "      <th>1</th>\n",
              "      <td>Adams-Normandie</td>\n",
              "      <td>2.077936</td>\n",
              "    </tr>\n",
              "    <tr>\n",
              "      <th>2</th>\n",
              "      <td>Agoura Hills</td>\n",
              "      <td>20.480531</td>\n",
              "    </tr>\n",
              "    <tr>\n",
              "      <th>3</th>\n",
              "      <td>Agua Dulce</td>\n",
              "      <td>78.459236</td>\n",
              "    </tr>\n",
              "    <tr>\n",
              "      <th>4</th>\n",
              "      <td>Alhambra</td>\n",
              "      <td>19.767335</td>\n",
              "    </tr>\n",
              "    <tr>\n",
              "      <th>...</th>\n",
              "      <td>...</td>\n",
              "      <td>...</td>\n",
              "    </tr>\n",
              "    <tr>\n",
              "      <th>265</th>\n",
              "      <td>Willowbrook</td>\n",
              "      <td>9.768715</td>\n",
              "    </tr>\n",
              "    <tr>\n",
              "      <th>266</th>\n",
              "      <td>Wilmington</td>\n",
              "      <td>24.306708</td>\n",
              "    </tr>\n",
              "    <tr>\n",
              "      <th>267</th>\n",
              "      <td>Windsor Square</td>\n",
              "      <td>1.768159</td>\n",
              "    </tr>\n",
              "    <tr>\n",
              "      <th>268</th>\n",
              "      <td>Winnetka</td>\n",
              "      <td>12.434486</td>\n",
              "    </tr>\n",
              "    <tr>\n",
              "      <th>269</th>\n",
              "      <td>Woodland Hills</td>\n",
              "      <td>38.317022</td>\n",
              "    </tr>\n",
              "  </tbody>\n",
              "</table>\n",
              "<p>270 rows × 2 columns</p>\n",
              "</div>\n",
              "      <button class=\"colab-df-convert\" onclick=\"convertToInteractive('df-0c8d7dd3-9ee5-457e-81a6-688507f8d342')\"\n",
              "              title=\"Convert this dataframe to an interactive table.\"\n",
              "              style=\"display:none;\">\n",
              "        \n",
              "  <svg xmlns=\"http://www.w3.org/2000/svg\" height=\"24px\"viewBox=\"0 0 24 24\"\n",
              "       width=\"24px\">\n",
              "    <path d=\"M0 0h24v24H0V0z\" fill=\"none\"/>\n",
              "    <path d=\"M18.56 5.44l.94 2.06.94-2.06 2.06-.94-2.06-.94-.94-2.06-.94 2.06-2.06.94zm-11 1L8.5 8.5l.94-2.06 2.06-.94-2.06-.94L8.5 2.5l-.94 2.06-2.06.94zm10 10l.94 2.06.94-2.06 2.06-.94-2.06-.94-.94-2.06-.94 2.06-2.06.94z\"/><path d=\"M17.41 7.96l-1.37-1.37c-.4-.4-.92-.59-1.43-.59-.52 0-1.04.2-1.43.59L10.3 9.45l-7.72 7.72c-.78.78-.78 2.05 0 2.83L4 21.41c.39.39.9.59 1.41.59.51 0 1.02-.2 1.41-.59l7.78-7.78 2.81-2.81c.8-.78.8-2.07 0-2.86zM5.41 20L4 18.59l7.72-7.72 1.47 1.35L5.41 20z\"/>\n",
              "  </svg>\n",
              "      </button>\n",
              "      \n",
              "  <style>\n",
              "    .colab-df-container {\n",
              "      display:flex;\n",
              "      flex-wrap:wrap;\n",
              "      gap: 12px;\n",
              "    }\n",
              "\n",
              "    .colab-df-convert {\n",
              "      background-color: #E8F0FE;\n",
              "      border: none;\n",
              "      border-radius: 50%;\n",
              "      cursor: pointer;\n",
              "      display: none;\n",
              "      fill: #1967D2;\n",
              "      height: 32px;\n",
              "      padding: 0 0 0 0;\n",
              "      width: 32px;\n",
              "    }\n",
              "\n",
              "    .colab-df-convert:hover {\n",
              "      background-color: #E2EBFA;\n",
              "      box-shadow: 0px 1px 2px rgba(60, 64, 67, 0.3), 0px 1px 3px 1px rgba(60, 64, 67, 0.15);\n",
              "      fill: #174EA6;\n",
              "    }\n",
              "\n",
              "    [theme=dark] .colab-df-convert {\n",
              "      background-color: #3B4455;\n",
              "      fill: #D2E3FC;\n",
              "    }\n",
              "\n",
              "    [theme=dark] .colab-df-convert:hover {\n",
              "      background-color: #434B5C;\n",
              "      box-shadow: 0px 1px 3px 1px rgba(0, 0, 0, 0.15);\n",
              "      filter: drop-shadow(0px 1px 2px rgba(0, 0, 0, 0.3));\n",
              "      fill: #FFFFFF;\n",
              "    }\n",
              "  </style>\n",
              "\n",
              "      <script>\n",
              "        const buttonEl =\n",
              "          document.querySelector('#df-0c8d7dd3-9ee5-457e-81a6-688507f8d342 button.colab-df-convert');\n",
              "        buttonEl.style.display =\n",
              "          google.colab.kernel.accessAllowed ? 'block' : 'none';\n",
              "\n",
              "        async function convertToInteractive(key) {\n",
              "          const element = document.querySelector('#df-0c8d7dd3-9ee5-457e-81a6-688507f8d342');\n",
              "          const dataTable =\n",
              "            await google.colab.kernel.invokeFunction('convertToInteractive',\n",
              "                                                     [key], {});\n",
              "          if (!dataTable) return;\n",
              "\n",
              "          const docLinkHtml = 'Like what you see? Visit the ' +\n",
              "            '<a target=\"_blank\" href=https://colab.research.google.com/notebooks/data_table.ipynb>data table notebook</a>'\n",
              "            + ' to learn more about interactive tables.';\n",
              "          element.innerHTML = '';\n",
              "          dataTable['output_type'] = 'display_data';\n",
              "          await google.colab.output.renderOutput(dataTable, element);\n",
              "          const docLink = document.createElement('div');\n",
              "          docLink.innerHTML = docLinkHtml;\n",
              "          element.appendChild(docLink);\n",
              "        }\n",
              "      </script>\n",
              "    </div>\n",
              "  </div>\n",
              "  "
            ]
          },
          "metadata": {},
          "execution_count": 40
        }
      ]
    },
    {
      "cell_type": "markdown",
      "source": [
        "We then merge the above 2 groupby datasets into one based on the name of neighbourhood. We now can calculate the density by dividing total of listings to the area of each neighbourhood. "
      ],
      "metadata": {
        "id": "HBNXug3XjwDt"
      }
    },
    {
      "cell_type": "code",
      "source": [
        "place_data = pd.merge(place_count, neighbourhoods_group, how='inner', on='neighbourhood_city')"
      ],
      "metadata": {
        "id": "5Uaa1lSCoTWP"
      },
      "execution_count": null,
      "outputs": []
    },
    {
      "cell_type": "code",
      "source": [
        "place_data['listings_per_sq_km'] = place_data['total_listings'] / place_data['sq_km']"
      ],
      "metadata": {
        "id": "ROE4J9ERofLp"
      },
      "execution_count": null,
      "outputs": []
    },
    {
      "cell_type": "code",
      "source": [
        "place_data['diff_from_std'] = (place_data['rs_value'] - 4.8)"
      ],
      "metadata": {
        "id": "cSr2zaYIjJbJ"
      },
      "execution_count": null,
      "outputs": []
    },
    {
      "cell_type": "code",
      "source": [
        "place_data = place_data.sort_values('listings_per_sq_km', ascending=False)"
      ],
      "metadata": {
        "id": "Ysbo2lHklr8c"
      },
      "execution_count": null,
      "outputs": []
    },
    {
      "cell_type": "code",
      "source": [
        "place_data['rounded'] = place_data['listings_per_sq_km'].round(0)"
      ],
      "metadata": {
        "id": "7Zr17IMBYOJA"
      },
      "execution_count": null,
      "outputs": []
    },
    {
      "cell_type": "code",
      "source": [
        "place_data"
      ],
      "metadata": {
        "colab": {
          "base_uri": "https://localhost:8080/",
          "height": 424
        },
        "id": "QxKRuwvaYinv",
        "outputId": "ee4b1467-48b6-4829-9454-703ac8e422a0"
      },
      "execution_count": null,
      "outputs": [
        {
          "output_type": "execute_result",
          "data": {
            "text/plain": [
              "            neighbourhood_city  total_listings  rs_value        sq_km  \\\n",
              "137             Marina del Rey             232     4.570     2.337741   \n",
              "245             West Hollywood             425     4.730     4.888131   \n",
              "230                     Venice             351     4.790     7.899005   \n",
              "96               Hermosa Beach              89     4.730     3.772805   \n",
              "14                      Avalon             167     4.530     7.694068   \n",
              "..                         ...             ...       ...          ...   \n",
              "206  Southeast Antelope Valley              11     4.830   507.218784   \n",
              "178                Ridge Route              11     4.900   765.028580   \n",
              "152  Northeast Antelope Valley              10     4.790  1148.048582   \n",
              "219            Tujunga Canyons               5     4.700   599.646488   \n",
              "154  Northwest Antelope Valley               4     4.945   551.167852   \n",
              "\n",
              "     listings_per_sq_km  diff_from_std  rounded  \n",
              "137           99.241094         -0.230     99.0  \n",
              "245           86.945293         -0.070     87.0  \n",
              "230           44.435978         -0.010     44.0  \n",
              "96            23.589874         -0.070     24.0  \n",
              "14            21.705034         -0.270     22.0  \n",
              "..                  ...            ...      ...  \n",
              "206            0.021687          0.030      0.0  \n",
              "178            0.014379          0.100      0.0  \n",
              "152            0.008710         -0.010      0.0  \n",
              "219            0.008338         -0.100      0.0  \n",
              "154            0.007257          0.145      0.0  \n",
              "\n",
              "[260 rows x 7 columns]"
            ],
            "text/html": [
              "\n",
              "  <div id=\"df-7e789a8b-fa77-472c-813f-d6b8e2660127\">\n",
              "    <div class=\"colab-df-container\">\n",
              "      <div>\n",
              "<style scoped>\n",
              "    .dataframe tbody tr th:only-of-type {\n",
              "        vertical-align: middle;\n",
              "    }\n",
              "\n",
              "    .dataframe tbody tr th {\n",
              "        vertical-align: top;\n",
              "    }\n",
              "\n",
              "    .dataframe thead th {\n",
              "        text-align: right;\n",
              "    }\n",
              "</style>\n",
              "<table border=\"1\" class=\"dataframe\">\n",
              "  <thead>\n",
              "    <tr style=\"text-align: right;\">\n",
              "      <th></th>\n",
              "      <th>neighbourhood_city</th>\n",
              "      <th>total_listings</th>\n",
              "      <th>rs_value</th>\n",
              "      <th>sq_km</th>\n",
              "      <th>listings_per_sq_km</th>\n",
              "      <th>diff_from_std</th>\n",
              "      <th>rounded</th>\n",
              "    </tr>\n",
              "  </thead>\n",
              "  <tbody>\n",
              "    <tr>\n",
              "      <th>137</th>\n",
              "      <td>Marina del Rey</td>\n",
              "      <td>232</td>\n",
              "      <td>4.570</td>\n",
              "      <td>2.337741</td>\n",
              "      <td>99.241094</td>\n",
              "      <td>-0.230</td>\n",
              "      <td>99.0</td>\n",
              "    </tr>\n",
              "    <tr>\n",
              "      <th>245</th>\n",
              "      <td>West Hollywood</td>\n",
              "      <td>425</td>\n",
              "      <td>4.730</td>\n",
              "      <td>4.888131</td>\n",
              "      <td>86.945293</td>\n",
              "      <td>-0.070</td>\n",
              "      <td>87.0</td>\n",
              "    </tr>\n",
              "    <tr>\n",
              "      <th>230</th>\n",
              "      <td>Venice</td>\n",
              "      <td>351</td>\n",
              "      <td>4.790</td>\n",
              "      <td>7.899005</td>\n",
              "      <td>44.435978</td>\n",
              "      <td>-0.010</td>\n",
              "      <td>44.0</td>\n",
              "    </tr>\n",
              "    <tr>\n",
              "      <th>96</th>\n",
              "      <td>Hermosa Beach</td>\n",
              "      <td>89</td>\n",
              "      <td>4.730</td>\n",
              "      <td>3.772805</td>\n",
              "      <td>23.589874</td>\n",
              "      <td>-0.070</td>\n",
              "      <td>24.0</td>\n",
              "    </tr>\n",
              "    <tr>\n",
              "      <th>14</th>\n",
              "      <td>Avalon</td>\n",
              "      <td>167</td>\n",
              "      <td>4.530</td>\n",
              "      <td>7.694068</td>\n",
              "      <td>21.705034</td>\n",
              "      <td>-0.270</td>\n",
              "      <td>22.0</td>\n",
              "    </tr>\n",
              "    <tr>\n",
              "      <th>...</th>\n",
              "      <td>...</td>\n",
              "      <td>...</td>\n",
              "      <td>...</td>\n",
              "      <td>...</td>\n",
              "      <td>...</td>\n",
              "      <td>...</td>\n",
              "      <td>...</td>\n",
              "    </tr>\n",
              "    <tr>\n",
              "      <th>206</th>\n",
              "      <td>Southeast Antelope Valley</td>\n",
              "      <td>11</td>\n",
              "      <td>4.830</td>\n",
              "      <td>507.218784</td>\n",
              "      <td>0.021687</td>\n",
              "      <td>0.030</td>\n",
              "      <td>0.0</td>\n",
              "    </tr>\n",
              "    <tr>\n",
              "      <th>178</th>\n",
              "      <td>Ridge Route</td>\n",
              "      <td>11</td>\n",
              "      <td>4.900</td>\n",
              "      <td>765.028580</td>\n",
              "      <td>0.014379</td>\n",
              "      <td>0.100</td>\n",
              "      <td>0.0</td>\n",
              "    </tr>\n",
              "    <tr>\n",
              "      <th>152</th>\n",
              "      <td>Northeast Antelope Valley</td>\n",
              "      <td>10</td>\n",
              "      <td>4.790</td>\n",
              "      <td>1148.048582</td>\n",
              "      <td>0.008710</td>\n",
              "      <td>-0.010</td>\n",
              "      <td>0.0</td>\n",
              "    </tr>\n",
              "    <tr>\n",
              "      <th>219</th>\n",
              "      <td>Tujunga Canyons</td>\n",
              "      <td>5</td>\n",
              "      <td>4.700</td>\n",
              "      <td>599.646488</td>\n",
              "      <td>0.008338</td>\n",
              "      <td>-0.100</td>\n",
              "      <td>0.0</td>\n",
              "    </tr>\n",
              "    <tr>\n",
              "      <th>154</th>\n",
              "      <td>Northwest Antelope Valley</td>\n",
              "      <td>4</td>\n",
              "      <td>4.945</td>\n",
              "      <td>551.167852</td>\n",
              "      <td>0.007257</td>\n",
              "      <td>0.145</td>\n",
              "      <td>0.0</td>\n",
              "    </tr>\n",
              "  </tbody>\n",
              "</table>\n",
              "<p>260 rows × 7 columns</p>\n",
              "</div>\n",
              "      <button class=\"colab-df-convert\" onclick=\"convertToInteractive('df-7e789a8b-fa77-472c-813f-d6b8e2660127')\"\n",
              "              title=\"Convert this dataframe to an interactive table.\"\n",
              "              style=\"display:none;\">\n",
              "        \n",
              "  <svg xmlns=\"http://www.w3.org/2000/svg\" height=\"24px\"viewBox=\"0 0 24 24\"\n",
              "       width=\"24px\">\n",
              "    <path d=\"M0 0h24v24H0V0z\" fill=\"none\"/>\n",
              "    <path d=\"M18.56 5.44l.94 2.06.94-2.06 2.06-.94-2.06-.94-.94-2.06-.94 2.06-2.06.94zm-11 1L8.5 8.5l.94-2.06 2.06-.94-2.06-.94L8.5 2.5l-.94 2.06-2.06.94zm10 10l.94 2.06.94-2.06 2.06-.94-2.06-.94-.94-2.06-.94 2.06-2.06.94z\"/><path d=\"M17.41 7.96l-1.37-1.37c-.4-.4-.92-.59-1.43-.59-.52 0-1.04.2-1.43.59L10.3 9.45l-7.72 7.72c-.78.78-.78 2.05 0 2.83L4 21.41c.39.39.9.59 1.41.59.51 0 1.02-.2 1.41-.59l7.78-7.78 2.81-2.81c.8-.78.8-2.07 0-2.86zM5.41 20L4 18.59l7.72-7.72 1.47 1.35L5.41 20z\"/>\n",
              "  </svg>\n",
              "      </button>\n",
              "      \n",
              "  <style>\n",
              "    .colab-df-container {\n",
              "      display:flex;\n",
              "      flex-wrap:wrap;\n",
              "      gap: 12px;\n",
              "    }\n",
              "\n",
              "    .colab-df-convert {\n",
              "      background-color: #E8F0FE;\n",
              "      border: none;\n",
              "      border-radius: 50%;\n",
              "      cursor: pointer;\n",
              "      display: none;\n",
              "      fill: #1967D2;\n",
              "      height: 32px;\n",
              "      padding: 0 0 0 0;\n",
              "      width: 32px;\n",
              "    }\n",
              "\n",
              "    .colab-df-convert:hover {\n",
              "      background-color: #E2EBFA;\n",
              "      box-shadow: 0px 1px 2px rgba(60, 64, 67, 0.3), 0px 1px 3px 1px rgba(60, 64, 67, 0.15);\n",
              "      fill: #174EA6;\n",
              "    }\n",
              "\n",
              "    [theme=dark] .colab-df-convert {\n",
              "      background-color: #3B4455;\n",
              "      fill: #D2E3FC;\n",
              "    }\n",
              "\n",
              "    [theme=dark] .colab-df-convert:hover {\n",
              "      background-color: #434B5C;\n",
              "      box-shadow: 0px 1px 3px 1px rgba(0, 0, 0, 0.15);\n",
              "      filter: drop-shadow(0px 1px 2px rgba(0, 0, 0, 0.3));\n",
              "      fill: #FFFFFF;\n",
              "    }\n",
              "  </style>\n",
              "\n",
              "      <script>\n",
              "        const buttonEl =\n",
              "          document.querySelector('#df-7e789a8b-fa77-472c-813f-d6b8e2660127 button.colab-df-convert');\n",
              "        buttonEl.style.display =\n",
              "          google.colab.kernel.accessAllowed ? 'block' : 'none';\n",
              "\n",
              "        async function convertToInteractive(key) {\n",
              "          const element = document.querySelector('#df-7e789a8b-fa77-472c-813f-d6b8e2660127');\n",
              "          const dataTable =\n",
              "            await google.colab.kernel.invokeFunction('convertToInteractive',\n",
              "                                                     [key], {});\n",
              "          if (!dataTable) return;\n",
              "\n",
              "          const docLinkHtml = 'Like what you see? Visit the ' +\n",
              "            '<a target=\"_blank\" href=https://colab.research.google.com/notebooks/data_table.ipynb>data table notebook</a>'\n",
              "            + ' to learn more about interactive tables.';\n",
              "          element.innerHTML = '';\n",
              "          dataTable['output_type'] = 'display_data';\n",
              "          await google.colab.output.renderOutput(dataTable, element);\n",
              "          const docLink = document.createElement('div');\n",
              "          docLink.innerHTML = docLinkHtml;\n",
              "          element.appendChild(docLink);\n",
              "        }\n",
              "      </script>\n",
              "    </div>\n",
              "  </div>\n",
              "  "
            ]
          },
          "metadata": {},
          "execution_count": 46
        }
      ]
    },
    {
      "cell_type": "markdown",
      "source": [
        "In order to plot the data on graph easily, we will group data into each density number (already rounded) and do aggregation on rating score."
      ],
      "metadata": {
        "id": "bHI6tnqkkAOm"
      }
    },
    {
      "cell_type": "code",
      "source": [
        "rounded_density = place_data[place_data['rounded']>0].groupby('rounded').agg({'rs_value':'median', 'neighbourhood_city':'count'}).reset_index()"
      ],
      "metadata": {
        "id": "N0f7tXkjYkdc"
      },
      "execution_count": null,
      "outputs": []
    },
    {
      "cell_type": "code",
      "source": [
        "rounded_density"
      ],
      "metadata": {
        "colab": {
          "base_uri": "https://localhost:8080/",
          "height": 833
        },
        "id": "sP1J2NVNsWX0",
        "outputId": "7d7da984-234f-469b-e407-f67314a149e3"
      },
      "execution_count": null,
      "outputs": [
        {
          "output_type": "execute_result",
          "data": {
            "text/plain": [
              "    rounded  rs_value  neighbourhood_city\n",
              "0       1.0     4.830                  68\n",
              "1       2.0     4.840                  35\n",
              "2       3.0     4.830                  17\n",
              "3       4.0     4.840                  17\n",
              "4       5.0     4.835                  13\n",
              "5       6.0     4.800                   9\n",
              "6       7.0     4.820                   7\n",
              "7       8.0     4.775                   7\n",
              "8       9.0     4.820                   5\n",
              "9      10.0     4.800                   3\n",
              "10     11.0     4.775                   4\n",
              "11     12.0     4.830                   5\n",
              "12     13.0     4.850                   3\n",
              "13     14.0     4.795                   2\n",
              "14     15.0     4.765                   4\n",
              "15     16.0     4.870                   1\n",
              "16     17.0     4.780                   1\n",
              "17     18.0     4.750                   1\n",
              "18     19.0     4.740                   2\n",
              "19     20.0     4.800                   2\n",
              "20     22.0     4.530                   1\n",
              "21     24.0     4.730                   1\n",
              "22     44.0     4.790                   1\n",
              "23     87.0     4.730                   1\n",
              "24     99.0     4.570                   1"
            ],
            "text/html": [
              "\n",
              "  <div id=\"df-cb6396ba-acd2-4a9e-9818-b44207669c17\">\n",
              "    <div class=\"colab-df-container\">\n",
              "      <div>\n",
              "<style scoped>\n",
              "    .dataframe tbody tr th:only-of-type {\n",
              "        vertical-align: middle;\n",
              "    }\n",
              "\n",
              "    .dataframe tbody tr th {\n",
              "        vertical-align: top;\n",
              "    }\n",
              "\n",
              "    .dataframe thead th {\n",
              "        text-align: right;\n",
              "    }\n",
              "</style>\n",
              "<table border=\"1\" class=\"dataframe\">\n",
              "  <thead>\n",
              "    <tr style=\"text-align: right;\">\n",
              "      <th></th>\n",
              "      <th>rounded</th>\n",
              "      <th>rs_value</th>\n",
              "      <th>neighbourhood_city</th>\n",
              "    </tr>\n",
              "  </thead>\n",
              "  <tbody>\n",
              "    <tr>\n",
              "      <th>0</th>\n",
              "      <td>1.0</td>\n",
              "      <td>4.830</td>\n",
              "      <td>68</td>\n",
              "    </tr>\n",
              "    <tr>\n",
              "      <th>1</th>\n",
              "      <td>2.0</td>\n",
              "      <td>4.840</td>\n",
              "      <td>35</td>\n",
              "    </tr>\n",
              "    <tr>\n",
              "      <th>2</th>\n",
              "      <td>3.0</td>\n",
              "      <td>4.830</td>\n",
              "      <td>17</td>\n",
              "    </tr>\n",
              "    <tr>\n",
              "      <th>3</th>\n",
              "      <td>4.0</td>\n",
              "      <td>4.840</td>\n",
              "      <td>17</td>\n",
              "    </tr>\n",
              "    <tr>\n",
              "      <th>4</th>\n",
              "      <td>5.0</td>\n",
              "      <td>4.835</td>\n",
              "      <td>13</td>\n",
              "    </tr>\n",
              "    <tr>\n",
              "      <th>5</th>\n",
              "      <td>6.0</td>\n",
              "      <td>4.800</td>\n",
              "      <td>9</td>\n",
              "    </tr>\n",
              "    <tr>\n",
              "      <th>6</th>\n",
              "      <td>7.0</td>\n",
              "      <td>4.820</td>\n",
              "      <td>7</td>\n",
              "    </tr>\n",
              "    <tr>\n",
              "      <th>7</th>\n",
              "      <td>8.0</td>\n",
              "      <td>4.775</td>\n",
              "      <td>7</td>\n",
              "    </tr>\n",
              "    <tr>\n",
              "      <th>8</th>\n",
              "      <td>9.0</td>\n",
              "      <td>4.820</td>\n",
              "      <td>5</td>\n",
              "    </tr>\n",
              "    <tr>\n",
              "      <th>9</th>\n",
              "      <td>10.0</td>\n",
              "      <td>4.800</td>\n",
              "      <td>3</td>\n",
              "    </tr>\n",
              "    <tr>\n",
              "      <th>10</th>\n",
              "      <td>11.0</td>\n",
              "      <td>4.775</td>\n",
              "      <td>4</td>\n",
              "    </tr>\n",
              "    <tr>\n",
              "      <th>11</th>\n",
              "      <td>12.0</td>\n",
              "      <td>4.830</td>\n",
              "      <td>5</td>\n",
              "    </tr>\n",
              "    <tr>\n",
              "      <th>12</th>\n",
              "      <td>13.0</td>\n",
              "      <td>4.850</td>\n",
              "      <td>3</td>\n",
              "    </tr>\n",
              "    <tr>\n",
              "      <th>13</th>\n",
              "      <td>14.0</td>\n",
              "      <td>4.795</td>\n",
              "      <td>2</td>\n",
              "    </tr>\n",
              "    <tr>\n",
              "      <th>14</th>\n",
              "      <td>15.0</td>\n",
              "      <td>4.765</td>\n",
              "      <td>4</td>\n",
              "    </tr>\n",
              "    <tr>\n",
              "      <th>15</th>\n",
              "      <td>16.0</td>\n",
              "      <td>4.870</td>\n",
              "      <td>1</td>\n",
              "    </tr>\n",
              "    <tr>\n",
              "      <th>16</th>\n",
              "      <td>17.0</td>\n",
              "      <td>4.780</td>\n",
              "      <td>1</td>\n",
              "    </tr>\n",
              "    <tr>\n",
              "      <th>17</th>\n",
              "      <td>18.0</td>\n",
              "      <td>4.750</td>\n",
              "      <td>1</td>\n",
              "    </tr>\n",
              "    <tr>\n",
              "      <th>18</th>\n",
              "      <td>19.0</td>\n",
              "      <td>4.740</td>\n",
              "      <td>2</td>\n",
              "    </tr>\n",
              "    <tr>\n",
              "      <th>19</th>\n",
              "      <td>20.0</td>\n",
              "      <td>4.800</td>\n",
              "      <td>2</td>\n",
              "    </tr>\n",
              "    <tr>\n",
              "      <th>20</th>\n",
              "      <td>22.0</td>\n",
              "      <td>4.530</td>\n",
              "      <td>1</td>\n",
              "    </tr>\n",
              "    <tr>\n",
              "      <th>21</th>\n",
              "      <td>24.0</td>\n",
              "      <td>4.730</td>\n",
              "      <td>1</td>\n",
              "    </tr>\n",
              "    <tr>\n",
              "      <th>22</th>\n",
              "      <td>44.0</td>\n",
              "      <td>4.790</td>\n",
              "      <td>1</td>\n",
              "    </tr>\n",
              "    <tr>\n",
              "      <th>23</th>\n",
              "      <td>87.0</td>\n",
              "      <td>4.730</td>\n",
              "      <td>1</td>\n",
              "    </tr>\n",
              "    <tr>\n",
              "      <th>24</th>\n",
              "      <td>99.0</td>\n",
              "      <td>4.570</td>\n",
              "      <td>1</td>\n",
              "    </tr>\n",
              "  </tbody>\n",
              "</table>\n",
              "</div>\n",
              "      <button class=\"colab-df-convert\" onclick=\"convertToInteractive('df-cb6396ba-acd2-4a9e-9818-b44207669c17')\"\n",
              "              title=\"Convert this dataframe to an interactive table.\"\n",
              "              style=\"display:none;\">\n",
              "        \n",
              "  <svg xmlns=\"http://www.w3.org/2000/svg\" height=\"24px\"viewBox=\"0 0 24 24\"\n",
              "       width=\"24px\">\n",
              "    <path d=\"M0 0h24v24H0V0z\" fill=\"none\"/>\n",
              "    <path d=\"M18.56 5.44l.94 2.06.94-2.06 2.06-.94-2.06-.94-.94-2.06-.94 2.06-2.06.94zm-11 1L8.5 8.5l.94-2.06 2.06-.94-2.06-.94L8.5 2.5l-.94 2.06-2.06.94zm10 10l.94 2.06.94-2.06 2.06-.94-2.06-.94-.94-2.06-.94 2.06-2.06.94z\"/><path d=\"M17.41 7.96l-1.37-1.37c-.4-.4-.92-.59-1.43-.59-.52 0-1.04.2-1.43.59L10.3 9.45l-7.72 7.72c-.78.78-.78 2.05 0 2.83L4 21.41c.39.39.9.59 1.41.59.51 0 1.02-.2 1.41-.59l7.78-7.78 2.81-2.81c.8-.78.8-2.07 0-2.86zM5.41 20L4 18.59l7.72-7.72 1.47 1.35L5.41 20z\"/>\n",
              "  </svg>\n",
              "      </button>\n",
              "      \n",
              "  <style>\n",
              "    .colab-df-container {\n",
              "      display:flex;\n",
              "      flex-wrap:wrap;\n",
              "      gap: 12px;\n",
              "    }\n",
              "\n",
              "    .colab-df-convert {\n",
              "      background-color: #E8F0FE;\n",
              "      border: none;\n",
              "      border-radius: 50%;\n",
              "      cursor: pointer;\n",
              "      display: none;\n",
              "      fill: #1967D2;\n",
              "      height: 32px;\n",
              "      padding: 0 0 0 0;\n",
              "      width: 32px;\n",
              "    }\n",
              "\n",
              "    .colab-df-convert:hover {\n",
              "      background-color: #E2EBFA;\n",
              "      box-shadow: 0px 1px 2px rgba(60, 64, 67, 0.3), 0px 1px 3px 1px rgba(60, 64, 67, 0.15);\n",
              "      fill: #174EA6;\n",
              "    }\n",
              "\n",
              "    [theme=dark] .colab-df-convert {\n",
              "      background-color: #3B4455;\n",
              "      fill: #D2E3FC;\n",
              "    }\n",
              "\n",
              "    [theme=dark] .colab-df-convert:hover {\n",
              "      background-color: #434B5C;\n",
              "      box-shadow: 0px 1px 3px 1px rgba(0, 0, 0, 0.15);\n",
              "      filter: drop-shadow(0px 1px 2px rgba(0, 0, 0, 0.3));\n",
              "      fill: #FFFFFF;\n",
              "    }\n",
              "  </style>\n",
              "\n",
              "      <script>\n",
              "        const buttonEl =\n",
              "          document.querySelector('#df-cb6396ba-acd2-4a9e-9818-b44207669c17 button.colab-df-convert');\n",
              "        buttonEl.style.display =\n",
              "          google.colab.kernel.accessAllowed ? 'block' : 'none';\n",
              "\n",
              "        async function convertToInteractive(key) {\n",
              "          const element = document.querySelector('#df-cb6396ba-acd2-4a9e-9818-b44207669c17');\n",
              "          const dataTable =\n",
              "            await google.colab.kernel.invokeFunction('convertToInteractive',\n",
              "                                                     [key], {});\n",
              "          if (!dataTable) return;\n",
              "\n",
              "          const docLinkHtml = 'Like what you see? Visit the ' +\n",
              "            '<a target=\"_blank\" href=https://colab.research.google.com/notebooks/data_table.ipynb>data table notebook</a>'\n",
              "            + ' to learn more about interactive tables.';\n",
              "          element.innerHTML = '';\n",
              "          dataTable['output_type'] = 'display_data';\n",
              "          await google.colab.output.renderOutput(dataTable, element);\n",
              "          const docLink = document.createElement('div');\n",
              "          docLink.innerHTML = docLinkHtml;\n",
              "          element.appendChild(docLink);\n",
              "        }\n",
              "      </script>\n",
              "    </div>\n",
              "  </div>\n",
              "  "
            ]
          },
          "metadata": {},
          "execution_count": 48
        }
      ]
    },
    {
      "cell_type": "code",
      "source": [
        "plt.figure(figsize=(10,7))\n",
        "sns.regplot(data=rounded_density, x='rounded', y='rs_value', color='tomato')\n",
        "plt.title('Correlation between Density and Value rating score')\n",
        "plt.ylabel('Value rating score (points)')\n",
        "plt.xlabel('Density in rounded number of each neighbourhood (sq km)')\n",
        "plt.show()"
      ],
      "metadata": {
        "colab": {
          "base_uri": "https://localhost:8080/",
          "height": 464
        },
        "id": "0vOhbTgBYxXl",
        "outputId": "8f7937c5-1a5e-4bae-b024-8d01cacf52ba"
      },
      "execution_count": null,
      "outputs": [
        {
          "output_type": "display_data",
          "data": {
            "text/plain": [
              "<Figure size 720x504 with 1 Axes>"
            ],
            "image/png": "[encoded data removed]"
          },
          "metadata": {}
        }
      ]
    },
    {
      "cell_type": "markdown",
      "source": [
        "There is a negative correlation between rating score and density. Locations with densely distributed have a lower rating score and locations with sparse density have relatively high score of value rating. "
      ],
      "metadata": {
        "id": "UtlogVnNk-hB"
      }
    },
    {
      "cell_type": "markdown",
      "source": [
        "In order to get a better view on how much of rating score that listings in each level of density are getting from guests, we can make a reference to a standard score of 4.8 (which is the requirement to overall rating score to [become a superhost](https://www.airbnb.com/help/article/829/how-to-become-a-superhost), but this number can be also used in this scale of analysis for better understanding on the performance of listings) and compare with average median score in each group."
      ],
      "metadata": {
        "id": "hehbtQCF13vw"
      }
    },
    {
      "cell_type": "code",
      "source": [
        "rounded_density['diff_fr_std'] = ((rounded_density['rs_value'] - 4.8)/ 4.8) * 100"
      ],
      "metadata": {
        "id": "z9SnrUuvgweC"
      },
      "execution_count": null,
      "outputs": []
    },
    {
      "cell_type": "code",
      "source": [
        "rounded_density['diff_fr_std'] = rounded_density['diff_fr_std'].round(1)"
      ],
      "metadata": {
        "id": "5hVvHf-keJQ5"
      },
      "execution_count": null,
      "outputs": []
    },
    {
      "cell_type": "code",
      "source": [
        "rounded_density['group'] = pd.cut(rounded_density['rounded'], \n",
        "                                  bins=[0.0,5,10,15,20,rounded_density['rounded'].max()], \n",
        "                                  labels=['1-5', '6-10', '11-15', '16-20', '+20'])"
      ],
      "metadata": {
        "id": "Mxy8pfGOiWxl"
      },
      "execution_count": null,
      "outputs": []
    },
    {
      "cell_type": "code",
      "source": [
        "grouped_density = rounded_density.groupby('group')['diff_fr_std', 'rs_value'].mean().reset_index()\n",
        "grouped_density"
      ],
      "metadata": {
        "colab": {
          "base_uri": "https://localhost:8080/",
          "height": 262
        },
        "id": "CqOjENrjfR8W",
        "outputId": "a2a23ad7-6057-4580-a454-8d30f07fa840"
      },
      "execution_count": null,
      "outputs": [
        {
          "output_type": "stream",
          "name": "stderr",
          "text": [
            "/usr/local/lib/python3.7/dist-packages/ipykernel_launcher.py:1: FutureWarning: Indexing with multiple keys (implicitly converted to a tuple of keys) will be deprecated, use a list instead.\n",
            "  \"\"\"Entry point for launching an IPython kernel.\n"
          ]
        },
        {
          "output_type": "execute_result",
          "data": {
            "text/plain": [
              "   group  diff_fr_std  rs_value\n",
              "0    1-5         0.70     4.835\n",
              "1   6-10         0.06     4.803\n",
              "2  11-15         0.06     4.803\n",
              "3  16-20        -0.22     4.788\n",
              "4    +20        -2.72     4.670"
            ],
            "text/html": [
              "\n",
              "  <div id=\"df-80c2a8fb-1f81-4101-957e-9af9955046df\">\n",
              "    <div class=\"colab-df-container\">\n",
              "      <div>\n",
              "<style scoped>\n",
              "    .dataframe tbody tr th:only-of-type {\n",
              "        vertical-align: middle;\n",
              "    }\n",
              "\n",
              "    .dataframe tbody tr th {\n",
              "        vertical-align: top;\n",
              "    }\n",
              "\n",
              "    .dataframe thead th {\n",
              "        text-align: right;\n",
              "    }\n",
              "</style>\n",
              "<table border=\"1\" class=\"dataframe\">\n",
              "  <thead>\n",
              "    <tr style=\"text-align: right;\">\n",
              "      <th></th>\n",
              "      <th>group</th>\n",
              "      <th>diff_fr_std</th>\n",
              "      <th>rs_value</th>\n",
              "    </tr>\n",
              "  </thead>\n",
              "  <tbody>\n",
              "    <tr>\n",
              "      <th>0</th>\n",
              "      <td>1-5</td>\n",
              "      <td>0.70</td>\n",
              "      <td>4.835</td>\n",
              "    </tr>\n",
              "    <tr>\n",
              "      <th>1</th>\n",
              "      <td>6-10</td>\n",
              "      <td>0.06</td>\n",
              "      <td>4.803</td>\n",
              "    </tr>\n",
              "    <tr>\n",
              "      <th>2</th>\n",
              "      <td>11-15</td>\n",
              "      <td>0.06</td>\n",
              "      <td>4.803</td>\n",
              "    </tr>\n",
              "    <tr>\n",
              "      <th>3</th>\n",
              "      <td>16-20</td>\n",
              "      <td>-0.22</td>\n",
              "      <td>4.788</td>\n",
              "    </tr>\n",
              "    <tr>\n",
              "      <th>4</th>\n",
              "      <td>+20</td>\n",
              "      <td>-2.72</td>\n",
              "      <td>4.670</td>\n",
              "    </tr>\n",
              "  </tbody>\n",
              "</table>\n",
              "</div>\n",
              "      <button class=\"colab-df-convert\" onclick=\"convertToInteractive('df-80c2a8fb-1f81-4101-957e-9af9955046df')\"\n",
              "              title=\"Convert this dataframe to an interactive table.\"\n",
              "              style=\"display:none;\">\n",
              "        \n",
              "  <svg xmlns=\"http://www.w3.org/2000/svg\" height=\"24px\"viewBox=\"0 0 24 24\"\n",
              "       width=\"24px\">\n",
              "    <path d=\"M0 0h24v24H0V0z\" fill=\"none\"/>\n",
              "    <path d=\"M18.56 5.44l.94 2.06.94-2.06 2.06-.94-2.06-.94-.94-2.06-.94 2.06-2.06.94zm-11 1L8.5 8.5l.94-2.06 2.06-.94-2.06-.94L8.5 2.5l-.94 2.06-2.06.94zm10 10l.94 2.06.94-2.06 2.06-.94-2.06-.94-.94-2.06-.94 2.06-2.06.94z\"/><path d=\"M17.41 7.96l-1.37-1.37c-.4-.4-.92-.59-1.43-.59-.52 0-1.04.2-1.43.59L10.3 9.45l-7.72 7.72c-.78.78-.78 2.05 0 2.83L4 21.41c.39.39.9.59 1.41.59.51 0 1.02-.2 1.41-.59l7.78-7.78 2.81-2.81c.8-.78.8-2.07 0-2.86zM5.41 20L4 18.59l7.72-7.72 1.47 1.35L5.41 20z\"/>\n",
              "  </svg>\n",
              "      </button>\n",
              "      \n",
              "  <style>\n",
              "    .colab-df-container {\n",
              "      display:flex;\n",
              "      flex-wrap:wrap;\n",
              "      gap: 12px;\n",
              "    }\n",
              "\n",
              "    .colab-df-convert {\n",
              "      background-color: #E8F0FE;\n",
              "      border: none;\n",
              "      border-radius: 50%;\n",
              "      cursor: pointer;\n",
              "      display: none;\n",
              "      fill: #1967D2;\n",
              "      height: 32px;\n",
              "      padding: 0 0 0 0;\n",
              "      width: 32px;\n",
              "    }\n",
              "\n",
              "    .colab-df-convert:hover {\n",
              "      background-color: #E2EBFA;\n",
              "      box-shadow: 0px 1px 2px rgba(60, 64, 67, 0.3), 0px 1px 3px 1px rgba(60, 64, 67, 0.15);\n",
              "      fill: #174EA6;\n",
              "    }\n",
              "\n",
              "    [theme=dark] .colab-df-convert {\n",
              "      background-color: #3B4455;\n",
              "      fill: #D2E3FC;\n",
              "    }\n",
              "\n",
              "    [theme=dark] .colab-df-convert:hover {\n",
              "      background-color: #434B5C;\n",
              "      box-shadow: 0px 1px 3px 1px rgba(0, 0, 0, 0.15);\n",
              "      filter: drop-shadow(0px 1px 2px rgba(0, 0, 0, 0.3));\n",
              "      fill: #FFFFFF;\n",
              "    }\n",
              "  </style>\n",
              "\n",
              "      <script>\n",
              "        const buttonEl =\n",
              "          document.querySelector('#df-80c2a8fb-1f81-4101-957e-9af9955046df button.colab-df-convert');\n",
              "        buttonEl.style.display =\n",
              "          google.colab.kernel.accessAllowed ? 'block' : 'none';\n",
              "\n",
              "        async function convertToInteractive(key) {\n",
              "          const element = document.querySelector('#df-80c2a8fb-1f81-4101-957e-9af9955046df');\n",
              "          const dataTable =\n",
              "            await google.colab.kernel.invokeFunction('convertToInteractive',\n",
              "                                                     [key], {});\n",
              "          if (!dataTable) return;\n",
              "\n",
              "          const docLinkHtml = 'Like what you see? Visit the ' +\n",
              "            '<a target=\"_blank\" href=https://colab.research.google.com/notebooks/data_table.ipynb>data table notebook</a>'\n",
              "            + ' to learn more about interactive tables.';\n",
              "          element.innerHTML = '';\n",
              "          dataTable['output_type'] = 'display_data';\n",
              "          await google.colab.output.renderOutput(dataTable, element);\n",
              "          const docLink = document.createElement('div');\n",
              "          docLink.innerHTML = docLinkHtml;\n",
              "          element.appendChild(docLink);\n",
              "        }\n",
              "      </script>\n",
              "    </div>\n",
              "  </div>\n",
              "  "
            ]
          },
          "metadata": {},
          "execution_count": 53
        }
      ]
    },
    {
      "cell_type": "markdown",
      "source": [
        "Based on the above result table, we then plot it to the graph so as to show how difference of value rating score from standard in each of group of density."
      ],
      "metadata": {
        "id": "t7RvBmYD5mcj"
      }
    },
    {
      "cell_type": "code",
      "source": [
        "plt.figure(figsize=(5,7))\n",
        "sns.barplot(data=grouped_density, x='group', y='diff_fr_std')\n",
        "plt.xlabel('Groups of listings in a square km')\n",
        "plt.ylabel('Difference from standard score (points)')\n",
        "plt.show()"
      ],
      "metadata": {
        "colab": {
          "base_uri": "https://localhost:8080/",
          "height": 448
        },
        "id": "AUETMAxMfR5R",
        "outputId": "0503be03-4098-4d42-e284-9fc570fb87d1"
      },
      "execution_count": null,
      "outputs": [
        {
          "output_type": "display_data",
          "data": {
            "text/plain": [
              "<Figure size 360x504 with 1 Axes>"
            ],
            "image/png": "[encoded data removed]"
          },
          "metadata": {}
        }
      ]
    },
    {
      "cell_type": "markdown",
      "source": [
        "We can see that in places where listings are not much densly distributed (15 listings or below in one square km) tend to perform well in value rating score as the scores are all higher from 0.1% to 0.7% comparing to a standard 4.8 score. <br>\n",
        "And when there is a high competitive rate in one square km (over 15 listings), value rating scores of these listings here are not highly evaluated as they are much lower than the standard score from 0.22% (group of 16-20 listings) to 2.72% (group of over 20 listings in one sq km) "
      ],
      "metadata": {
        "id": "ROlXAugW58Cc"
      }
    },
    {
      "cell_type": "markdown",
      "source": [
        "As being summed up from an article published on HBR about the outcome when there is a lot of choices:  <br><br>\n",
        "***What’s more, psychologists and business academics alike have largely ignored another outcome of choice: More of it requires increased time and effort and can lead to anxiety, regret, excessively high expectations, and self-blame if the choices don’t work out.*** <br>\n",
        "Barry Schwartz (June 2006). *More isn't always better*. Harvard Business Review. https://hbr.org/2006/06/more-isnt-always-better"
      ],
      "metadata": {
        "id": "d6demF75PeGU"
      }
    },
    {
      "cell_type": "markdown",
      "source": [
        "As number of listings grow, hosts now can manage multiple properties by their owns or cooperate their counterparts. In the next analysis, we will see when one host has many listings to manage, will the value rating score go up or down? "
      ],
      "metadata": {
        "id": "JnUunBv99otU"
      }
    },
    {
      "cell_type": "markdown",
      "source": [
        "### Number of properties managed"
      ],
      "metadata": {
        "id": "yLPbx86umJV4"
      }
    },
    {
      "cell_type": "code",
      "source": [
        "df['host_listings_count'].describe()"
      ],
      "metadata": {
        "colab": {
          "base_uri": "https://localhost:8080/"
        },
        "id": "mrmpGRA2jK7P",
        "outputId": "7df325ad-c3bd-4c9c-c8fb-a1e0acf34f83"
      },
      "execution_count": null,
      "outputs": [
        {
          "output_type": "execute_result",
          "data": {
            "text/plain": [
              "count    17195.000000\n",
              "mean        18.249549\n",
              "std        110.920159\n",
              "min          0.000000\n",
              "25%          1.000000\n",
              "50%          2.000000\n",
              "75%          8.000000\n",
              "max       2633.000000\n",
              "Name: host_listings_count, dtype: float64"
            ]
          },
          "metadata": {},
          "execution_count": 55
        }
      ]
    },
    {
      "cell_type": "markdown",
      "source": [
        "As the variable `host_listings_count` varies from 0 up to 2633, we will get rid of outliers for better analysis."
      ],
      "metadata": {
        "id": "j6Nf70szBw-p"
      }
    },
    {
      "cell_type": "code",
      "source": [
        "q1 = df['host_listings_count'].quantile(0.25)\n",
        "q3 = df['host_listings_count'].quantile(0.75)\n",
        "\n",
        "iqr = q3 - q1\n",
        "\n",
        "lower = q1 - 1.5*iqr\n",
        "upper = q3 + 1.5*iqr"
      ],
      "metadata": {
        "id": "85s7A50inNt4"
      },
      "execution_count": null,
      "outputs": []
    },
    {
      "cell_type": "code",
      "source": [
        "df_manage = df[(df['host_listings_count'] > 0) & (df['host_listings_count'] < upper)]"
      ],
      "metadata": {
        "id": "9DBViV4EnNrA"
      },
      "execution_count": null,
      "outputs": []
    },
    {
      "cell_type": "code",
      "source": [
        "df_manage['host_listings_count'].describe()"
      ],
      "metadata": {
        "colab": {
          "base_uri": "https://localhost:8080/"
        },
        "id": "Z1SZ158AnNoJ",
        "outputId": "910bd255-3ef3-4f86-d92f-1d63e247806c"
      },
      "execution_count": null,
      "outputs": [
        {
          "output_type": "execute_result",
          "data": {
            "text/plain": [
              "count    11743.000000\n",
              "mean         4.155838\n",
              "std          4.108568\n",
              "min          1.000000\n",
              "25%          1.000000\n",
              "50%          2.000000\n",
              "75%          5.000000\n",
              "max         18.000000\n",
              "Name: host_listings_count, dtype: float64"
            ]
          },
          "metadata": {},
          "execution_count": 58
        }
      ]
    },
    {
      "cell_type": "markdown",
      "source": [
        "Same with above technique used, we also group data into each number of listings one host manage with aggregation of value rating score. "
      ],
      "metadata": {
        "id": "ALIOd4UwCCkH"
      }
    },
    {
      "cell_type": "code",
      "source": [
        "plot_manage = df_manage.groupby('host_listings_count').agg({'rs_value':'median', 'host_id':'nunique'}).reset_index()"
      ],
      "metadata": {
        "id": "uq4BEJeDnNlB"
      },
      "execution_count": null,
      "outputs": []
    },
    {
      "cell_type": "code",
      "source": [
        "plot_manage"
      ],
      "metadata": {
        "colab": {
          "base_uri": "https://localhost:8080/",
          "height": 614
        },
        "id": "2xM8vnZVsbaP",
        "outputId": "bd7e94a1-d0bc-4996-e6bc-d7f3adb80fbb"
      },
      "execution_count": null,
      "outputs": [
        {
          "output_type": "execute_result",
          "data": {
            "text/plain": [
              "    host_listings_count  rs_value  host_id\n",
              "0                   1.0     4.850     3628\n",
              "1                   2.0     4.830     1433\n",
              "2                   3.0     4.810      704\n",
              "3                   4.0     4.800      357\n",
              "4                   5.0     4.770      255\n",
              "5                   6.0     4.750      166\n",
              "6                   7.0     4.700      100\n",
              "7                   8.0     4.770       74\n",
              "8                   9.0     4.695       55\n",
              "9                  10.0     4.690       47\n",
              "10                 11.0     4.670       39\n",
              "11                 12.0     4.645       28\n",
              "12                 13.0     4.750       36\n",
              "13                 14.0     4.730       22\n",
              "14                 15.0     4.640       21\n",
              "15                 16.0     4.720       18\n",
              "16                 17.0     4.615       13\n",
              "17                 18.0     4.635       13"
            ],
            "text/html": [
              "\n",
              "  <div id=\"df-076dbc69-5583-4987-b5b6-d143d4227b94\">\n",
              "    <div class=\"colab-df-container\">\n",
              "      <div>\n",
              "<style scoped>\n",
              "    .dataframe tbody tr th:only-of-type {\n",
              "        vertical-align: middle;\n",
              "    }\n",
              "\n",
              "    .dataframe tbody tr th {\n",
              "        vertical-align: top;\n",
              "    }\n",
              "\n",
              "    .dataframe thead th {\n",
              "        text-align: right;\n",
              "    }\n",
              "</style>\n",
              "<table border=\"1\" class=\"dataframe\">\n",
              "  <thead>\n",
              "    <tr style=\"text-align: right;\">\n",
              "      <th></th>\n",
              "      <th>host_listings_count</th>\n",
              "      <th>rs_value</th>\n",
              "      <th>host_id</th>\n",
              "    </tr>\n",
              "  </thead>\n",
              "  <tbody>\n",
              "    <tr>\n",
              "      <th>0</th>\n",
              "      <td>1.0</td>\n",
              "      <td>4.850</td>\n",
              "      <td>3628</td>\n",
              "    </tr>\n",
              "    <tr>\n",
              "      <th>1</th>\n",
              "      <td>2.0</td>\n",
              "      <td>4.830</td>\n",
              "      <td>1433</td>\n",
              "    </tr>\n",
              "    <tr>\n",
              "      <th>2</th>\n",
              "      <td>3.0</td>\n",
              "      <td>4.810</td>\n",
              "      <td>704</td>\n",
              "    </tr>\n",
              "    <tr>\n",
              "      <th>3</th>\n",
              "      <td>4.0</td>\n",
              "      <td>4.800</td>\n",
              "      <td>357</td>\n",
              "    </tr>\n",
              "    <tr>\n",
              "      <th>4</th>\n",
              "      <td>5.0</td>\n",
              "      <td>4.770</td>\n",
              "      <td>255</td>\n",
              "    </tr>\n",
              "    <tr>\n",
              "      <th>5</th>\n",
              "      <td>6.0</td>\n",
              "      <td>4.750</td>\n",
              "      <td>166</td>\n",
              "    </tr>\n",
              "    <tr>\n",
              "      <th>6</th>\n",
              "      <td>7.0</td>\n",
              "      <td>4.700</td>\n",
              "      <td>100</td>\n",
              "    </tr>\n",
              "    <tr>\n",
              "      <th>7</th>\n",
              "      <td>8.0</td>\n",
              "      <td>4.770</td>\n",
              "      <td>74</td>\n",
              "    </tr>\n",
              "    <tr>\n",
              "      <th>8</th>\n",
              "      <td>9.0</td>\n",
              "      <td>4.695</td>\n",
              "      <td>55</td>\n",
              "    </tr>\n",
              "    <tr>\n",
              "      <th>9</th>\n",
              "      <td>10.0</td>\n",
              "      <td>4.690</td>\n",
              "      <td>47</td>\n",
              "    </tr>\n",
              "    <tr>\n",
              "      <th>10</th>\n",
              "      <td>11.0</td>\n",
              "      <td>4.670</td>\n",
              "      <td>39</td>\n",
              "    </tr>\n",
              "    <tr>\n",
              "      <th>11</th>\n",
              "      <td>12.0</td>\n",
              "      <td>4.645</td>\n",
              "      <td>28</td>\n",
              "    </tr>\n",
              "    <tr>\n",
              "      <th>12</th>\n",
              "      <td>13.0</td>\n",
              "      <td>4.750</td>\n",
              "      <td>36</td>\n",
              "    </tr>\n",
              "    <tr>\n",
              "      <th>13</th>\n",
              "      <td>14.0</td>\n",
              "      <td>4.730</td>\n",
              "      <td>22</td>\n",
              "    </tr>\n",
              "    <tr>\n",
              "      <th>14</th>\n",
              "      <td>15.0</td>\n",
              "      <td>4.640</td>\n",
              "      <td>21</td>\n",
              "    </tr>\n",
              "    <tr>\n",
              "      <th>15</th>\n",
              "      <td>16.0</td>\n",
              "      <td>4.720</td>\n",
              "      <td>18</td>\n",
              "    </tr>\n",
              "    <tr>\n",
              "      <th>16</th>\n",
              "      <td>17.0</td>\n",
              "      <td>4.615</td>\n",
              "      <td>13</td>\n",
              "    </tr>\n",
              "    <tr>\n",
              "      <th>17</th>\n",
              "      <td>18.0</td>\n",
              "      <td>4.635</td>\n",
              "      <td>13</td>\n",
              "    </tr>\n",
              "  </tbody>\n",
              "</table>\n",
              "</div>\n",
              "      <button class=\"colab-df-convert\" onclick=\"convertToInteractive('df-076dbc69-5583-4987-b5b6-d143d4227b94')\"\n",
              "              title=\"Convert this dataframe to an interactive table.\"\n",
              "              style=\"display:none;\">\n",
              "        \n",
              "  <svg xmlns=\"http://www.w3.org/2000/svg\" height=\"24px\"viewBox=\"0 0 24 24\"\n",
              "       width=\"24px\">\n",
              "    <path d=\"M0 0h24v24H0V0z\" fill=\"none\"/>\n",
              "    <path d=\"M18.56 5.44l.94 2.06.94-2.06 2.06-.94-2.06-.94-.94-2.06-.94 2.06-2.06.94zm-11 1L8.5 8.5l.94-2.06 2.06-.94-2.06-.94L8.5 2.5l-.94 2.06-2.06.94zm10 10l.94 2.06.94-2.06 2.06-.94-2.06-.94-.94-2.06-.94 2.06-2.06.94z\"/><path d=\"M17.41 7.96l-1.37-1.37c-.4-.4-.92-.59-1.43-.59-.52 0-1.04.2-1.43.59L10.3 9.45l-7.72 7.72c-.78.78-.78 2.05 0 2.83L4 21.41c.39.39.9.59 1.41.59.51 0 1.02-.2 1.41-.59l7.78-7.78 2.81-2.81c.8-.78.8-2.07 0-2.86zM5.41 20L4 18.59l7.72-7.72 1.47 1.35L5.41 20z\"/>\n",
              "  </svg>\n",
              "      </button>\n",
              "      \n",
              "  <style>\n",
              "    .colab-df-container {\n",
              "      display:flex;\n",
              "      flex-wrap:wrap;\n",
              "      gap: 12px;\n",
              "    }\n",
              "\n",
              "    .colab-df-convert {\n",
              "      background-color: #E8F0FE;\n",
              "      border: none;\n",
              "      border-radius: 50%;\n",
              "      cursor: pointer;\n",
              "      display: none;\n",
              "      fill: #1967D2;\n",
              "      height: 32px;\n",
              "      padding: 0 0 0 0;\n",
              "      width: 32px;\n",
              "    }\n",
              "\n",
              "    .colab-df-convert:hover {\n",
              "      background-color: #E2EBFA;\n",
              "      box-shadow: 0px 1px 2px rgba(60, 64, 67, 0.3), 0px 1px 3px 1px rgba(60, 64, 67, 0.15);\n",
              "      fill: #174EA6;\n",
              "    }\n",
              "\n",
              "    [theme=dark] .colab-df-convert {\n",
              "      background-color: #3B4455;\n",
              "      fill: #D2E3FC;\n",
              "    }\n",
              "\n",
              "    [theme=dark] .colab-df-convert:hover {\n",
              "      background-color: #434B5C;\n",
              "      box-shadow: 0px 1px 3px 1px rgba(0, 0, 0, 0.15);\n",
              "      filter: drop-shadow(0px 1px 2px rgba(0, 0, 0, 0.3));\n",
              "      fill: #FFFFFF;\n",
              "    }\n",
              "  </style>\n",
              "\n",
              "      <script>\n",
              "        const buttonEl =\n",
              "          document.querySelector('#df-076dbc69-5583-4987-b5b6-d143d4227b94 button.colab-df-convert');\n",
              "        buttonEl.style.display =\n",
              "          google.colab.kernel.accessAllowed ? 'block' : 'none';\n",
              "\n",
              "        async function convertToInteractive(key) {\n",
              "          const element = document.querySelector('#df-076dbc69-5583-4987-b5b6-d143d4227b94');\n",
              "          const dataTable =\n",
              "            await google.colab.kernel.invokeFunction('convertToInteractive',\n",
              "                                                     [key], {});\n",
              "          if (!dataTable) return;\n",
              "\n",
              "          const docLinkHtml = 'Like what you see? Visit the ' +\n",
              "            '<a target=\"_blank\" href=https://colab.research.google.com/notebooks/data_table.ipynb>data table notebook</a>'\n",
              "            + ' to learn more about interactive tables.';\n",
              "          element.innerHTML = '';\n",
              "          dataTable['output_type'] = 'display_data';\n",
              "          await google.colab.output.renderOutput(dataTable, element);\n",
              "          const docLink = document.createElement('div');\n",
              "          docLink.innerHTML = docLinkHtml;\n",
              "          element.appendChild(docLink);\n",
              "        }\n",
              "      </script>\n",
              "    </div>\n",
              "  </div>\n",
              "  "
            ]
          },
          "metadata": {},
          "execution_count": 60
        }
      ]
    },
    {
      "cell_type": "code",
      "source": [
        "plt.figure(figsize=(10,7))\n",
        "sns.regplot(data=plot_manage, x='host_listings_count', y='rs_value', color='tomato')\n",
        "plt.title('Correlation between Number of properties managed and Value rating score')\n",
        "plt.xlabel('Number of properties managed')\n",
        "plt.ylabel('Value rating score (points)')"
      ],
      "metadata": {
        "colab": {
          "base_uri": "https://localhost:8080/",
          "height": 482
        },
        "id": "8KSEPSjenmOM",
        "outputId": "9194bc7e-9743-417d-d9c0-4b2b4cb02236"
      },
      "execution_count": null,
      "outputs": [
        {
          "output_type": "execute_result",
          "data": {
            "text/plain": [
              "Text(0, 0.5, 'Value rating score (points)')"
            ]
          },
          "metadata": {},
          "execution_count": 61
        },
        {
          "output_type": "display_data",
          "data": {
            "text/plain": [
              "<Figure size 720x504 with 1 Axes>"
            ],
            "image/png": "[encoded data removed]"
          },
          "metadata": {}
        }
      ]
    },
    {
      "cell_type": "markdown",
      "source": [
        "There is a negative correlation here. When a host has too many properties to manage, they tend to get lower value rating score than hosts manage only a few listings. "
      ],
      "metadata": {
        "id": "JpZP0TXYC-hf"
      }
    },
    {
      "cell_type": "markdown",
      "source": [
        "We also compare that rating score in each level of properties managed to the standard score. "
      ],
      "metadata": {
        "id": "D1_qWI64DzXM"
      }
    },
    {
      "cell_type": "code",
      "source": [
        "plot_manage['diff_fr_std'] = ((plot_manage['rs_value'] - 4.8) / 4.8) * 100"
      ],
      "metadata": {
        "id": "tVLbdtJnnNiL"
      },
      "execution_count": null,
      "outputs": []
    },
    {
      "cell_type": "code",
      "source": [
        "plot_manage['host_listings_count'] = plot_manage['host_listings_count'].astype('int')"
      ],
      "metadata": {
        "id": "qvg0ET70Ee_N"
      },
      "execution_count": null,
      "outputs": []
    },
    {
      "cell_type": "code",
      "source": [
        "plt.figure(figsize=(10,7))\n",
        "sns.barplot(data=plot_manage, x='host_listings_count', y='diff_fr_std')\n",
        "plt.xlabel('Number of properties managed')\n",
        "plt.ylabel('Difference from standard score (points)')\n",
        "plt.show()"
      ],
      "metadata": {
        "colab": {
          "base_uri": "https://localhost:8080/",
          "height": 448
        },
        "id": "edn4S_0SsZx2",
        "outputId": "aa9d94b5-0b38-48d4-ce33-a07e995379af"
      },
      "execution_count": null,
      "outputs": [
        {
          "output_type": "display_data",
          "data": {
            "text/plain": [
              "<Figure size 720x504 with 1 Axes>"
            ],
            "image/png": "[encoded data removed]"
          },
          "metadata": {}
        }
      ]
    },
    {
      "cell_type": "markdown",
      "source": [
        "Based on the above graph, hosts that manage 4 listings or below are doing great as their scores are equal or even 1% higher to the standard score. <br>\n",
        "Meanwhile, when the number of properties one host manages is from 4 and up to 18, the rating scores are much lower than standard score from 0.6% till 3.9%. "
      ],
      "metadata": {
        "id": "vKu5W68lEUtZ"
      }
    },
    {
      "cell_type": "markdown",
      "source": [
        "For further analysis, we will take a deep dive into the variable `host_listings_count` to see whether there is any patterns with other variables. <br>\n",
        "First, we are curious that whether experienced hosts manage multiple properties better than regular hosts? <br>\n",
        "One factor that helps explain it is to make a reference to `superhost` badge status. "
      ],
      "metadata": {
        "id": "7NEokbrvVsed"
      }
    },
    {
      "cell_type": "code",
      "source": [
        "plot_superhost = df_manage.groupby(['host_listings_count', 'superhost']).agg({'rs_value':'median', 'id':'count'}).reset_index()"
      ],
      "metadata": {
        "id": "do5zOzmljN9z"
      },
      "execution_count": null,
      "outputs": []
    },
    {
      "cell_type": "code",
      "source": [
        "plot_superhost"
      ],
      "metadata": {
        "colab": {
          "base_uri": "https://localhost:8080/",
          "height": 1000
        },
        "id": "b2p7mrtTsf96",
        "outputId": "0620c8f7-4197-4495-fcfd-36b7350204c9"
      },
      "execution_count": null,
      "outputs": [
        {
          "output_type": "execute_result",
          "data": {
            "text/plain": [
              "    host_listings_count superhost  rs_value    id\n",
              "0                   1.0         f     4.800  2140\n",
              "1                   1.0         t     4.880  1773\n",
              "2                   2.0         f     4.760  1060\n",
              "3                   2.0         t     4.860   978\n",
              "4                   3.0         f     4.710   666\n",
              "5                   3.0         t     4.850   658\n",
              "6                   4.0         f     4.750   492\n",
              "7                   4.0         t     4.840   366\n",
              "8                   5.0         f     4.680   355\n",
              "9                   5.0         t     4.830   333\n",
              "10                  6.0         f     4.670   316\n",
              "11                  6.0         t     4.830   200\n",
              "12                  7.0         f     4.630   257\n",
              "13                  7.0         t     4.805   128\n",
              "14                  8.0         f     4.670   190\n",
              "15                  8.0         t     4.850   134\n",
              "16                  9.0         f     4.600   148\n",
              "17                  9.0         t     4.790    84\n",
              "18                 10.0         f     4.670   219\n",
              "19                 10.0         t     4.780    44\n",
              "20                 11.0         f     4.550   150\n",
              "21                 11.0         t     4.820    53\n",
              "22                 12.0         f     4.515   104\n",
              "23                 12.0         t     4.750    58\n",
              "24                 13.0         f     4.625   108\n",
              "25                 13.0         t     4.810    95\n",
              "26                 14.0         f     4.670   109\n",
              "27                 14.0         t     4.810    44\n",
              "28                 15.0         f     4.570    82\n",
              "29                 15.0         t     4.745    34\n",
              "30                 16.0         f     4.710    97\n",
              "31                 16.0         t     4.750    52\n",
              "32                 17.0         f     4.580    81\n",
              "33                 17.0         t     4.900    21\n",
              "34                 18.0         f     4.630   111\n",
              "35                 18.0         t     4.750     3"
            ],
            "text/html": [
              "\n",
              "  <div id=\"df-b76fb475-d3fd-43aa-abea-4fb8a3921f91\">\n",
              "    <div class=\"colab-df-container\">\n",
              "      <div>\n",
              "<style scoped>\n",
              "    .dataframe tbody tr th:only-of-type {\n",
              "        vertical-align: middle;\n",
              "    }\n",
              "\n",
              "    .dataframe tbody tr th {\n",
              "        vertical-align: top;\n",
              "    }\n",
              "\n",
              "    .dataframe thead th {\n",
              "        text-align: right;\n",
              "    }\n",
              "</style>\n",
              "<table border=\"1\" class=\"dataframe\">\n",
              "  <thead>\n",
              "    <tr style=\"text-align: right;\">\n",
              "      <th></th>\n",
              "      <th>host_listings_count</th>\n",
              "      <th>superhost</th>\n",
              "      <th>rs_value</th>\n",
              "      <th>id</th>\n",
              "    </tr>\n",
              "  </thead>\n",
              "  <tbody>\n",
              "    <tr>\n",
              "      <th>0</th>\n",
              "      <td>1.0</td>\n",
              "      <td>f</td>\n",
              "      <td>4.800</td>\n",
              "      <td>2140</td>\n",
              "    </tr>\n",
              "    <tr>\n",
              "      <th>1</th>\n",
              "      <td>1.0</td>\n",
              "      <td>t</td>\n",
              "      <td>4.880</td>\n",
              "      <td>1773</td>\n",
              "    </tr>\n",
              "    <tr>\n",
              "      <th>2</th>\n",
              "      <td>2.0</td>\n",
              "      <td>f</td>\n",
              "      <td>4.760</td>\n",
              "      <td>1060</td>\n",
              "    </tr>\n",
              "    <tr>\n",
              "      <th>3</th>\n",
              "      <td>2.0</td>\n",
              "      <td>t</td>\n",
              "      <td>4.860</td>\n",
              "      <td>978</td>\n",
              "    </tr>\n",
              "    <tr>\n",
              "      <th>4</th>\n",
              "      <td>3.0</td>\n",
              "      <td>f</td>\n",
              "      <td>4.710</td>\n",
              "      <td>666</td>\n",
              "    </tr>\n",
              "    <tr>\n",
              "      <th>5</th>\n",
              "      <td>3.0</td>\n",
              "      <td>t</td>\n",
              "      <td>4.850</td>\n",
              "      <td>658</td>\n",
              "    </tr>\n",
              "    <tr>\n",
              "      <th>6</th>\n",
              "      <td>4.0</td>\n",
              "      <td>f</td>\n",
              "      <td>4.750</td>\n",
              "      <td>492</td>\n",
              "    </tr>\n",
              "    <tr>\n",
              "      <th>7</th>\n",
              "      <td>4.0</td>\n",
              "      <td>t</td>\n",
              "      <td>4.840</td>\n",
              "      <td>366</td>\n",
              "    </tr>\n",
              "    <tr>\n",
              "      <th>8</th>\n",
              "      <td>5.0</td>\n",
              "      <td>f</td>\n",
              "      <td>4.680</td>\n",
              "      <td>355</td>\n",
              "    </tr>\n",
              "    <tr>\n",
              "      <th>9</th>\n",
              "      <td>5.0</td>\n",
              "      <td>t</td>\n",
              "      <td>4.830</td>\n",
              "      <td>333</td>\n",
              "    </tr>\n",
              "    <tr>\n",
              "      <th>10</th>\n",
              "      <td>6.0</td>\n",
              "      <td>f</td>\n",
              "      <td>4.670</td>\n",
              "      <td>316</td>\n",
              "    </tr>\n",
              "    <tr>\n",
              "      <th>11</th>\n",
              "      <td>6.0</td>\n",
              "      <td>t</td>\n",
              "      <td>4.830</td>\n",
              "      <td>200</td>\n",
              "    </tr>\n",
              "    <tr>\n",
              "      <th>12</th>\n",
              "      <td>7.0</td>\n",
              "      <td>f</td>\n",
              "      <td>4.630</td>\n",
              "      <td>257</td>\n",
              "    </tr>\n",
              "    <tr>\n",
              "      <th>13</th>\n",
              "      <td>7.0</td>\n",
              "      <td>t</td>\n",
              "      <td>4.805</td>\n",
              "      <td>128</td>\n",
              "    </tr>\n",
              "    <tr>\n",
              "      <th>14</th>\n",
              "      <td>8.0</td>\n",
              "      <td>f</td>\n",
              "      <td>4.670</td>\n",
              "      <td>190</td>\n",
              "    </tr>\n",
              "    <tr>\n",
              "      <th>15</th>\n",
              "      <td>8.0</td>\n",
              "      <td>t</td>\n",
              "      <td>4.850</td>\n",
              "      <td>134</td>\n",
              "    </tr>\n",
              "    <tr>\n",
              "      <th>16</th>\n",
              "      <td>9.0</td>\n",
              "      <td>f</td>\n",
              "      <td>4.600</td>\n",
              "      <td>148</td>\n",
              "    </tr>\n",
              "    <tr>\n",
              "      <th>17</th>\n",
              "      <td>9.0</td>\n",
              "      <td>t</td>\n",
              "      <td>4.790</td>\n",
              "      <td>84</td>\n",
              "    </tr>\n",
              "    <tr>\n",
              "      <th>18</th>\n",
              "      <td>10.0</td>\n",
              "      <td>f</td>\n",
              "      <td>4.670</td>\n",
              "      <td>219</td>\n",
              "    </tr>\n",
              "    <tr>\n",
              "      <th>19</th>\n",
              "      <td>10.0</td>\n",
              "      <td>t</td>\n",
              "      <td>4.780</td>\n",
              "      <td>44</td>\n",
              "    </tr>\n",
              "    <tr>\n",
              "      <th>20</th>\n",
              "      <td>11.0</td>\n",
              "      <td>f</td>\n",
              "      <td>4.550</td>\n",
              "      <td>150</td>\n",
              "    </tr>\n",
              "    <tr>\n",
              "      <th>21</th>\n",
              "      <td>11.0</td>\n",
              "      <td>t</td>\n",
              "      <td>4.820</td>\n",
              "      <td>53</td>\n",
              "    </tr>\n",
              "    <tr>\n",
              "      <th>22</th>\n",
              "      <td>12.0</td>\n",
              "      <td>f</td>\n",
              "      <td>4.515</td>\n",
              "      <td>104</td>\n",
              "    </tr>\n",
              "    <tr>\n",
              "      <th>23</th>\n",
              "      <td>12.0</td>\n",
              "      <td>t</td>\n",
              "      <td>4.750</td>\n",
              "      <td>58</td>\n",
              "    </tr>\n",
              "    <tr>\n",
              "      <th>24</th>\n",
              "      <td>13.0</td>\n",
              "      <td>f</td>\n",
              "      <td>4.625</td>\n",
              "      <td>108</td>\n",
              "    </tr>\n",
              "    <tr>\n",
              "      <th>25</th>\n",
              "      <td>13.0</td>\n",
              "      <td>t</td>\n",
              "      <td>4.810</td>\n",
              "      <td>95</td>\n",
              "    </tr>\n",
              "    <tr>\n",
              "      <th>26</th>\n",
              "      <td>14.0</td>\n",
              "      <td>f</td>\n",
              "      <td>4.670</td>\n",
              "      <td>109</td>\n",
              "    </tr>\n",
              "    <tr>\n",
              "      <th>27</th>\n",
              "      <td>14.0</td>\n",
              "      <td>t</td>\n",
              "      <td>4.810</td>\n",
              "      <td>44</td>\n",
              "    </tr>\n",
              "    <tr>\n",
              "      <th>28</th>\n",
              "      <td>15.0</td>\n",
              "      <td>f</td>\n",
              "      <td>4.570</td>\n",
              "      <td>82</td>\n",
              "    </tr>\n",
              "    <tr>\n",
              "      <th>29</th>\n",
              "      <td>15.0</td>\n",
              "      <td>t</td>\n",
              "      <td>4.745</td>\n",
              "      <td>34</td>\n",
              "    </tr>\n",
              "    <tr>\n",
              "      <th>30</th>\n",
              "      <td>16.0</td>\n",
              "      <td>f</td>\n",
              "      <td>4.710</td>\n",
              "      <td>97</td>\n",
              "    </tr>\n",
              "    <tr>\n",
              "      <th>31</th>\n",
              "      <td>16.0</td>\n",
              "      <td>t</td>\n",
              "      <td>4.750</td>\n",
              "      <td>52</td>\n",
              "    </tr>\n",
              "    <tr>\n",
              "      <th>32</th>\n",
              "      <td>17.0</td>\n",
              "      <td>f</td>\n",
              "      <td>4.580</td>\n",
              "      <td>81</td>\n",
              "    </tr>\n",
              "    <tr>\n",
              "      <th>33</th>\n",
              "      <td>17.0</td>\n",
              "      <td>t</td>\n",
              "      <td>4.900</td>\n",
              "      <td>21</td>\n",
              "    </tr>\n",
              "    <tr>\n",
              "      <th>34</th>\n",
              "      <td>18.0</td>\n",
              "      <td>f</td>\n",
              "      <td>4.630</td>\n",
              "      <td>111</td>\n",
              "    </tr>\n",
              "    <tr>\n",
              "      <th>35</th>\n",
              "      <td>18.0</td>\n",
              "      <td>t</td>\n",
              "      <td>4.750</td>\n",
              "      <td>3</td>\n",
              "    </tr>\n",
              "  </tbody>\n",
              "</table>\n",
              "</div>\n",
              "      <button class=\"colab-df-convert\" onclick=\"convertToInteractive('df-b76fb475-d3fd-43aa-abea-4fb8a3921f91')\"\n",
              "              title=\"Convert this dataframe to an interactive table.\"\n",
              "              style=\"display:none;\">\n",
              "        \n",
              "  <svg xmlns=\"http://www.w3.org/2000/svg\" height=\"24px\"viewBox=\"0 0 24 24\"\n",
              "       width=\"24px\">\n",
              "    <path d=\"M0 0h24v24H0V0z\" fill=\"none\"/>\n",
              "    <path d=\"M18.56 5.44l.94 2.06.94-2.06 2.06-.94-2.06-.94-.94-2.06-.94 2.06-2.06.94zm-11 1L8.5 8.5l.94-2.06 2.06-.94-2.06-.94L8.5 2.5l-.94 2.06-2.06.94zm10 10l.94 2.06.94-2.06 2.06-.94-2.06-.94-.94-2.06-.94 2.06-2.06.94z\"/><path d=\"M17.41 7.96l-1.37-1.37c-.4-.4-.92-.59-1.43-.59-.52 0-1.04.2-1.43.59L10.3 9.45l-7.72 7.72c-.78.78-.78 2.05 0 2.83L4 21.41c.39.39.9.59 1.41.59.51 0 1.02-.2 1.41-.59l7.78-7.78 2.81-2.81c.8-.78.8-2.07 0-2.86zM5.41 20L4 18.59l7.72-7.72 1.47 1.35L5.41 20z\"/>\n",
              "  </svg>\n",
              "      </button>\n",
              "      \n",
              "  <style>\n",
              "    .colab-df-container {\n",
              "      display:flex;\n",
              "      flex-wrap:wrap;\n",
              "      gap: 12px;\n",
              "    }\n",
              "\n",
              "    .colab-df-convert {\n",
              "      background-color: #E8F0FE;\n",
              "      border: none;\n",
              "      border-radius: 50%;\n",
              "      cursor: pointer;\n",
              "      display: none;\n",
              "      fill: #1967D2;\n",
              "      height: 32px;\n",
              "      padding: 0 0 0 0;\n",
              "      width: 32px;\n",
              "    }\n",
              "\n",
              "    .colab-df-convert:hover {\n",
              "      background-color: #E2EBFA;\n",
              "      box-shadow: 0px 1px 2px rgba(60, 64, 67, 0.3), 0px 1px 3px 1px rgba(60, 64, 67, 0.15);\n",
              "      fill: #174EA6;\n",
              "    }\n",
              "\n",
              "    [theme=dark] .colab-df-convert {\n",
              "      background-color: #3B4455;\n",
              "      fill: #D2E3FC;\n",
              "    }\n",
              "\n",
              "    [theme=dark] .colab-df-convert:hover {\n",
              "      background-color: #434B5C;\n",
              "      box-shadow: 0px 1px 3px 1px rgba(0, 0, 0, 0.15);\n",
              "      filter: drop-shadow(0px 1px 2px rgba(0, 0, 0, 0.3));\n",
              "      fill: #FFFFFF;\n",
              "    }\n",
              "  </style>\n",
              "\n",
              "      <script>\n",
              "        const buttonEl =\n",
              "          document.querySelector('#df-b76fb475-d3fd-43aa-abea-4fb8a3921f91 button.colab-df-convert');\n",
              "        buttonEl.style.display =\n",
              "          google.colab.kernel.accessAllowed ? 'block' : 'none';\n",
              "\n",
              "        async function convertToInteractive(key) {\n",
              "          const element = document.querySelector('#df-b76fb475-d3fd-43aa-abea-4fb8a3921f91');\n",
              "          const dataTable =\n",
              "            await google.colab.kernel.invokeFunction('convertToInteractive',\n",
              "                                                     [key], {});\n",
              "          if (!dataTable) return;\n",
              "\n",
              "          const docLinkHtml = 'Like what you see? Visit the ' +\n",
              "            '<a target=\"_blank\" href=https://colab.research.google.com/notebooks/data_table.ipynb>data table notebook</a>'\n",
              "            + ' to learn more about interactive tables.';\n",
              "          element.innerHTML = '';\n",
              "          dataTable['output_type'] = 'display_data';\n",
              "          await google.colab.output.renderOutput(dataTable, element);\n",
              "          const docLink = document.createElement('div');\n",
              "          docLink.innerHTML = docLinkHtml;\n",
              "          element.appendChild(docLink);\n",
              "        }\n",
              "      </script>\n",
              "    </div>\n",
              "  </div>\n",
              "  "
            ]
          },
          "metadata": {},
          "execution_count": 66
        }
      ]
    },
    {
      "cell_type": "code",
      "source": [
        "g = sns.lmplot(data=plot_superhost, x='host_listings_count', y='rs_value', hue='superhost', markers=['o', 'x'], \n",
        "           height=6, aspect=1.5, palette=dict(f='grey', t='blueviolet'))\n",
        "plt.title('Correlation between Superhost status and Value rating score')\n",
        "plt.xlabel('Number of properties managed')\n",
        "plt.ylabel('Value rating score (points)')\n",
        "g._legend.set_title('Superhost')\n",
        "plt.show()"
      ],
      "metadata": {
        "colab": {
          "base_uri": "https://localhost:8080/",
          "height": 453
        },
        "id": "-UxlZcvT8nRg",
        "outputId": "fd7ab9f1-c6b4-4cb1-8c3d-51ca8121ee7b"
      },
      "execution_count": null,
      "outputs": [
        {
          "output_type": "display_data",
          "data": {
            "text/plain": [
              "<Figure size 716.55x432 with 1 Axes>"
            ],
            "image/png": "[encoded data removed]"
          },
          "metadata": {}
        }
      ]
    },
    {
      "cell_type": "markdown",
      "source": [
        "Despite of the fact that hosts with more properties to be managed tend to get lower value rating score, hosts with Superhost badge maintain a relatively high score of value rating over the regular hosts. <br> \n",
        "This can be understandable if we refer to the requirements that Airbnb set for a host to get this badge: \n",
        "- Completed at least 10 trips or 3 reservations that total at least 100 nights\n",
        "- Maintained a 4.8 overall rating <br>\n",
        "\n",
        "As they are all experienced ones getting very positive response from guests, they are surely the ones who spent their time in paying much attention to every single details in their listings to fulfill guests' demand and expectation regardless of how many listings they are controlling at once."
      ],
      "metadata": {
        "id": "52tjdgVJaXW3"
      }
    },
    {
      "cell_type": "markdown",
      "source": [
        "Another factor that we are about to discover is a feature called \"Instant Book\". This has been promoted by Airbnb as a feature that helps:\n",
        "- boosting the earnings \n",
        "- improving the ranking in search results\n",
        "- making hosts feel convenient as they do not have to respond to every request <br>\n",
        "\n",
        "We will see how guests are evaluating the hosts with multiple properties when they turn on or off this \"instant book\" feature. "
      ],
      "metadata": {
        "id": "cQ0nMEvYqGYd"
      }
    },
    {
      "cell_type": "code",
      "source": [
        "plot_instant = df_manage.groupby(['host_listings_count', 'instant_bookable']).agg({'rs_value':'median', 'id':'count'}).reset_index()"
      ],
      "metadata": {
        "id": "ybYXAzeUj8RU"
      },
      "execution_count": null,
      "outputs": []
    },
    {
      "cell_type": "code",
      "source": [
        "plot_instant"
      ],
      "metadata": {
        "colab": {
          "base_uri": "https://localhost:8080/",
          "height": 1000
        },
        "id": "1TvX476nsjDD",
        "outputId": "0647840b-d635-49db-a406-d8c1a2f27c78"
      },
      "execution_count": null,
      "outputs": [
        {
          "output_type": "execute_result",
          "data": {
            "text/plain": [
              "    host_listings_count instant_bookable  rs_value    id\n",
              "0                   1.0                f     4.860  2799\n",
              "1                   1.0                t     4.840  1114\n",
              "2                   2.0                f     4.840  1368\n",
              "3                   2.0                t     4.790   670\n",
              "4                   3.0                f     4.820   856\n",
              "5                   3.0                t     4.785   468\n",
              "6                   4.0                f     4.820   501\n",
              "7                   4.0                t     4.790   357\n",
              "8                   5.0                f     4.780   409\n",
              "9                   5.0                t     4.750   279\n",
              "10                  6.0                f     4.770   314\n",
              "11                  6.0                t     4.700   202\n",
              "12                  7.0                f     4.750   229\n",
              "13                  7.0                t     4.630   156\n",
              "14                  8.0                f     4.800   172\n",
              "15                  8.0                t     4.705   152\n",
              "16                  9.0                f     4.745   116\n",
              "17                  9.0                t     4.620   116\n",
              "18                 10.0                f     4.735   122\n",
              "19                 10.0                t     4.610   141\n",
              "20                 11.0                f     4.730   127\n",
              "21                 11.0                t     4.600    76\n",
              "22                 12.0                f     4.650    82\n",
              "23                 12.0                t     4.615    80\n",
              "24                 13.0                f     4.810    81\n",
              "25                 13.0                t     4.670   122\n",
              "26                 14.0                f     4.770    62\n",
              "27                 14.0                t     4.670    91\n",
              "28                 15.0                f     4.720    74\n",
              "29                 15.0                t     4.415    42\n",
              "30                 16.0                f     4.730    82\n",
              "31                 16.0                t     4.700    67\n",
              "32                 17.0                f     4.720    39\n",
              "33                 17.0                t     4.430    63\n",
              "34                 18.0                f     4.500    55\n",
              "35                 18.0                t     4.680    59"
            ],
            "text/html": [
              "\n",
              "  <div id=\"df-dfe3e0cc-2cf8-420d-af44-fb7ed145db74\">\n",
              "    <div class=\"colab-df-container\">\n",
              "      <div>\n",
              "<style scoped>\n",
              "    .dataframe tbody tr th:only-of-type {\n",
              "        vertical-align: middle;\n",
              "    }\n",
              "\n",
              "    .dataframe tbody tr th {\n",
              "        vertical-align: top;\n",
              "    }\n",
              "\n",
              "    .dataframe thead th {\n",
              "        text-align: right;\n",
              "    }\n",
              "</style>\n",
              "<table border=\"1\" class=\"dataframe\">\n",
              "  <thead>\n",
              "    <tr style=\"text-align: right;\">\n",
              "      <th></th>\n",
              "      <th>host_listings_count</th>\n",
              "      <th>instant_bookable</th>\n",
              "      <th>rs_value</th>\n",
              "      <th>id</th>\n",
              "    </tr>\n",
              "  </thead>\n",
              "  <tbody>\n",
              "    <tr>\n",
              "      <th>0</th>\n",
              "      <td>1.0</td>\n",
              "      <td>f</td>\n",
              "      <td>4.860</td>\n",
              "      <td>2799</td>\n",
              "    </tr>\n",
              "    <tr>\n",
              "      <th>1</th>\n",
              "      <td>1.0</td>\n",
              "      <td>t</td>\n",
              "      <td>4.840</td>\n",
              "      <td>1114</td>\n",
              "    </tr>\n",
              "    <tr>\n",
              "      <th>2</th>\n",
              "      <td>2.0</td>\n",
              "      <td>f</td>\n",
              "      <td>4.840</td>\n",
              "      <td>1368</td>\n",
              "    </tr>\n",
              "    <tr>\n",
              "      <th>3</th>\n",
              "      <td>2.0</td>\n",
              "      <td>t</td>\n",
              "      <td>4.790</td>\n",
              "      <td>670</td>\n",
              "    </tr>\n",
              "    <tr>\n",
              "      <th>4</th>\n",
              "      <td>3.0</td>\n",
              "      <td>f</td>\n",
              "      <td>4.820</td>\n",
              "      <td>856</td>\n",
              "    </tr>\n",
              "    <tr>\n",
              "      <th>5</th>\n",
              "      <td>3.0</td>\n",
              "      <td>t</td>\n",
              "      <td>4.785</td>\n",
              "      <td>468</td>\n",
              "    </tr>\n",
              "    <tr>\n",
              "      <th>6</th>\n",
              "      <td>4.0</td>\n",
              "      <td>f</td>\n",
              "      <td>4.820</td>\n",
              "      <td>501</td>\n",
              "    </tr>\n",
              "    <tr>\n",
              "      <th>7</th>\n",
              "      <td>4.0</td>\n",
              "      <td>t</td>\n",
              "      <td>4.790</td>\n",
              "      <td>357</td>\n",
              "    </tr>\n",
              "    <tr>\n",
              "      <th>8</th>\n",
              "      <td>5.0</td>\n",
              "      <td>f</td>\n",
              "      <td>4.780</td>\n",
              "      <td>409</td>\n",
              "    </tr>\n",
              "    <tr>\n",
              "      <th>9</th>\n",
              "      <td>5.0</td>\n",
              "      <td>t</td>\n",
              "      <td>4.750</td>\n",
              "      <td>279</td>\n",
              "    </tr>\n",
              "    <tr>\n",
              "      <th>10</th>\n",
              "      <td>6.0</td>\n",
              "      <td>f</td>\n",
              "      <td>4.770</td>\n",
              "      <td>314</td>\n",
              "    </tr>\n",
              "    <tr>\n",
              "      <th>11</th>\n",
              "      <td>6.0</td>\n",
              "      <td>t</td>\n",
              "      <td>4.700</td>\n",
              "      <td>202</td>\n",
              "    </tr>\n",
              "    <tr>\n",
              "      <th>12</th>\n",
              "      <td>7.0</td>\n",
              "      <td>f</td>\n",
              "      <td>4.750</td>\n",
              "      <td>229</td>\n",
              "    </tr>\n",
              "    <tr>\n",
              "      <th>13</th>\n",
              "      <td>7.0</td>\n",
              "      <td>t</td>\n",
              "      <td>4.630</td>\n",
              "      <td>156</td>\n",
              "    </tr>\n",
              "    <tr>\n",
              "      <th>14</th>\n",
              "      <td>8.0</td>\n",
              "      <td>f</td>\n",
              "      <td>4.800</td>\n",
              "      <td>172</td>\n",
              "    </tr>\n",
              "    <tr>\n",
              "      <th>15</th>\n",
              "      <td>8.0</td>\n",
              "      <td>t</td>\n",
              "      <td>4.705</td>\n",
              "      <td>152</td>\n",
              "    </tr>\n",
              "    <tr>\n",
              "      <th>16</th>\n",
              "      <td>9.0</td>\n",
              "      <td>f</td>\n",
              "      <td>4.745</td>\n",
              "      <td>116</td>\n",
              "    </tr>\n",
              "    <tr>\n",
              "      <th>17</th>\n",
              "      <td>9.0</td>\n",
              "      <td>t</td>\n",
              "      <td>4.620</td>\n",
              "      <td>116</td>\n",
              "    </tr>\n",
              "    <tr>\n",
              "      <th>18</th>\n",
              "      <td>10.0</td>\n",
              "      <td>f</td>\n",
              "      <td>4.735</td>\n",
              "      <td>122</td>\n",
              "    </tr>\n",
              "    <tr>\n",
              "      <th>19</th>\n",
              "      <td>10.0</td>\n",
              "      <td>t</td>\n",
              "      <td>4.610</td>\n",
              "      <td>141</td>\n",
              "    </tr>\n",
              "    <tr>\n",
              "      <th>20</th>\n",
              "      <td>11.0</td>\n",
              "      <td>f</td>\n",
              "      <td>4.730</td>\n",
              "      <td>127</td>\n",
              "    </tr>\n",
              "    <tr>\n",
              "      <th>21</th>\n",
              "      <td>11.0</td>\n",
              "      <td>t</td>\n",
              "      <td>4.600</td>\n",
              "      <td>76</td>\n",
              "    </tr>\n",
              "    <tr>\n",
              "      <th>22</th>\n",
              "      <td>12.0</td>\n",
              "      <td>f</td>\n",
              "      <td>4.650</td>\n",
              "      <td>82</td>\n",
              "    </tr>\n",
              "    <tr>\n",
              "      <th>23</th>\n",
              "      <td>12.0</td>\n",
              "      <td>t</td>\n",
              "      <td>4.615</td>\n",
              "      <td>80</td>\n",
              "    </tr>\n",
              "    <tr>\n",
              "      <th>24</th>\n",
              "      <td>13.0</td>\n",
              "      <td>f</td>\n",
              "      <td>4.810</td>\n",
              "      <td>81</td>\n",
              "    </tr>\n",
              "    <tr>\n",
              "      <th>25</th>\n",
              "      <td>13.0</td>\n",
              "      <td>t</td>\n",
              "      <td>4.670</td>\n",
              "      <td>122</td>\n",
              "    </tr>\n",
              "    <tr>\n",
              "      <th>26</th>\n",
              "      <td>14.0</td>\n",
              "      <td>f</td>\n",
              "      <td>4.770</td>\n",
              "      <td>62</td>\n",
              "    </tr>\n",
              "    <tr>\n",
              "      <th>27</th>\n",
              "      <td>14.0</td>\n",
              "      <td>t</td>\n",
              "      <td>4.670</td>\n",
              "      <td>91</td>\n",
              "    </tr>\n",
              "    <tr>\n",
              "      <th>28</th>\n",
              "      <td>15.0</td>\n",
              "      <td>f</td>\n",
              "      <td>4.720</td>\n",
              "      <td>74</td>\n",
              "    </tr>\n",
              "    <tr>\n",
              "      <th>29</th>\n",
              "      <td>15.0</td>\n",
              "      <td>t</td>\n",
              "      <td>4.415</td>\n",
              "      <td>42</td>\n",
              "    </tr>\n",
              "    <tr>\n",
              "      <th>30</th>\n",
              "      <td>16.0</td>\n",
              "      <td>f</td>\n",
              "      <td>4.730</td>\n",
              "      <td>82</td>\n",
              "    </tr>\n",
              "    <tr>\n",
              "      <th>31</th>\n",
              "      <td>16.0</td>\n",
              "      <td>t</td>\n",
              "      <td>4.700</td>\n",
              "      <td>67</td>\n",
              "    </tr>\n",
              "    <tr>\n",
              "      <th>32</th>\n",
              "      <td>17.0</td>\n",
              "      <td>f</td>\n",
              "      <td>4.720</td>\n",
              "      <td>39</td>\n",
              "    </tr>\n",
              "    <tr>\n",
              "      <th>33</th>\n",
              "      <td>17.0</td>\n",
              "      <td>t</td>\n",
              "      <td>4.430</td>\n",
              "      <td>63</td>\n",
              "    </tr>\n",
              "    <tr>\n",
              "      <th>34</th>\n",
              "      <td>18.0</td>\n",
              "      <td>f</td>\n",
              "      <td>4.500</td>\n",
              "      <td>55</td>\n",
              "    </tr>\n",
              "    <tr>\n",
              "      <th>35</th>\n",
              "      <td>18.0</td>\n",
              "      <td>t</td>\n",
              "      <td>4.680</td>\n",
              "      <td>59</td>\n",
              "    </tr>\n",
              "  </tbody>\n",
              "</table>\n",
              "</div>\n",
              "      <button class=\"colab-df-convert\" onclick=\"convertToInteractive('df-dfe3e0cc-2cf8-420d-af44-fb7ed145db74')\"\n",
              "              title=\"Convert this dataframe to an interactive table.\"\n",
              "              style=\"display:none;\">\n",
              "        \n",
              "  <svg xmlns=\"http://www.w3.org/2000/svg\" height=\"24px\"viewBox=\"0 0 24 24\"\n",
              "       width=\"24px\">\n",
              "    <path d=\"M0 0h24v24H0V0z\" fill=\"none\"/>\n",
              "    <path d=\"M18.56 5.44l.94 2.06.94-2.06 2.06-.94-2.06-.94-.94-2.06-.94 2.06-2.06.94zm-11 1L8.5 8.5l.94-2.06 2.06-.94-2.06-.94L8.5 2.5l-.94 2.06-2.06.94zm10 10l.94 2.06.94-2.06 2.06-.94-2.06-.94-.94-2.06-.94 2.06-2.06.94z\"/><path d=\"M17.41 7.96l-1.37-1.37c-.4-.4-.92-.59-1.43-.59-.52 0-1.04.2-1.43.59L10.3 9.45l-7.72 7.72c-.78.78-.78 2.05 0 2.83L4 21.41c.39.39.9.59 1.41.59.51 0 1.02-.2 1.41-.59l7.78-7.78 2.81-2.81c.8-.78.8-2.07 0-2.86zM5.41 20L4 18.59l7.72-7.72 1.47 1.35L5.41 20z\"/>\n",
              "  </svg>\n",
              "      </button>\n",
              "      \n",
              "  <style>\n",
              "    .colab-df-container {\n",
              "      display:flex;\n",
              "      flex-wrap:wrap;\n",
              "      gap: 12px;\n",
              "    }\n",
              "\n",
              "    .colab-df-convert {\n",
              "      background-color: #E8F0FE;\n",
              "      border: none;\n",
              "      border-radius: 50%;\n",
              "      cursor: pointer;\n",
              "      display: none;\n",
              "      fill: #1967D2;\n",
              "      height: 32px;\n",
              "      padding: 0 0 0 0;\n",
              "      width: 32px;\n",
              "    }\n",
              "\n",
              "    .colab-df-convert:hover {\n",
              "      background-color: #E2EBFA;\n",
              "      box-shadow: 0px 1px 2px rgba(60, 64, 67, 0.3), 0px 1px 3px 1px rgba(60, 64, 67, 0.15);\n",
              "      fill: #174EA6;\n",
              "    }\n",
              "\n",
              "    [theme=dark] .colab-df-convert {\n",
              "      background-color: #3B4455;\n",
              "      fill: #D2E3FC;\n",
              "    }\n",
              "\n",
              "    [theme=dark] .colab-df-convert:hover {\n",
              "      background-color: #434B5C;\n",
              "      box-shadow: 0px 1px 3px 1px rgba(0, 0, 0, 0.15);\n",
              "      filter: drop-shadow(0px 1px 2px rgba(0, 0, 0, 0.3));\n",
              "      fill: #FFFFFF;\n",
              "    }\n",
              "  </style>\n",
              "\n",
              "      <script>\n",
              "        const buttonEl =\n",
              "          document.querySelector('#df-dfe3e0cc-2cf8-420d-af44-fb7ed145db74 button.colab-df-convert');\n",
              "        buttonEl.style.display =\n",
              "          google.colab.kernel.accessAllowed ? 'block' : 'none';\n",
              "\n",
              "        async function convertToInteractive(key) {\n",
              "          const element = document.querySelector('#df-dfe3e0cc-2cf8-420d-af44-fb7ed145db74');\n",
              "          const dataTable =\n",
              "            await google.colab.kernel.invokeFunction('convertToInteractive',\n",
              "                                                     [key], {});\n",
              "          if (!dataTable) return;\n",
              "\n",
              "          const docLinkHtml = 'Like what you see? Visit the ' +\n",
              "            '<a target=\"_blank\" href=https://colab.research.google.com/notebooks/data_table.ipynb>data table notebook</a>'\n",
              "            + ' to learn more about interactive tables.';\n",
              "          element.innerHTML = '';\n",
              "          dataTable['output_type'] = 'display_data';\n",
              "          await google.colab.output.renderOutput(dataTable, element);\n",
              "          const docLink = document.createElement('div');\n",
              "          docLink.innerHTML = docLinkHtml;\n",
              "          element.appendChild(docLink);\n",
              "        }\n",
              "      </script>\n",
              "    </div>\n",
              "  </div>\n",
              "  "
            ]
          },
          "metadata": {},
          "execution_count": 69
        }
      ]
    },
    {
      "cell_type": "code",
      "source": [
        "g = sns.lmplot(data=plot_instant, x='host_listings_count', y='rs_value', hue='instant_bookable', markers=['o', 'x'], \n",
        "           height=6, aspect=1.5, palette=dict(f='grey', t='limegreen'))\n",
        "plt.title('Correlation between Instant Booking and Value rating score')\n",
        "plt.xlabel('Number of properties managed')\n",
        "plt.ylabel('Value rating score (points)')\n",
        "g._legend.set_title('Instant booking')\n",
        "plt.show()"
      ],
      "metadata": {
        "colab": {
          "base_uri": "https://localhost:8080/",
          "height": 449
        },
        "id": "cQAKb_t47Veq",
        "outputId": "3669d33f-dcda-4505-8ed4-fa2f1cc6e5c8"
      },
      "execution_count": null,
      "outputs": [
        {
          "output_type": "display_data",
          "data": {
            "text/plain": [
              "<Figure size 759.55x432 with 1 Axes>"
            ],
            "image/png": "[encoded data removed]"
          },
          "metadata": {}
        }
      ]
    },
    {
      "cell_type": "markdown",
      "source": [
        "Although the discrepancy in value rating score between hosts using or not using this feature is not that much and the rating value keeps going down when hosts manage too many properties, we can see an interesting trend here is that hosts turning on \"instant book\" have a lower value rating score than the ones that turned it off. "
      ],
      "metadata": {
        "id": "Hqu-YD18zh4-"
      }
    },
    {
      "cell_type": "markdown",
      "source": [
        "This kind of fast booking in a short time can lead us to e-commerce are where there is a similar term with \"instant book\" here, which is called \"flash sales\". <br> \n",
        "Whenever there are flash sales on e-commerce websites, customers rush to it, find the ones they targeted and proceed payment immediately before they are sold out. But this selling strategy also has many serious consequences. "
      ],
      "metadata": {
        "id": "TCDFafbF2OB9"
      }
    },
    {
      "cell_type": "markdown",
      "source": [
        "Talking about this issue, there is one article named as \"The Death of Flash Sales' published on Retail TouchPoints - an online publishing network for retail executives - said about how consumers leave negative comments on Facebook page of Gilt ([an US e-commerce website](https://www.gilt.com/boutique/)) as they disappointed with the ones they purchased too fast: <br> <br>\n",
        "***With 27% of negative Facebook comments targeting Gilt’s product, opulent quality in flash sale merchandise is on the outs and is shedding light on the rise of aged fabric.*** <br>\n",
        "***But 45% of flash sale offers sell out before the shopper can even review their virtual shopping carts, according to research from Dotcom Distribution. This essentially leaves shoppers in the dust.*** <br> \n",
        "\n",
        "Mona Bijoor (CEO of JOOR). *Death of Flash Sales*. Retail TouchPoints. https://www.retailtouchpoints.com/blog/the-death-of-flash-sales"
      ],
      "metadata": {
        "id": "etjMrsr9QLMD"
      }
    },
    {
      "cell_type": "markdown",
      "source": [
        "Back to the case of \"Instant book\", when guest book a listing in a short time, they tend to not pay much attention to details mentioned in the listing such the housing rule, check-in/out time, strict rule in one neighbourhood... And when they experience these in person, they may feel disappointed and blame it back to the hosts as the listings is not worth the money they have paid, which resulted into a low score of value rating. "
      ],
      "metadata": {
        "id": "vJdO_GacR_kF"
      }
    },
    {
      "cell_type": "markdown",
      "source": [
        "One factor to find out whether that listing is value for the money is about the amenites offered. \"Amenties\" is also the term that Airbnb stressed out and mentioned when they share tips to [earn great reviews from guests](https://www.airbnb.com/resources/hosting-homes/a/whats-expected-of-hosts-432). It is also the final factor in this scale of analysis. "
      ],
      "metadata": {
        "id": "fTNx_jppWVEG"
      }
    },
    {
      "cell_type": "markdown",
      "source": [
        "### Amenities"
      ],
      "metadata": {
        "id": "vGi4kHG_xhJH"
      }
    },
    {
      "cell_type": "markdown",
      "source": [
        "There is a lot of amenities a host would like to offer in their listings with a hope to meet guest's demand and expectation. But hosts are not sure which ones can bring benefits to guests and which ones would turn down their moods."
      ],
      "metadata": {
        "id": "HLMQJ8ltbmhG"
      }
    },
    {
      "cell_type": "markdown",
      "source": [
        "One basic thing can be taken as an example is how guests response to Free vs. Paid service, and we will talk about parking service at listings specifically. "
      ],
      "metadata": {
        "id": "Rmhq5iZHicCA"
      }
    },
    {
      "cell_type": "code",
      "source": [
        "parking = ['Free parking on premises', 'Free street parking', 'Paid parking on premises', 'Paid parking off premises']\n",
        "service = ['Free dryer', 'Free washer', 'Paid dryer', 'Paid washer']"
      ],
      "metadata": {
        "id": "rA6bitZyi2Et"
      },
      "execution_count": null,
      "outputs": []
    },
    {
      "cell_type": "code",
      "source": [
        "all = parking + service"
      ],
      "metadata": {
        "id": "4jTrvCp5fFQm"
      },
      "execution_count": null,
      "outputs": []
    },
    {
      "cell_type": "code",
      "source": [
        "parking_list = []\n",
        "service_list = []\n",
        "tmp = {}\n",
        "\n",
        "for i in range(len(parking)): \n",
        "    parking_list.append(df[df['amenities'].str.contains(parking[i])]['rs_value'].mean())\n",
        "    service_list.append(df[df['amenities'].str.contains(service[i])]['rs_value'].mean())\n",
        "\n",
        "tmp['rating'] = parking_list + service_list\n",
        "\n",
        "rating = pd.DataFrame(tmp, index=all)"
      ],
      "metadata": {
        "id": "cMfNXGmZi2Zl"
      },
      "execution_count": null,
      "outputs": []
    },
    {
      "cell_type": "code",
      "source": [
        "rating = rating.reset_index()\n",
        "rating = rating.rename(columns={'index':'amenities'})\n",
        "rating"
      ],
      "metadata": {
        "colab": {
          "base_uri": "https://localhost:8080/",
          "height": 300
        },
        "id": "StfxceQghprM",
        "outputId": "7e6a641f-57e9-4975-8f7f-e2bcc540586b"
      },
      "execution_count": null,
      "outputs": [
        {
          "output_type": "execute_result",
          "data": {
            "text/plain": [
              "                   amenities    rating\n",
              "0   Free parking on premises  4.722197\n",
              "1        Free street parking  4.757958\n",
              "2   Paid parking on premises  4.605913\n",
              "3  Paid parking off premises  4.621625\n",
              "4                 Free dryer  4.786839\n",
              "5                Free washer  4.782456\n",
              "6                 Paid dryer  4.707090\n",
              "7                Paid washer  4.711494"
            ],
            "text/html": [
              "\n",
              "  <div id=\"df-cc58308f-afee-49f7-b983-40f85fd6a633\">\n",
              "    <div class=\"colab-df-container\">\n",
              "      <div>\n",
              "<style scoped>\n",
              "    .dataframe tbody tr th:only-of-type {\n",
              "        vertical-align: middle;\n",
              "    }\n",
              "\n",
              "    .dataframe tbody tr th {\n",
              "        vertical-align: top;\n",
              "    }\n",
              "\n",
              "    .dataframe thead th {\n",
              "        text-align: right;\n",
              "    }\n",
              "</style>\n",
              "<table border=\"1\" class=\"dataframe\">\n",
              "  <thead>\n",
              "    <tr style=\"text-align: right;\">\n",
              "      <th></th>\n",
              "      <th>amenities</th>\n",
              "      <th>rating</th>\n",
              "    </tr>\n",
              "  </thead>\n",
              "  <tbody>\n",
              "    <tr>\n",
              "      <th>0</th>\n",
              "      <td>Free parking on premises</td>\n",
              "      <td>4.722197</td>\n",
              "    </tr>\n",
              "    <tr>\n",
              "      <th>1</th>\n",
              "      <td>Free street parking</td>\n",
              "      <td>4.757958</td>\n",
              "    </tr>\n",
              "    <tr>\n",
              "      <th>2</th>\n",
              "      <td>Paid parking on premises</td>\n",
              "      <td>4.605913</td>\n",
              "    </tr>\n",
              "    <tr>\n",
              "      <th>3</th>\n",
              "      <td>Paid parking off premises</td>\n",
              "      <td>4.621625</td>\n",
              "    </tr>\n",
              "    <tr>\n",
              "      <th>4</th>\n",
              "      <td>Free dryer</td>\n",
              "      <td>4.786839</td>\n",
              "    </tr>\n",
              "    <tr>\n",
              "      <th>5</th>\n",
              "      <td>Free washer</td>\n",
              "      <td>4.782456</td>\n",
              "    </tr>\n",
              "    <tr>\n",
              "      <th>6</th>\n",
              "      <td>Paid dryer</td>\n",
              "      <td>4.707090</td>\n",
              "    </tr>\n",
              "    <tr>\n",
              "      <th>7</th>\n",
              "      <td>Paid washer</td>\n",
              "      <td>4.711494</td>\n",
              "    </tr>\n",
              "  </tbody>\n",
              "</table>\n",
              "</div>\n",
              "      <button class=\"colab-df-convert\" onclick=\"convertToInteractive('df-cc58308f-afee-49f7-b983-40f85fd6a633')\"\n",
              "              title=\"Convert this dataframe to an interactive table.\"\n",
              "              style=\"display:none;\">\n",
              "        \n",
              "  <svg xmlns=\"http://www.w3.org/2000/svg\" height=\"24px\"viewBox=\"0 0 24 24\"\n",
              "       width=\"24px\">\n",
              "    <path d=\"M0 0h24v24H0V0z\" fill=\"none\"/>\n",
              "    <path d=\"M18.56 5.44l.94 2.06.94-2.06 2.06-.94-2.06-.94-.94-2.06-.94 2.06-2.06.94zm-11 1L8.5 8.5l.94-2.06 2.06-.94-2.06-.94L8.5 2.5l-.94 2.06-2.06.94zm10 10l.94 2.06.94-2.06 2.06-.94-2.06-.94-.94-2.06-.94 2.06-2.06.94z\"/><path d=\"M17.41 7.96l-1.37-1.37c-.4-.4-.92-.59-1.43-.59-.52 0-1.04.2-1.43.59L10.3 9.45l-7.72 7.72c-.78.78-.78 2.05 0 2.83L4 21.41c.39.39.9.59 1.41.59.51 0 1.02-.2 1.41-.59l7.78-7.78 2.81-2.81c.8-.78.8-2.07 0-2.86zM5.41 20L4 18.59l7.72-7.72 1.47 1.35L5.41 20z\"/>\n",
              "  </svg>\n",
              "      </button>\n",
              "      \n",
              "  <style>\n",
              "    .colab-df-container {\n",
              "      display:flex;\n",
              "      flex-wrap:wrap;\n",
              "      gap: 12px;\n",
              "    }\n",
              "\n",
              "    .colab-df-convert {\n",
              "      background-color: #E8F0FE;\n",
              "      border: none;\n",
              "      border-radius: 50%;\n",
              "      cursor: pointer;\n",
              "      display: none;\n",
              "      fill: #1967D2;\n",
              "      height: 32px;\n",
              "      padding: 0 0 0 0;\n",
              "      width: 32px;\n",
              "    }\n",
              "\n",
              "    .colab-df-convert:hover {\n",
              "      background-color: #E2EBFA;\n",
              "      box-shadow: 0px 1px 2px rgba(60, 64, 67, 0.3), 0px 1px 3px 1px rgba(60, 64, 67, 0.15);\n",
              "      fill: #174EA6;\n",
              "    }\n",
              "\n",
              "    [theme=dark] .colab-df-convert {\n",
              "      background-color: #3B4455;\n",
              "      fill: #D2E3FC;\n",
              "    }\n",
              "\n",
              "    [theme=dark] .colab-df-convert:hover {\n",
              "      background-color: #434B5C;\n",
              "      box-shadow: 0px 1px 3px 1px rgba(0, 0, 0, 0.15);\n",
              "      filter: drop-shadow(0px 1px 2px rgba(0, 0, 0, 0.3));\n",
              "      fill: #FFFFFF;\n",
              "    }\n",
              "  </style>\n",
              "\n",
              "      <script>\n",
              "        const buttonEl =\n",
              "          document.querySelector('#df-cc58308f-afee-49f7-b983-40f85fd6a633 button.colab-df-convert');\n",
              "        buttonEl.style.display =\n",
              "          google.colab.kernel.accessAllowed ? 'block' : 'none';\n",
              "\n",
              "        async function convertToInteractive(key) {\n",
              "          const element = document.querySelector('#df-cc58308f-afee-49f7-b983-40f85fd6a633');\n",
              "          const dataTable =\n",
              "            await google.colab.kernel.invokeFunction('convertToInteractive',\n",
              "                                                     [key], {});\n",
              "          if (!dataTable) return;\n",
              "\n",
              "          const docLinkHtml = 'Like what you see? Visit the ' +\n",
              "            '<a target=\"_blank\" href=https://colab.research.google.com/notebooks/data_table.ipynb>data table notebook</a>'\n",
              "            + ' to learn more about interactive tables.';\n",
              "          element.innerHTML = '';\n",
              "          dataTable['output_type'] = 'display_data';\n",
              "          await google.colab.output.renderOutput(dataTable, element);\n",
              "          const docLink = document.createElement('div');\n",
              "          docLink.innerHTML = docLinkHtml;\n",
              "          element.appendChild(docLink);\n",
              "        }\n",
              "      </script>\n",
              "    </div>\n",
              "  </div>\n",
              "  "
            ]
          },
          "metadata": {},
          "execution_count": 74
        }
      ]
    },
    {
      "cell_type": "code",
      "source": [
        "rating_parking = rating.iloc[:4]\n",
        "rating_parking = rating_parking.rename(columns={'amenities': 'parking_type', 'rating': 'rating_parking'})"
      ],
      "metadata": {
        "id": "CCIN28ZSi2W9"
      },
      "execution_count": null,
      "outputs": []
    },
    {
      "cell_type": "code",
      "source": [
        "rating_service = rating.iloc[5:]\n",
        "rating_service = rating_service.rename(columns={'amenities': 'parking_type', 'rating': 'rating_service'})"
      ],
      "metadata": {
        "id": "ik4TIhjjgSBV"
      },
      "execution_count": null,
      "outputs": []
    },
    {
      "cell_type": "code",
      "source": [
        "rating_parking['group'] = rating_parking['parking_type'].apply(lambda x: 'free' if 'Free' in x else 'paid')\n",
        "rating_service['group'] = rating_service['parking_type'].apply(lambda x: 'free' if 'Free' in x else 'paid')"
      ],
      "metadata": {
        "id": "tuYzcwM1kwlG"
      },
      "execution_count": null,
      "outputs": []
    },
    {
      "cell_type": "code",
      "source": [
        "compare_parking = pd.pivot_table(data=rating_parking.iloc[:,1:], \n",
        "                           index=None, \n",
        "                           columns='group', \n",
        "                           values='rating_parking', \n",
        "                           aggfunc='mean')\n",
        "\n",
        "compare_parking['percentage_diff'] = ((compare_parking['free'] / compare_parking['paid']) - 1) * 100"
      ],
      "metadata": {
        "id": "KQ-NwlTPndXH"
      },
      "execution_count": null,
      "outputs": []
    },
    {
      "cell_type": "code",
      "source": [
        "compare_service = pd.pivot_table(data=rating_service.iloc[:,1:], \n",
        "                           index=None, \n",
        "                           columns='group', \n",
        "                           values='rating_service', \n",
        "                           aggfunc='mean')\n",
        "\n",
        "compare_service['percentage_diff'] = ((compare_service['free'] / compare_service['paid']) - 1) * 100"
      ],
      "metadata": {
        "id": "9yQUVtU2gbqi"
      },
      "execution_count": null,
      "outputs": []
    },
    {
      "cell_type": "code",
      "source": [
        "compare_type = pd.concat([compare_parking, compare_service], axis=0)\n",
        "compare_type = compare_type.reset_index()\n",
        "compare_type"
      ],
      "metadata": {
        "colab": {
          "base_uri": "https://localhost:8080/",
          "height": 112
        },
        "id": "FR3065CgoDdA",
        "outputId": "38eae081-b14a-40a5-f2f2-f41f9bdf368f"
      },
      "execution_count": null,
      "outputs": [
        {
          "output_type": "execute_result",
          "data": {
            "text/plain": [
              "group           index      free      paid  percentage_diff\n",
              "0      rating_parking  4.740078  4.613769         2.737645\n",
              "1      rating_service  4.782456  4.709292         1.553617"
            ],
            "text/html": [
              "\n",
              "  <div id=\"df-ca5101a1-05fc-467b-b48f-39989ebfb0c0\">\n",
              "    <div class=\"colab-df-container\">\n",
              "      <div>\n",
              "<style scoped>\n",
              "    .dataframe tbody tr th:only-of-type {\n",
              "        vertical-align: middle;\n",
              "    }\n",
              "\n",
              "    .dataframe tbody tr th {\n",
              "        vertical-align: top;\n",
              "    }\n",
              "\n",
              "    .dataframe thead th {\n",
              "        text-align: right;\n",
              "    }\n",
              "</style>\n",
              "<table border=\"1\" class=\"dataframe\">\n",
              "  <thead>\n",
              "    <tr style=\"text-align: right;\">\n",
              "      <th>group</th>\n",
              "      <th>index</th>\n",
              "      <th>free</th>\n",
              "      <th>paid</th>\n",
              "      <th>percentage_diff</th>\n",
              "    </tr>\n",
              "  </thead>\n",
              "  <tbody>\n",
              "    <tr>\n",
              "      <th>0</th>\n",
              "      <td>rating_parking</td>\n",
              "      <td>4.740078</td>\n",
              "      <td>4.613769</td>\n",
              "      <td>2.737645</td>\n",
              "    </tr>\n",
              "    <tr>\n",
              "      <th>1</th>\n",
              "      <td>rating_service</td>\n",
              "      <td>4.782456</td>\n",
              "      <td>4.709292</td>\n",
              "      <td>1.553617</td>\n",
              "    </tr>\n",
              "  </tbody>\n",
              "</table>\n",
              "</div>\n",
              "      <button class=\"colab-df-convert\" onclick=\"convertToInteractive('df-ca5101a1-05fc-467b-b48f-39989ebfb0c0')\"\n",
              "              title=\"Convert this dataframe to an interactive table.\"\n",
              "              style=\"display:none;\">\n",
              "        \n",
              "  <svg xmlns=\"http://www.w3.org/2000/svg\" height=\"24px\"viewBox=\"0 0 24 24\"\n",
              "       width=\"24px\">\n",
              "    <path d=\"M0 0h24v24H0V0z\" fill=\"none\"/>\n",
              "    <path d=\"M18.56 5.44l.94 2.06.94-2.06 2.06-.94-2.06-.94-.94-2.06-.94 2.06-2.06.94zm-11 1L8.5 8.5l.94-2.06 2.06-.94-2.06-.94L8.5 2.5l-.94 2.06-2.06.94zm10 10l.94 2.06.94-2.06 2.06-.94-2.06-.94-.94-2.06-.94 2.06-2.06.94z\"/><path d=\"M17.41 7.96l-1.37-1.37c-.4-.4-.92-.59-1.43-.59-.52 0-1.04.2-1.43.59L10.3 9.45l-7.72 7.72c-.78.78-.78 2.05 0 2.83L4 21.41c.39.39.9.59 1.41.59.51 0 1.02-.2 1.41-.59l7.78-7.78 2.81-2.81c.8-.78.8-2.07 0-2.86zM5.41 20L4 18.59l7.72-7.72 1.47 1.35L5.41 20z\"/>\n",
              "  </svg>\n",
              "      </button>\n",
              "      \n",
              "  <style>\n",
              "    .colab-df-container {\n",
              "      display:flex;\n",
              "      flex-wrap:wrap;\n",
              "      gap: 12px;\n",
              "    }\n",
              "\n",
              "    .colab-df-convert {\n",
              "      background-color: #E8F0FE;\n",
              "      border: none;\n",
              "      border-radius: 50%;\n",
              "      cursor: pointer;\n",
              "      display: none;\n",
              "      fill: #1967D2;\n",
              "      height: 32px;\n",
              "      padding: 0 0 0 0;\n",
              "      width: 32px;\n",
              "    }\n",
              "\n",
              "    .colab-df-convert:hover {\n",
              "      background-color: #E2EBFA;\n",
              "      box-shadow: 0px 1px 2px rgba(60, 64, 67, 0.3), 0px 1px 3px 1px rgba(60, 64, 67, 0.15);\n",
              "      fill: #174EA6;\n",
              "    }\n",
              "\n",
              "    [theme=dark] .colab-df-convert {\n",
              "      background-color: #3B4455;\n",
              "      fill: #D2E3FC;\n",
              "    }\n",
              "\n",
              "    [theme=dark] .colab-df-convert:hover {\n",
              "      background-color: #434B5C;\n",
              "      box-shadow: 0px 1px 3px 1px rgba(0, 0, 0, 0.15);\n",
              "      filter: drop-shadow(0px 1px 2px rgba(0, 0, 0, 0.3));\n",
              "      fill: #FFFFFF;\n",
              "    }\n",
              "  </style>\n",
              "\n",
              "      <script>\n",
              "        const buttonEl =\n",
              "          document.querySelector('#df-ca5101a1-05fc-467b-b48f-39989ebfb0c0 button.colab-df-convert');\n",
              "        buttonEl.style.display =\n",
              "          google.colab.kernel.accessAllowed ? 'block' : 'none';\n",
              "\n",
              "        async function convertToInteractive(key) {\n",
              "          const element = document.querySelector('#df-ca5101a1-05fc-467b-b48f-39989ebfb0c0');\n",
              "          const dataTable =\n",
              "            await google.colab.kernel.invokeFunction('convertToInteractive',\n",
              "                                                     [key], {});\n",
              "          if (!dataTable) return;\n",
              "\n",
              "          const docLinkHtml = 'Like what you see? Visit the ' +\n",
              "            '<a target=\"_blank\" href=https://colab.research.google.com/notebooks/data_table.ipynb>data table notebook</a>'\n",
              "            + ' to learn more about interactive tables.';\n",
              "          element.innerHTML = '';\n",
              "          dataTable['output_type'] = 'display_data';\n",
              "          await google.colab.output.renderOutput(dataTable, element);\n",
              "          const docLink = document.createElement('div');\n",
              "          docLink.innerHTML = docLinkHtml;\n",
              "          element.appendChild(docLink);\n",
              "        }\n",
              "      </script>\n",
              "    </div>\n",
              "  </div>\n",
              "  "
            ]
          },
          "metadata": {},
          "execution_count": 80
        }
      ]
    },
    {
      "cell_type": "markdown",
      "source": [
        "As the result shows, \n",
        "- Rating of hosts that offer free parking services is nearly 3% higher than the ones asking guests to pay. \n",
        "- Same case applied to service section as hosts offering free dryer, washer in their listings get 1.6% higher in value rating score than hosts do not have free service policy. <br>\n",
        "\n",
        "In general, all guests love free services, which results into a high value of rating. "
      ],
      "metadata": {
        "id": "Q-9rzoGOl4pU"
      }
    },
    {
      "cell_type": "markdown",
      "source": [
        "Let's talk about the travel after pandemic. There is a lot of new trends appear after a long time of isolation in a same place from time to time. As a result, people want to escape from their sweet homes and live in another place. As being mentioned in article published on Airbnb called [\"Travel revolution in data\"](https://news.airbnb.com/travel-revolution-in-data/), the author declared: \"People increasingly are living on Airbnb. They want amenities for living, not just visiting.\" <br>\n",
        "In the most searched-for amenities, in addition to extra services like pools, wifi, free parking or pets-allowed, surprisingly, kitchen is the one that guests are frequently looking for it (up 95% based on the article)."
      ],
      "metadata": {
        "id": "4-Xb8p-HcCjt"
      }
    },
    {
      "cell_type": "markdown",
      "source": [
        "From the scale of this dataset, we are going to see how hosts are equiping kitchen in their listings and how guests' responses are. <br>\n",
        "First, we find all the listings that listed out all Kitchen amenities and listings listed the word \"Kitchen\" only for comparison about listings supply and value rating score. "
      ],
      "metadata": {
        "id": "_cYhEfwpd7uk"
      }
    },
    {
      "cell_type": "code",
      "source": [
        "all_kitchen = df[(df['amenities'].str.contains('Kitchen')) & \n",
        "   (df['amenities'].str.contains('Cooking basics')) & \n",
        "   (df['amenities'].str.contains('Dishes and silverware')) &\n",
        "   (df['amenities'].str.contains('Coffee maker')) & \n",
        "   (df['amenities'].str.contains('Refrigerator')) &\n",
        "   (df['amenities'].str.contains('Microwave'))]"
      ],
      "metadata": {
        "id": "1IMDXznP1_yc"
      },
      "execution_count": null,
      "outputs": []
    },
    {
      "cell_type": "code",
      "source": [
        "only_kitchen = df[df['amenities'].str.contains('Kitchen')]"
      ],
      "metadata": {
        "id": "TqWV57leuIYI"
      },
      "execution_count": null,
      "outputs": []
    },
    {
      "cell_type": "code",
      "source": [
        "only_kitchen = only_kitchen[~only_kitchen['amenities'].str.contains('Cooking basics')]"
      ],
      "metadata": {
        "id": "oqOorzoZuPK8"
      },
      "execution_count": null,
      "outputs": []
    },
    {
      "cell_type": "code",
      "source": [
        "only_kitchen = only_kitchen[~only_kitchen['amenities'].str.contains('Dishes and silverware')]"
      ],
      "metadata": {
        "id": "cRU3XmiEua8S"
      },
      "execution_count": null,
      "outputs": []
    },
    {
      "cell_type": "code",
      "source": [
        "only_kitchen = only_kitchen[~only_kitchen['amenities'].str.contains('Coffee maker')]"
      ],
      "metadata": {
        "id": "80AM0o4Tua5y"
      },
      "execution_count": null,
      "outputs": []
    },
    {
      "cell_type": "code",
      "source": [
        "only_kitchen = only_kitchen[~only_kitchen['amenities'].str.contains('Refrigerator')]"
      ],
      "metadata": {
        "id": "eY5_exw0ua3b"
      },
      "execution_count": null,
      "outputs": []
    },
    {
      "cell_type": "code",
      "source": [
        "only_kitchen = only_kitchen[~only_kitchen['amenities'].str.contains('Microwave')]"
      ],
      "metadata": {
        "id": "2LSqCcp6ua02"
      },
      "execution_count": null,
      "outputs": []
    },
    {
      "cell_type": "markdown",
      "source": [
        "Then, we can compute: \n",
        "- The number of listings in 2 groups: one included only \"Kitchen\" and one with Kitchen plus other cooking things.\n",
        "- Average rating score in these 2 groups"
      ],
      "metadata": {
        "id": "_urEiX6Mh5yw"
      }
    },
    {
      "cell_type": "code",
      "source": [
        "kitchen_supply = all_kitchen.shape[0] + only_kitchen.shape[0]\n",
        "kitchen_supply"
      ],
      "metadata": {
        "colab": {
          "base_uri": "https://localhost:8080/"
        },
        "id": "yQprlAVKsjbm",
        "outputId": "074d8da1-7b37-4e5c-c6ae-1e4436ae4496"
      },
      "execution_count": null,
      "outputs": [
        {
          "output_type": "execute_result",
          "data": {
            "text/plain": [
              "9429"
            ]
          },
          "metadata": {},
          "execution_count": 88
        }
      ]
    },
    {
      "cell_type": "code",
      "source": [
        "all_rate = all_kitchen.shape[0] / kitchen_supply * 100\n",
        "only_rate = only_kitchen.shape[0] / kitchen_supply * 100"
      ],
      "metadata": {
        "id": "DCrW5-KUsjZI"
      },
      "execution_count": null,
      "outputs": []
    },
    {
      "cell_type": "code",
      "source": [
        "all_kitchen['rs_value'].mean()"
      ],
      "metadata": {
        "colab": {
          "base_uri": "https://localhost:8080/"
        },
        "id": "Z89JNmQvvTD4",
        "outputId": "48bfeb91-1cb1-4f83-98f2-125e07118c4c"
      },
      "execution_count": null,
      "outputs": [
        {
          "output_type": "execute_result",
          "data": {
            "text/plain": [
              "4.74655323819978"
            ]
          },
          "metadata": {},
          "execution_count": 90
        }
      ]
    },
    {
      "cell_type": "code",
      "source": [
        "only_kitchen['rs_value'].mean()"
      ],
      "metadata": {
        "colab": {
          "base_uri": "https://localhost:8080/"
        },
        "id": "LGsXxN65vO_o",
        "outputId": "87f139e6-29de-44d2-fa44-1b5ea8a59863"
      },
      "execution_count": null,
      "outputs": [
        {
          "output_type": "execute_result",
          "data": {
            "text/plain": [
              "4.635617886178862"
            ]
          },
          "metadata": {},
          "execution_count": 91
        }
      ]
    },
    {
      "cell_type": "code",
      "source": [
        "data = [only_rate, all_rate]\n",
        "labels = ['No other kitchen amenities listed with 4.64 of average value rating', \n",
        "          'Other kitchen amenities listed with 4.75 of average value rating']"
      ],
      "metadata": {
        "id": "Zqm69PIQsjWz"
      },
      "execution_count": null,
      "outputs": []
    },
    {
      "cell_type": "code",
      "source": [
        "compare_kitchen = pd.DataFrame(data, index=labels).reset_index()\n",
        "compare_kitchen = compare_kitchen.rename(columns={'index':'labels', 0:'percent_of_listings'})\n",
        "compare_kitchen"
      ],
      "metadata": {
        "colab": {
          "base_uri": "https://localhost:8080/",
          "height": 112
        },
        "id": "SkumfNkJlrzh",
        "outputId": "566c56a6-05f6-4317-f30d-9519c3b17a5f"
      },
      "execution_count": null,
      "outputs": [
        {
          "output_type": "execute_result",
          "data": {
            "text/plain": [
              "                                              labels  percent_of_listings\n",
              "0  No other kitchen amenities listed with 4.64 of...            13.044862\n",
              "1  Other kitchen amenities listed with 4.75 of av...            86.955138"
            ],
            "text/html": [
              "\n",
              "  <div id=\"df-40eaf772-6685-48f6-a898-a0e2678aada2\">\n",
              "    <div class=\"colab-df-container\">\n",
              "      <div>\n",
              "<style scoped>\n",
              "    .dataframe tbody tr th:only-of-type {\n",
              "        vertical-align: middle;\n",
              "    }\n",
              "\n",
              "    .dataframe tbody tr th {\n",
              "        vertical-align: top;\n",
              "    }\n",
              "\n",
              "    .dataframe thead th {\n",
              "        text-align: right;\n",
              "    }\n",
              "</style>\n",
              "<table border=\"1\" class=\"dataframe\">\n",
              "  <thead>\n",
              "    <tr style=\"text-align: right;\">\n",
              "      <th></th>\n",
              "      <th>labels</th>\n",
              "      <th>percent_of_listings</th>\n",
              "    </tr>\n",
              "  </thead>\n",
              "  <tbody>\n",
              "    <tr>\n",
              "      <th>0</th>\n",
              "      <td>No other kitchen amenities listed with 4.64 of...</td>\n",
              "      <td>13.044862</td>\n",
              "    </tr>\n",
              "    <tr>\n",
              "      <th>1</th>\n",
              "      <td>Other kitchen amenities listed with 4.75 of av...</td>\n",
              "      <td>86.955138</td>\n",
              "    </tr>\n",
              "  </tbody>\n",
              "</table>\n",
              "</div>\n",
              "      <button class=\"colab-df-convert\" onclick=\"convertToInteractive('df-40eaf772-6685-48f6-a898-a0e2678aada2')\"\n",
              "              title=\"Convert this dataframe to an interactive table.\"\n",
              "              style=\"display:none;\">\n",
              "        \n",
              "  <svg xmlns=\"http://www.w3.org/2000/svg\" height=\"24px\"viewBox=\"0 0 24 24\"\n",
              "       width=\"24px\">\n",
              "    <path d=\"M0 0h24v24H0V0z\" fill=\"none\"/>\n",
              "    <path d=\"M18.56 5.44l.94 2.06.94-2.06 2.06-.94-2.06-.94-.94-2.06-.94 2.06-2.06.94zm-11 1L8.5 8.5l.94-2.06 2.06-.94-2.06-.94L8.5 2.5l-.94 2.06-2.06.94zm10 10l.94 2.06.94-2.06 2.06-.94-2.06-.94-.94-2.06-.94 2.06-2.06.94z\"/><path d=\"M17.41 7.96l-1.37-1.37c-.4-.4-.92-.59-1.43-.59-.52 0-1.04.2-1.43.59L10.3 9.45l-7.72 7.72c-.78.78-.78 2.05 0 2.83L4 21.41c.39.39.9.59 1.41.59.51 0 1.02-.2 1.41-.59l7.78-7.78 2.81-2.81c.8-.78.8-2.07 0-2.86zM5.41 20L4 18.59l7.72-7.72 1.47 1.35L5.41 20z\"/>\n",
              "  </svg>\n",
              "      </button>\n",
              "      \n",
              "  <style>\n",
              "    .colab-df-container {\n",
              "      display:flex;\n",
              "      flex-wrap:wrap;\n",
              "      gap: 12px;\n",
              "    }\n",
              "\n",
              "    .colab-df-convert {\n",
              "      background-color: #E8F0FE;\n",
              "      border: none;\n",
              "      border-radius: 50%;\n",
              "      cursor: pointer;\n",
              "      display: none;\n",
              "      fill: #1967D2;\n",
              "      height: 32px;\n",
              "      padding: 0 0 0 0;\n",
              "      width: 32px;\n",
              "    }\n",
              "\n",
              "    .colab-df-convert:hover {\n",
              "      background-color: #E2EBFA;\n",
              "      box-shadow: 0px 1px 2px rgba(60, 64, 67, 0.3), 0px 1px 3px 1px rgba(60, 64, 67, 0.15);\n",
              "      fill: #174EA6;\n",
              "    }\n",
              "\n",
              "    [theme=dark] .colab-df-convert {\n",
              "      background-color: #3B4455;\n",
              "      fill: #D2E3FC;\n",
              "    }\n",
              "\n",
              "    [theme=dark] .colab-df-convert:hover {\n",
              "      background-color: #434B5C;\n",
              "      box-shadow: 0px 1px 3px 1px rgba(0, 0, 0, 0.15);\n",
              "      filter: drop-shadow(0px 1px 2px rgba(0, 0, 0, 0.3));\n",
              "      fill: #FFFFFF;\n",
              "    }\n",
              "  </style>\n",
              "\n",
              "      <script>\n",
              "        const buttonEl =\n",
              "          document.querySelector('#df-40eaf772-6685-48f6-a898-a0e2678aada2 button.colab-df-convert');\n",
              "        buttonEl.style.display =\n",
              "          google.colab.kernel.accessAllowed ? 'block' : 'none';\n",
              "\n",
              "        async function convertToInteractive(key) {\n",
              "          const element = document.querySelector('#df-40eaf772-6685-48f6-a898-a0e2678aada2');\n",
              "          const dataTable =\n",
              "            await google.colab.kernel.invokeFunction('convertToInteractive',\n",
              "                                                     [key], {});\n",
              "          if (!dataTable) return;\n",
              "\n",
              "          const docLinkHtml = 'Like what you see? Visit the ' +\n",
              "            '<a target=\"_blank\" href=https://colab.research.google.com/notebooks/data_table.ipynb>data table notebook</a>'\n",
              "            + ' to learn more about interactive tables.';\n",
              "          element.innerHTML = '';\n",
              "          dataTable['output_type'] = 'display_data';\n",
              "          await google.colab.output.renderOutput(dataTable, element);\n",
              "          const docLink = document.createElement('div');\n",
              "          docLink.innerHTML = docLinkHtml;\n",
              "          element.appendChild(docLink);\n",
              "        }\n",
              "      </script>\n",
              "    </div>\n",
              "  </div>\n",
              "  "
            ]
          },
          "metadata": {},
          "execution_count": 93
        }
      ]
    },
    {
      "cell_type": "code",
      "source": [
        "plt.pie(compare_kitchen['percent_of_listings'].values, labels=compare_kitchen['labels'], autopct='%.0f%%', explode=[0.05]*2)\n",
        "plt.show()"
      ],
      "metadata": {
        "colab": {
          "base_uri": "https://localhost:8080/",
          "height": 248
        },
        "id": "MFlrxwXomHti",
        "outputId": "0aebf110-6e08-41bc-ce2e-841a91b5a378"
      },
      "execution_count": null,
      "outputs": [
        {
          "output_type": "display_data",
          "data": {
            "text/plain": [
              "<Figure size 432x288 with 1 Axes>"
            ],
            "image/png": "[encoded data removed]"
          },
          "metadata": {}
        }
      ]
    },
    {
      "cell_type": "markdown",
      "source": [
        "Of the 9429 listings with kitchen listed in the Amenity section:\n",
        "- Listings that included Kitchen and its relevant amenities have a high rating with 4.75 and there is 87% of listings that is currently advertised like that. <br> \n",
        "- The remained 13% of listings that included only \"Kitchen\" in amenity get lower rating score with 4.64 . <br>\n",
        "\n",
        "This can be understandable from guest's perspective. If a host mentioned only \"Kitchen\" in the amenity without other equipments, guests still expect to get a full set of cooking things. And if the host did not provide at level the guests expected, they will have negative feelings, which leads to a low of value rating score. Therefore, hosts should mention in details what they can offer to avoid high expectation from guests and also help guests to be prepared by themselves. "
      ],
      "metadata": {
        "id": "PvicFYP3fsAi"
      }
    },
    {
      "cell_type": "markdown",
      "source": [
        "## Conclusion"
      ],
      "metadata": {
        "id": "Zz1BDsRBi2AO"
      }
    },
    {
      "cell_type": "markdown",
      "source": [
        "- Guest's expectation can change with the listing size. Listings with larger sizes tend to have a wide range of price and guests would take it into consideration. Each of guest has different points of view of what is valuable to them based on what they received and rating score therefore will also be given subjectively. \n",
        "- When one place has too many listings, guests can have a wide range of choices for choosing based on their demands. That's when the comparisons come out and rating scores now are varied significantly. Additionally, properties in places with high density of listing can struggle to achieve a 4.8-score of rating than properties in places where listings are sparsely distributed. \n",
        "- If one host has too many properties to manage at once, they hardly catch up with little things in each listings, which may fail the guest's expectation. Moreover, there are also some interesting patterns to be found out as well: \n",
        "  - Superhosts, which are the experienced ones, tend to get over challenges of multiple listings management and meet the demand of guest much more easily.\n",
        "  - Host with multiple listings tend to turn on \"instant book\" to help with response rate improvement. However, this can be a double-edged sword as when the guest book a listing to fast, they tend to ignore things and there is a high chance those are the important ones that host would like to notice guests in advance. This behaviour can be resulted into disappointment after they experienced in persons and can hurt the reputation of hosts eventually. \n",
        "- Amenities play a critical role in adding value to listing, especially the free ones. Additionally, hosts should be specific in what amenities they can offer in order to avoid high expectation from guests. \n"
      ],
      "metadata": {
        "id": "UfAp1Qvhi4s3"
      }
    },
    {
      "cell_type": "markdown",
      "source": [
        "# Export to Google Sheet Report"
      ],
      "metadata": {
        "id": "cAw27eEBjpfv"
      }
    },
    {
      "cell_type": "code",
      "source": [
        "# Mount to Google Sheets \n",
        "from google.colab import auth\n",
        "auth.authenticate_user()\n",
        "\n",
        "# Import neccessary libraries -- Đi học syntax \n",
        "import gspread\n",
        "from google.auth import default\n",
        "creds, _ = default()\n",
        "from gspread_dataframe import set_with_dataframe\n",
        "\n",
        "# Authorize Google Sheets API\n",
        "gc = gspread.authorize(creds)"
      ],
      "metadata": {
        "colab": {
          "base_uri": "https://localhost:8080/"
        },
        "id": "CTESwVbYcTNz",
        "outputId": "ad15482d-0990-4165-d02a-6faf76955b4d"
      },
      "execution_count": null,
      "outputs": [
        {
          "output_type": "stream",
          "name": "stderr",
          "text": [
            "WARNING:google.auth._default:No project ID could be determined. Consider running `gcloud config set project` or setting the GOOGLE_CLOUD_PROJECT environment variable\n"
          ]
        }
      ]
    },
    {
      "cell_type": "code",
      "source": [
        "# Create a new Google Spreadsheets\n",
        "sh = gc.create('airbnb_value_analysis_final')"
      ],
      "metadata": {
        "id": "btfuAICPssmz"
      },
      "execution_count": null,
      "outputs": []
    },
    {
      "cell_type": "markdown",
      "source": [
        "Tables to export: \n",
        "- Size of listing: \n",
        "  - plot_acc (regplot)\n",
        "  - df_size (boxplot)\n",
        "  - acc_neighbourhood_compare\n",
        "  - df_acc2 & df_acc16 (boxplot comparison)\n",
        "- Density:\n",
        "  - rounded_density (regplot)\n",
        "  - grouped_density (barplot)\n",
        "- Multiple properties:\n",
        "  - plot_manage (regplot + barplot)\n",
        "  - plot_superhost (regplot)\n",
        "  - plot_instant (regplot)\n",
        "- Amenities:\n",
        "  - rating\n",
        "  - compare_type\n",
        "  - compare_kitchen"
      ],
      "metadata": {
        "id": "ssS6V-6AkIQI"
      }
    },
    {
      "cell_type": "code",
      "source": [
        "def export_data_to_new_sheet(gsheet_key, worksheet_name, data):\n",
        "\n",
        "    sh = gc.open_by_key(gsheet_key)\n",
        "    \n",
        "    # To create a new worksheet with 1000 rows and 26 columns\n",
        "    worksheet = sh.add_worksheet(worksheet_name, 20000, 26)\n",
        "\n",
        "    # For writing to an existing worksheet\n",
        "    # worksheet = sh.get_worksheet(0) # --> to get the first worksheet\n",
        "\n",
        "    set_with_dataframe(worksheet, data)"
      ],
      "metadata": {
        "id": "QEdT4xMDjwr_"
      },
      "execution_count": null,
      "outputs": []
    },
    {
      "cell_type": "code",
      "source": [
        "export_data_to_new_sheet('1-ssj4XHfcLg1yiU3W0rzXbvp6MXh-jZxh-2CNSRGUIM', 'corr_accommodates_rating', plot_acc)\n",
        "export_data_to_new_sheet('1-ssj4XHfcLg1yiU3W0rzXbvp6MXh-jZxh-2CNSRGUIM', 'listing_size_all_dataset', df_size_short)\n",
        "export_data_to_new_sheet('1-ssj4XHfcLg1yiU3W0rzXbvp6MXh-jZxh-2CNSRGUIM', 'accommodates_neighbourhood', acc_neighbourhood_compare)\n",
        "export_data_to_new_sheet('1-ssj4XHfcLg1yiU3W0rzXbvp6MXh-jZxh-2CNSRGUIM', 'anaheim_data', anaheim_data)\n",
        "export_data_to_new_sheet('1-ssj4XHfcLg1yiU3W0rzXbvp6MXh-jZxh-2CNSRGUIM', 'sherman_data', sherman_data)\n",
        "export_data_to_new_sheet('1-ssj4XHfcLg1yiU3W0rzXbvp6MXh-jZxh-2CNSRGUIM', 'neighbourhood_overview', neighbourhood_overview)\n",
        "export_data_to_new_sheet('1-ssj4XHfcLg1yiU3W0rzXbvp6MXh-jZxh-2CNSRGUIM', 'corr_density_rating', rounded_density)\n",
        "export_data_to_new_sheet('1-ssj4XHfcLg1yiU3W0rzXbvp6MXh-jZxh-2CNSRGUIM', 'group_density', grouped_density)\n",
        "export_data_to_new_sheet('1-ssj4XHfcLg1yiU3W0rzXbvp6MXh-jZxh-2CNSRGUIM', 'corr_manage_rating', plot_manage)\n",
        "export_data_to_new_sheet('1-ssj4XHfcLg1yiU3W0rzXbvp6MXh-jZxh-2CNSRGUIM', 'corr_superhost', plot_superhost)\n",
        "export_data_to_new_sheet('1-ssj4XHfcLg1yiU3W0rzXbvp6MXh-jZxh-2CNSRGUIM', 'corr_instant', plot_instant)\n",
        "export_data_to_new_sheet('1-ssj4XHfcLg1yiU3W0rzXbvp6MXh-jZxh-2CNSRGUIM', 'amenities_rating', rating)\n",
        "export_data_to_new_sheet('1-ssj4XHfcLg1yiU3W0rzXbvp6MXh-jZxh-2CNSRGUIM', 'compare_free_paid', compare_type)\n",
        "export_data_to_new_sheet('1-ssj4XHfcLg1yiU3W0rzXbvp6MXh-jZxh-2CNSRGUIM', 'compare_kitchen', compare_kitchen)"
      ],
      "metadata": {
        "id": "K8H9RLn6s8kz"
      },
      "execution_count": null,
      "outputs": []
    }
  ]
}